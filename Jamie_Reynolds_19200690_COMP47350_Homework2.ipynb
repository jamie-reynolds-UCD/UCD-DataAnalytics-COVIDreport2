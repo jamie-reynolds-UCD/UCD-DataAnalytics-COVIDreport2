{
 "cells": [
  {
   "cell_type": "code",
   "execution_count": 1,
   "id": "eastern-worse",
   "metadata": {},
   "outputs": [],
   "source": [
    "%config IPCompleter.greedy=True\n",
    "%config Completer.use_jedi = False"
   ]
  },
  {
   "cell_type": "code",
   "execution_count": 2,
   "id": "violent-department",
   "metadata": {},
   "outputs": [],
   "source": [
    "import pandas as pd\n",
    "import numpy as np\n",
    "import seaborn as sns\n",
    "import matplotlib.pyplot as plt\n",
    "import matplotlib.patches as mpatches\n",
    "\n",
    "from patsy import dmatrices\n",
    "\n",
    "from sklearn.linear_model import LinearRegression\n",
    "from sklearn.linear_model import LogisticRegression\n",
    "from sklearn.tree import DecisionTreeClassifier\n",
    "from sklearn.ensemble import RandomForestClassifier\n",
    "from sklearn.model_selection import train_test_split\n",
    "from sklearn import metrics\n",
    "from sklearn.model_selection import cross_validate\n",
    "from sklearn.model_selection import cross_val_score\n",
    "from sklearn.tree import export_graphviz\n",
    "\n",
    "import graphviz\n",
    "from graphviz import Source\n",
    "\n",
    "# ignore warnings\n",
    "import warnings\n",
    "warnings.filterwarnings('ignore')"
   ]
  },
  {
   "cell_type": "markdown",
   "id": "excessive-synthetic",
   "metadata": {},
   "source": [
    "# (1) Data understanding and prep:\n",
    "\n",
    "The original dataset from CDC that was cleaned in the previous homework assignment is now imported as a starting point for this work. \n",
    "1. The accompanying data quality report from the previous homework assignment can be found attached as PDF as a background to this cleaned dataset.\n",
    "2. A summary of this plan can be seen in the table below.\n",
    "3. In addition a number of extra features were added that were not in the original dataset:\n",
    "    - **time_dif**: The time delta between the earliest date on record and the reported date of each case for each entry.\n",
    "    - **elderly**: Yes if the age_group of the person in the entry is 60–69 Years, 70–79 Years, or 80+ Years. No otherwise.\n",
    "    - **quarter**: If the case occurs in the first quartile of the span of time that cases are recorded, then it is designated as 'first', if the case occurs in the second quartile of the span of time that cases are recorded, then it is designated as 'second', and so on.\n"
   ]
  },
  {
   "cell_type": "markdown",
   "id": "patient-participation",
   "metadata": {},
   "source": [
    "### Summary of data quality plan:"
   ]
  },
  {
   "cell_type": "markdown",
   "id": "tamil-marketing",
   "metadata": {},
   "source": [
    "**Variable Names**|**Data Quality Issue**|**Handling Strategy**\n",
    ":-----:|:-----:|:-----:\n",
    "earliest\\_date|logical errors|change value for  the 'earliest\\_date' column to the minimum value for the column\n",
    "report\\_date|missing 24.08% of its values.|do nothing\n",
    "posSpec\\_date|missing 72.74% of its values|drop column\n",
    "onset|missing 49.16 % of its values; imperfect method of data collection|drop column\n",
    "status|logical errors|remove failed rows\n",
    "sex|missing 0.82% of its values|remove rows with missing values\n",
    "age\\_group|missing 0.1% of its values|remove rows with missing values\n",
    "race\\_ethnicity|missing 42.54% of its values|do nothing\n",
    "hosp|missing 41.25% of its values|do nothing\n",
    "icu|missing 89.35% of its values|drop column\n",
    "death|none|do nothing\n",
    "medcond|missing 82.83% of its values|drop column"
   ]
  },
  {
   "cell_type": "markdown",
   "id": "noted-specialist",
   "metadata": {},
   "source": [
    "##  1.1 Review, prepare and split the dataset into two datasets: 70% training and 30% test\n"
   ]
  },
  {
   "cell_type": "markdown",
   "id": "swiss-blade",
   "metadata": {},
   "source": [
    "### Opening the cleaned CSV file from the previous homework assignment"
   ]
  },
  {
   "cell_type": "code",
   "execution_count": 3,
   "id": "impressive-option",
   "metadata": {},
   "outputs": [],
   "source": [
    "df = pd.read_csv('covid19-cdc-19200690_cleaned_1_3.csv', index_col=0)"
   ]
  },
  {
   "cell_type": "markdown",
   "id": "proud-relay",
   "metadata": {},
   "source": [
    "### Printing the shape of the dataframe, the first five rows and the last five rows"
   ]
  },
  {
   "cell_type": "code",
   "execution_count": 4,
   "id": "confirmed-writer",
   "metadata": {},
   "outputs": [
    {
     "data": {
      "text/plain": [
       "(9697, 11)"
      ]
     },
     "execution_count": 4,
     "metadata": {},
     "output_type": "execute_result"
    }
   ],
   "source": [
    "df.shape"
   ]
  },
  {
   "cell_type": "code",
   "execution_count": 5,
   "id": "first-header",
   "metadata": {},
   "outputs": [
    {
     "data": {
      "text/html": [
       "<div>\n",
       "<style scoped>\n",
       "    .dataframe tbody tr th:only-of-type {\n",
       "        vertical-align: middle;\n",
       "    }\n",
       "\n",
       "    .dataframe tbody tr th {\n",
       "        vertical-align: top;\n",
       "    }\n",
       "\n",
       "    .dataframe thead th {\n",
       "        text-align: right;\n",
       "    }\n",
       "</style>\n",
       "<table border=\"1\" class=\"dataframe\">\n",
       "  <thead>\n",
       "    <tr style=\"text-align: right;\">\n",
       "      <th></th>\n",
       "      <th>earliest_date</th>\n",
       "      <th>report_date</th>\n",
       "      <th>status</th>\n",
       "      <th>sex</th>\n",
       "      <th>age_group</th>\n",
       "      <th>race_ethnicity</th>\n",
       "      <th>hosp</th>\n",
       "      <th>death</th>\n",
       "      <th>time_dif</th>\n",
       "      <th>elderly</th>\n",
       "      <th>quarter</th>\n",
       "    </tr>\n",
       "  </thead>\n",
       "  <tbody>\n",
       "    <tr>\n",
       "      <th>0</th>\n",
       "      <td>2020-12-16</td>\n",
       "      <td>NaN</td>\n",
       "      <td>Laboratory-confirmed case</td>\n",
       "      <td>Female</td>\n",
       "      <td>20 - 29 Years</td>\n",
       "      <td>Unknown</td>\n",
       "      <td>Unknown</td>\n",
       "      <td>No</td>\n",
       "      <td>NaN</td>\n",
       "      <td>No</td>\n",
       "      <td>fourth</td>\n",
       "    </tr>\n",
       "    <tr>\n",
       "      <th>1</th>\n",
       "      <td>2020-11-10</td>\n",
       "      <td>2020-11-13</td>\n",
       "      <td>Laboratory-confirmed case</td>\n",
       "      <td>Male</td>\n",
       "      <td>40 - 49 Years</td>\n",
       "      <td>White, Non-Hispanic</td>\n",
       "      <td>Missing</td>\n",
       "      <td>No</td>\n",
       "      <td>3 days</td>\n",
       "      <td>No</td>\n",
       "      <td>fourth</td>\n",
       "    </tr>\n",
       "    <tr>\n",
       "      <th>2</th>\n",
       "      <td>2020-10-12</td>\n",
       "      <td>2020-10-16</td>\n",
       "      <td>Laboratory-confirmed case</td>\n",
       "      <td>Female</td>\n",
       "      <td>20 - 29 Years</td>\n",
       "      <td>White, Non-Hispanic</td>\n",
       "      <td>No</td>\n",
       "      <td>No</td>\n",
       "      <td>4 days</td>\n",
       "      <td>No</td>\n",
       "      <td>third</td>\n",
       "    </tr>\n",
       "    <tr>\n",
       "      <th>3</th>\n",
       "      <td>2021-01-15</td>\n",
       "      <td>2021-01-15</td>\n",
       "      <td>Laboratory-confirmed case</td>\n",
       "      <td>Male</td>\n",
       "      <td>50 - 59 Years</td>\n",
       "      <td>White, Non-Hispanic</td>\n",
       "      <td>No</td>\n",
       "      <td>No</td>\n",
       "      <td>0 days</td>\n",
       "      <td>No</td>\n",
       "      <td>fourth</td>\n",
       "    </tr>\n",
       "    <tr>\n",
       "      <th>4</th>\n",
       "      <td>2021-01-01</td>\n",
       "      <td>NaN</td>\n",
       "      <td>Laboratory-confirmed case</td>\n",
       "      <td>Female</td>\n",
       "      <td>30 - 39 Years</td>\n",
       "      <td>White, Non-Hispanic</td>\n",
       "      <td>Missing</td>\n",
       "      <td>No</td>\n",
       "      <td>NaN</td>\n",
       "      <td>No</td>\n",
       "      <td>fourth</td>\n",
       "    </tr>\n",
       "  </tbody>\n",
       "</table>\n",
       "</div>"
      ],
      "text/plain": [
       "  earliest_date report_date                     status     sex      age_group  \\\n",
       "0    2020-12-16         NaN  Laboratory-confirmed case  Female  20 - 29 Years   \n",
       "1    2020-11-10  2020-11-13  Laboratory-confirmed case    Male  40 - 49 Years   \n",
       "2    2020-10-12  2020-10-16  Laboratory-confirmed case  Female  20 - 29 Years   \n",
       "3    2021-01-15  2021-01-15  Laboratory-confirmed case    Male  50 - 59 Years   \n",
       "4    2021-01-01         NaN  Laboratory-confirmed case  Female  30 - 39 Years   \n",
       "\n",
       "        race_ethnicity     hosp death time_dif elderly quarter  \n",
       "0              Unknown  Unknown    No      NaN      No  fourth  \n",
       "1  White, Non-Hispanic  Missing    No   3 days      No  fourth  \n",
       "2  White, Non-Hispanic       No    No   4 days      No   third  \n",
       "3  White, Non-Hispanic       No    No   0 days      No  fourth  \n",
       "4  White, Non-Hispanic  Missing    No      NaN      No  fourth  "
      ]
     },
     "execution_count": 5,
     "metadata": {},
     "output_type": "execute_result"
    }
   ],
   "source": [
    "df.head()"
   ]
  },
  {
   "cell_type": "code",
   "execution_count": 6,
   "id": "chief-canal",
   "metadata": {},
   "outputs": [
    {
     "data": {
      "text/html": [
       "<div>\n",
       "<style scoped>\n",
       "    .dataframe tbody tr th:only-of-type {\n",
       "        vertical-align: middle;\n",
       "    }\n",
       "\n",
       "    .dataframe tbody tr th {\n",
       "        vertical-align: top;\n",
       "    }\n",
       "\n",
       "    .dataframe thead th {\n",
       "        text-align: right;\n",
       "    }\n",
       "</style>\n",
       "<table border=\"1\" class=\"dataframe\">\n",
       "  <thead>\n",
       "    <tr style=\"text-align: right;\">\n",
       "      <th></th>\n",
       "      <th>earliest_date</th>\n",
       "      <th>report_date</th>\n",
       "      <th>status</th>\n",
       "      <th>sex</th>\n",
       "      <th>age_group</th>\n",
       "      <th>race_ethnicity</th>\n",
       "      <th>hosp</th>\n",
       "      <th>death</th>\n",
       "      <th>time_dif</th>\n",
       "      <th>elderly</th>\n",
       "      <th>quarter</th>\n",
       "    </tr>\n",
       "  </thead>\n",
       "  <tbody>\n",
       "    <tr>\n",
       "      <th>9692</th>\n",
       "      <td>2020-08-10</td>\n",
       "      <td>NaN</td>\n",
       "      <td>Laboratory-confirmed case</td>\n",
       "      <td>Female</td>\n",
       "      <td>70 - 79 Years</td>\n",
       "      <td>Unknown</td>\n",
       "      <td>No</td>\n",
       "      <td>No</td>\n",
       "      <td>NaN</td>\n",
       "      <td>Yes</td>\n",
       "      <td>third</td>\n",
       "    </tr>\n",
       "    <tr>\n",
       "      <th>9693</th>\n",
       "      <td>2020-10-13</td>\n",
       "      <td>2020-10-19</td>\n",
       "      <td>Laboratory-confirmed case</td>\n",
       "      <td>Female</td>\n",
       "      <td>30 - 39 Years</td>\n",
       "      <td>Unknown</td>\n",
       "      <td>No</td>\n",
       "      <td>No</td>\n",
       "      <td>6 days</td>\n",
       "      <td>No</td>\n",
       "      <td>third</td>\n",
       "    </tr>\n",
       "    <tr>\n",
       "      <th>9694</th>\n",
       "      <td>2020-08-04</td>\n",
       "      <td>2020-08-04</td>\n",
       "      <td>Laboratory-confirmed case</td>\n",
       "      <td>Female</td>\n",
       "      <td>80+ Years</td>\n",
       "      <td>Black, Non-Hispanic</td>\n",
       "      <td>No</td>\n",
       "      <td>No</td>\n",
       "      <td>0 days</td>\n",
       "      <td>Yes</td>\n",
       "      <td>third</td>\n",
       "    </tr>\n",
       "    <tr>\n",
       "      <th>9695</th>\n",
       "      <td>2020-12-12</td>\n",
       "      <td>NaN</td>\n",
       "      <td>Laboratory-confirmed case</td>\n",
       "      <td>Male</td>\n",
       "      <td>20 - 29 Years</td>\n",
       "      <td>Unknown</td>\n",
       "      <td>Missing</td>\n",
       "      <td>No</td>\n",
       "      <td>NaN</td>\n",
       "      <td>No</td>\n",
       "      <td>fourth</td>\n",
       "    </tr>\n",
       "    <tr>\n",
       "      <th>9696</th>\n",
       "      <td>2020-11-14</td>\n",
       "      <td>2020-11-25</td>\n",
       "      <td>Laboratory-confirmed case</td>\n",
       "      <td>Male</td>\n",
       "      <td>50 - 59 Years</td>\n",
       "      <td>Black, Non-Hispanic</td>\n",
       "      <td>No</td>\n",
       "      <td>No</td>\n",
       "      <td>11 days</td>\n",
       "      <td>No</td>\n",
       "      <td>fourth</td>\n",
       "    </tr>\n",
       "  </tbody>\n",
       "</table>\n",
       "</div>"
      ],
      "text/plain": [
       "     earliest_date report_date                     status     sex  \\\n",
       "9692    2020-08-10         NaN  Laboratory-confirmed case  Female   \n",
       "9693    2020-10-13  2020-10-19  Laboratory-confirmed case  Female   \n",
       "9694    2020-08-04  2020-08-04  Laboratory-confirmed case  Female   \n",
       "9695    2020-12-12         NaN  Laboratory-confirmed case    Male   \n",
       "9696    2020-11-14  2020-11-25  Laboratory-confirmed case    Male   \n",
       "\n",
       "          age_group       race_ethnicity     hosp death time_dif elderly  \\\n",
       "9692  70 - 79 Years              Unknown       No    No      NaN     Yes   \n",
       "9693  30 - 39 Years              Unknown       No    No   6 days      No   \n",
       "9694      80+ Years  Black, Non-Hispanic       No    No   0 days     Yes   \n",
       "9695  20 - 29 Years              Unknown  Missing    No      NaN      No   \n",
       "9696  50 - 59 Years  Black, Non-Hispanic       No    No  11 days      No   \n",
       "\n",
       "     quarter  \n",
       "9692   third  \n",
       "9693   third  \n",
       "9694   third  \n",
       "9695  fourth  \n",
       "9696  fourth  "
      ]
     },
     "execution_count": 6,
     "metadata": {},
     "output_type": "execute_result"
    }
   ],
   "source": [
    "df.tail()"
   ]
  },
  {
   "cell_type": "markdown",
   "id": "moral-contamination",
   "metadata": {},
   "source": [
    "### Inspect the datatypes and check for null values"
   ]
  },
  {
   "cell_type": "code",
   "execution_count": 7,
   "id": "valued-regard",
   "metadata": {},
   "outputs": [
    {
     "data": {
      "text/plain": [
       "earliest_date     object\n",
       "report_date       object\n",
       "status            object\n",
       "sex               object\n",
       "age_group         object\n",
       "race_ethnicity    object\n",
       "hosp              object\n",
       "death             object\n",
       "time_dif          object\n",
       "elderly           object\n",
       "quarter           object\n",
       "dtype: object"
      ]
     },
     "execution_count": 7,
     "metadata": {},
     "output_type": "execute_result"
    }
   ],
   "source": [
    "df.dtypes"
   ]
  },
  {
   "cell_type": "code",
   "execution_count": 8,
   "id": "impressed-greek",
   "metadata": {},
   "outputs": [
    {
     "data": {
      "text/plain": [
       "earliest_date        0\n",
       "report_date       2366\n",
       "status               0\n",
       "sex                  0\n",
       "age_group            0\n",
       "race_ethnicity       0\n",
       "hosp                 0\n",
       "death                0\n",
       "time_dif          2366\n",
       "elderly              0\n",
       "quarter              0\n",
       "dtype: int64"
      ]
     },
     "execution_count": 8,
     "metadata": {},
     "output_type": "execute_result"
    }
   ],
   "source": [
    "df.isna().sum()"
   ]
  },
  {
   "cell_type": "markdown",
   "id": "intelligent-forestry",
   "metadata": {},
   "source": [
    "### Columns will need to be converted to their appropriate data types"
   ]
  },
  {
   "cell_type": "markdown",
   "id": "manual-fortune",
   "metadata": {},
   "source": [
    "- **select the continuous columns, and assign the list of these column names to the variable 'continuous'**"
   ]
  },
  {
   "cell_type": "code",
   "execution_count": 9,
   "id": "revolutionary-letter",
   "metadata": {},
   "outputs": [
    {
     "data": {
      "text/plain": [
       "Index(['earliest_date', 'report_date', 'time_dif'], dtype='object')"
      ]
     },
     "execution_count": 9,
     "metadata": {},
     "output_type": "execute_result"
    }
   ],
   "source": [
    "continuous = df[['earliest_date','report_date','time_dif']].columns\n",
    "continuous"
   ]
  },
  {
   "cell_type": "markdown",
   "id": "parental-speaker",
   "metadata": {},
   "source": [
    "#### There are 2 types of continuous column: datetime and time delta. Each column needs to be converted to its corresponding type"
   ]
  },
  {
   "cell_type": "code",
   "execution_count": 10,
   "id": "frequent-scotland",
   "metadata": {},
   "outputs": [
    {
     "data": {
      "text/plain": [
       "Index(['earliest_date', 'report_date'], dtype='object')"
      ]
     },
     "execution_count": 10,
     "metadata": {},
     "output_type": "execute_result"
    }
   ],
   "source": [
    "# datetime\n",
    "datetime = df[['earliest_date','report_date']].columns\n",
    "datetime"
   ]
  },
  {
   "cell_type": "markdown",
   "id": "outside-margin",
   "metadata": {},
   "source": [
    "#### Convert date time columns to type datetime"
   ]
  },
  {
   "cell_type": "code",
   "execution_count": 11,
   "id": "greater-springer",
   "metadata": {},
   "outputs": [],
   "source": [
    "for date in datetime:\n",
    "    df[date] = df[date].astype('datetime64')"
   ]
  },
  {
   "cell_type": "markdown",
   "id": "connected-radiation",
   "metadata": {},
   "source": [
    "#### Convert time delta column to type time delta"
   ]
  },
  {
   "cell_type": "code",
   "execution_count": 12,
   "id": "indie-charlotte",
   "metadata": {},
   "outputs": [],
   "source": [
    "# timedelta\n",
    "df['time_dif'] = pd.to_timedelta(df['time_dif'])"
   ]
  },
  {
   "cell_type": "code",
   "execution_count": 13,
   "id": "spiritual-lighting",
   "metadata": {},
   "outputs": [
    {
     "data": {
      "text/plain": [
       "earliest_date     datetime64[ns]\n",
       "report_date       datetime64[ns]\n",
       "time_dif         timedelta64[ns]\n",
       "dtype: object"
      ]
     },
     "execution_count": 13,
     "metadata": {},
     "output_type": "execute_result"
    }
   ],
   "source": [
    "df[continuous].dtypes"
   ]
  },
  {
   "cell_type": "markdown",
   "id": "involved-general",
   "metadata": {},
   "source": [
    "#### Select the columns for the categorical table, and assign the list of these column names to the variable 'categorical'"
   ]
  },
  {
   "cell_type": "code",
   "execution_count": 14,
   "id": "prime-gamma",
   "metadata": {},
   "outputs": [
    {
     "data": {
      "text/plain": [
       "Index(['status', 'sex', 'age_group', 'race_ethnicity', 'hosp', 'elderly',\n",
       "       'quarter'],\n",
       "      dtype='object')"
      ]
     },
     "execution_count": 14,
     "metadata": {},
     "output_type": "execute_result"
    }
   ],
   "source": [
    "categorical = df[['status','sex','age_group','race_ethnicity','hosp','elderly', 'quarter']].columns\n",
    "categorical"
   ]
  },
  {
   "cell_type": "markdown",
   "id": "critical-zealand",
   "metadata": {},
   "source": [
    "#### Convert each of these features to type 'category'"
   ]
  },
  {
   "cell_type": "code",
   "execution_count": 15,
   "id": "exposed-subject",
   "metadata": {},
   "outputs": [
    {
     "data": {
      "text/plain": [
       "status            category\n",
       "sex               category\n",
       "age_group         category\n",
       "race_ethnicity    category\n",
       "hosp              category\n",
       "elderly           category\n",
       "quarter           category\n",
       "dtype: object"
      ]
     },
     "execution_count": 15,
     "metadata": {},
     "output_type": "execute_result"
    }
   ],
   "source": [
    "for col in categorical:\n",
    "    df[col] = df[col].astype('category')\n",
    "    \n",
    "df[categorical].dtypes"
   ]
  },
  {
   "cell_type": "markdown",
   "id": "perfect-narrow",
   "metadata": {},
   "source": [
    "### Convert datatypes for plotting later\n",
    "\n",
    "We will now review the datatypes and convert if needed. This will help avoid plotting errors later in the notebook\n",
    "- The target feature \"death\" is categorical, with values \"Yes\" and \"No\". These will be mapped 'Yes': 1, \"No\": 0 and stored as \"int64\".\n",
    "- The feature \"status\" is categorical, with values \"Laboratory-confirmed Case\" and \"Probable Case\". These will be mapped 'Laboratory-confirmed Case': 1, \"Probable Case\": 0 and stored as \"int64\".\n",
    "- The feature \"sex\" is categorical, with values \"Female\" and \"Male\". These will be mapped 'Female': 1, \"Male\": 0 and stored as \"int64\".\n",
    "- The feature \"elderly\" is categorical, with values \"Yes\" and \"No\". This will be mapped 'Yes': 1, \"No\": 0 and stored as \"int64\"."
   ]
  },
  {
   "cell_type": "code",
   "execution_count": 16,
   "id": "known-large",
   "metadata": {},
   "outputs": [],
   "source": [
    "# convert \"death\" to 0,1\n",
    "df['death'] = df['death'].map({'Yes': 1, \"No\": 0})\n",
    "\n",
    "# convert \"status\" to 0,1\n",
    "df['status'] = df['status'].map({'Laboratory-confirmed case': 1, \"Probable Case\": 0})\n",
    "\n",
    "# convert \"sex\" to 0,1\n",
    "df['sex'] = df['sex'].map({'Female': 1, \"Male\": 0})\n",
    "\n",
    "# convert \"elderly\" to 0,1\n",
    "df['elderly'] = df['elderly'].map({'Yes': 1, \"No\": 0})\n"
   ]
  },
  {
   "cell_type": "markdown",
   "id": "complicated-favorite",
   "metadata": {},
   "source": [
    "#### Convert each binary categorical feature to type int64"
   ]
  },
  {
   "cell_type": "code",
   "execution_count": 17,
   "id": "annual-joint",
   "metadata": {},
   "outputs": [],
   "source": [
    "# convert \"death\" to int\n",
    "df['death'] = df['death'].astype('int64')\n",
    "\n",
    "# convert \"status\" to int\n",
    "df['status'] = df['status'].astype('int64')\n",
    "\n",
    "# convert \"sex\" to int\n",
    "df['sex'] = df['sex'].astype('int64')\n",
    "\n",
    "# convert \"elderly\" to int\n",
    "df['elderly'] = df['elderly'].astype('int64')"
   ]
  },
  {
   "cell_type": "code",
   "execution_count": 18,
   "id": "architectural-branch",
   "metadata": {},
   "outputs": [
    {
     "data": {
      "text/plain": [
       "earliest_date      datetime64[ns]\n",
       "report_date        datetime64[ns]\n",
       "status                      int64\n",
       "sex                         int64\n",
       "age_group                category\n",
       "race_ethnicity           category\n",
       "hosp                     category\n",
       "death                       int64\n",
       "time_dif          timedelta64[ns]\n",
       "elderly                     int64\n",
       "quarter                  category\n",
       "dtype: object"
      ]
     },
     "execution_count": 18,
     "metadata": {},
     "output_type": "execute_result"
    }
   ],
   "source": [
    "df.dtypes"
   ]
  },
  {
   "cell_type": "markdown",
   "id": "enclosed-school",
   "metadata": {},
   "source": [
    "#### Deal with NaT values\n",
    "NaT that values appear in the \"report_date\" and \"time_dif\" features will need to be dealt with before any modeling takes place\n",
    "- Any feature with a missing value for \"report_date\" will also have a missing value for \"time_dif\"\n",
    "- My proposed solution for this is to make all NaT values in the \"report_date\" column the same value as the \"earliest_date\" column for that entry, and make the \"time_dif\" column value \"0 days\".\n",
    "  - Then to account for the missing \"report_date\" value, I will create a new feature: \"missing_report\", which will be 1 or 0, indicating True or False.\n",
    "  \n",
    "- The other approaches for this, such as performing imputation with the median; inserting a strange value such as an invalid date were decided against, because they would change the values for the 'time_dif' feature, making the feature pointless.\n",
    "- It was also decided to keep the feature, because without the \"report_date\" feature, we would also have to drop the \"time_dif\" feature, which should be explored in relation to the target feature: this way we can see if there is a correlation between an increasing time difference between the case ocurring and being reoprted, and the likelihood of a death; or if there is a correlation between a missing report date and a death."
   ]
  },
  {
   "cell_type": "code",
   "execution_count": 19,
   "id": "nonprofit-spencer",
   "metadata": {},
   "outputs": [],
   "source": [
    "df['missing_report'] = 0\n",
    "for i in range(df.shape[0]):\n",
    "    if pd.isnull(df.loc[i][\"report_date\"]):\n",
    "        df.at[i, \"missing_report\"] = 1"
   ]
  },
  {
   "cell_type": "code",
   "execution_count": 20,
   "id": "occupational-vision",
   "metadata": {},
   "outputs": [],
   "source": [
    "# adapted code from here to change values in a column based on another column in the same dataframe\n",
    "# https://stackoverflow.com/questions/39903090/efficiently-replace-values-from-a-column-to-another-column-pandas-dataframe\n",
    "df[\"report_date\"] = np.where(pd.isnull(df[\"report_date\"]), df['earliest_date'], df['report_date'])\n",
    "\n",
    "# adapted code from here to change values of a column based a specific condition\n",
    "# https://www.kite.com/python/answers/how-to-change-values-in-a-pandas-dataframe-column-based-on-a-condition-in-python#:~:text=loc%20to%20change%20values%20in,for%20which%20condition%20is%20True%20.\n",
    "df.loc[pd.isnull(df[\"time_dif\"]), \"time_dif\"] = \"0 days 00:00:00\"\n",
    "\n",
    "df['time_dif'] = pd.to_timedelta(df['time_dif'])\n"
   ]
  },
  {
   "cell_type": "markdown",
   "id": "handed-orchestra",
   "metadata": {},
   "source": [
    "##### The dataset will now be split into two datasets: 70% training and 30% test\n",
    "- First we will set the target feature \"y\" to be \"death\"\n",
    "- Then we will set \"X\" to be the remaining features in the dataframe i.e. we drop \"death\" from the dataframe"
   ]
  },
  {
   "cell_type": "code",
   "execution_count": 21,
   "id": "decreased-candidate",
   "metadata": {},
   "outputs": [],
   "source": [
    "y = pd.DataFrame(df[\"death\"])\n",
    "X = df.drop([\"death\"],1)"
   ]
  },
  {
   "cell_type": "markdown",
   "id": "infrared-heading",
   "metadata": {},
   "source": [
    "##### The data set can now be split\n",
    "- The train test split will randomly split the dataset as per the test size\n",
    "- We will set the random state=1 to allow the random shuffle to be repeated within this notebook only"
   ]
  },
  {
   "cell_type": "code",
   "execution_count": 22,
   "id": "silent-invite",
   "metadata": {},
   "outputs": [
    {
     "name": "stdout",
     "output_type": "stream",
     "text": [
      "original range is:  9697\n",
      "training range (70%):\t rows 0 to 6787\n",
      "test range (30%): \t rows 6787 to 9697\n"
     ]
    }
   ],
   "source": [
    "# Split the dataset into two datasets: 70% training and 30% test\n",
    "X_train, X_test, y_train, y_test = train_test_split(X, y, test_size=0.3,random_state=1)\n",
    "\n",
    "print(\"original range is: \",df.shape[0])\n",
    "print(\"training range (70%):\\t rows 0 to\", round(X_train.shape[0]))\n",
    "print(\"test range (30%): \\t rows\", round(X_train.shape[0]), \"to\", round(X_train.shape[0]) + X_test.shape[0])"
   ]
  },
  {
   "cell_type": "markdown",
   "id": "experimental-snake",
   "metadata": {},
   "source": [
    "The dataset is now ready for plotting"
   ]
  },
  {
   "cell_type": "markdown",
   "id": "behind-launch",
   "metadata": {},
   "source": [
    "## 1.2 On the training set we will now carry out a series of plots comparing all features to help make decisions on what features to keep for the model\n",
    "\n",
    "- All plots will be using the training subset of dataset: X_train, y_train\n",
    "- We won't be plotting correlations of just continuous features, because they are dates. The correlations will all be self-explanatory and will not offer any insights into the data or help with prediction. For example, if an entry has an earliest date of \"2020-11-10\" and a reported date of \"2020-11-13\", then the time difference between them will be 3 days. Not much else will be learned from these features alone.\n",
    "- Instead we will go straight to plotting continuous features against target feature."
   ]
  },
  {
   "cell_type": "markdown",
   "id": "dressed-leisure",
   "metadata": {},
   "source": [
    "### 1.2.1 Plot interaction between continuous features and target feature\n",
    "- Here we will make plots of each continuous against the target 'death'\n",
    "- We will discuss what we observe from these plots, e.g. if there are any particular dates that see a larger number of deaths. This could mean that death is more likely to occur at certain times of the year.\n",
    "- We will choose a subset of continuous features we find promising (if any) and justify our choice."
   ]
  },
  {
   "cell_type": "code",
   "execution_count": 23,
   "id": "solar-parade",
   "metadata": {},
   "outputs": [
    {
     "data": {
      "text/html": [
       "<div>\n",
       "<style scoped>\n",
       "    .dataframe tbody tr th:only-of-type {\n",
       "        vertical-align: middle;\n",
       "    }\n",
       "\n",
       "    .dataframe tbody tr th {\n",
       "        vertical-align: top;\n",
       "    }\n",
       "\n",
       "    .dataframe thead th {\n",
       "        text-align: right;\n",
       "    }\n",
       "</style>\n",
       "<table border=\"1\" class=\"dataframe\">\n",
       "  <thead>\n",
       "    <tr style=\"text-align: right;\">\n",
       "      <th></th>\n",
       "      <th>earliest_date</th>\n",
       "      <th>report_date</th>\n",
       "      <th>status</th>\n",
       "      <th>sex</th>\n",
       "      <th>age_group</th>\n",
       "      <th>race_ethnicity</th>\n",
       "      <th>hosp</th>\n",
       "      <th>time_dif</th>\n",
       "      <th>elderly</th>\n",
       "      <th>quarter</th>\n",
       "      <th>missing_report</th>\n",
       "    </tr>\n",
       "  </thead>\n",
       "  <tbody>\n",
       "    <tr>\n",
       "      <th>0</th>\n",
       "      <td>2020-11-12</td>\n",
       "      <td>2020-11-12</td>\n",
       "      <td>1</td>\n",
       "      <td>1</td>\n",
       "      <td>30 - 39 Years</td>\n",
       "      <td>Unknown</td>\n",
       "      <td>Unknown</td>\n",
       "      <td>0 days</td>\n",
       "      <td>0</td>\n",
       "      <td>fourth</td>\n",
       "      <td>0</td>\n",
       "    </tr>\n",
       "    <tr>\n",
       "      <th>1</th>\n",
       "      <td>2020-08-01</td>\n",
       "      <td>2020-08-01</td>\n",
       "      <td>1</td>\n",
       "      <td>0</td>\n",
       "      <td>60 - 69 Years</td>\n",
       "      <td>Unknown</td>\n",
       "      <td>Missing</td>\n",
       "      <td>0 days</td>\n",
       "      <td>1</td>\n",
       "      <td>third</td>\n",
       "      <td>1</td>\n",
       "    </tr>\n",
       "    <tr>\n",
       "      <th>2</th>\n",
       "      <td>2020-12-04</td>\n",
       "      <td>2020-12-07</td>\n",
       "      <td>1</td>\n",
       "      <td>1</td>\n",
       "      <td>80+ Years</td>\n",
       "      <td>Unknown</td>\n",
       "      <td>Missing</td>\n",
       "      <td>3 days</td>\n",
       "      <td>1</td>\n",
       "      <td>fourth</td>\n",
       "      <td>0</td>\n",
       "    </tr>\n",
       "    <tr>\n",
       "      <th>3</th>\n",
       "      <td>2020-12-13</td>\n",
       "      <td>2020-12-13</td>\n",
       "      <td>1</td>\n",
       "      <td>1</td>\n",
       "      <td>20 - 29 Years</td>\n",
       "      <td>Unknown</td>\n",
       "      <td>Unknown</td>\n",
       "      <td>0 days</td>\n",
       "      <td>0</td>\n",
       "      <td>fourth</td>\n",
       "      <td>0</td>\n",
       "    </tr>\n",
       "    <tr>\n",
       "      <th>4</th>\n",
       "      <td>2021-01-08</td>\n",
       "      <td>2021-01-08</td>\n",
       "      <td>1</td>\n",
       "      <td>1</td>\n",
       "      <td>60 - 69 Years</td>\n",
       "      <td>Black, Non-Hispanic</td>\n",
       "      <td>Unknown</td>\n",
       "      <td>0 days</td>\n",
       "      <td>1</td>\n",
       "      <td>fourth</td>\n",
       "      <td>0</td>\n",
       "    </tr>\n",
       "  </tbody>\n",
       "</table>\n",
       "</div>"
      ],
      "text/plain": [
       "  earliest_date report_date  status  sex      age_group       race_ethnicity  \\\n",
       "0    2020-11-12  2020-11-12       1    1  30 - 39 Years              Unknown   \n",
       "1    2020-08-01  2020-08-01       1    0  60 - 69 Years              Unknown   \n",
       "2    2020-12-04  2020-12-07       1    1      80+ Years              Unknown   \n",
       "3    2020-12-13  2020-12-13       1    1  20 - 29 Years              Unknown   \n",
       "4    2021-01-08  2021-01-08       1    1  60 - 69 Years  Black, Non-Hispanic   \n",
       "\n",
       "      hosp time_dif  elderly quarter  missing_report  \n",
       "0  Unknown   0 days        0  fourth               0  \n",
       "1  Missing   0 days        1   third               1  \n",
       "2  Missing   3 days        1  fourth               0  \n",
       "3  Unknown   0 days        0  fourth               0  \n",
       "4  Unknown   0 days        1  fourth               0  "
      ]
     },
     "execution_count": 23,
     "metadata": {},
     "output_type": "execute_result"
    }
   ],
   "source": [
    "X_train.reset_index(inplace=True, drop=True)\n",
    "y_train.reset_index(inplace=True, drop=True)\n",
    "\n",
    "X_train.head()"
   ]
  },
  {
   "cell_type": "code",
   "execution_count": 24,
   "id": "clinical-atlanta",
   "metadata": {},
   "outputs": [],
   "source": [
    "# plot earliest_date against death\n",
    "# make a dict with each unique date as a key and a value of 0\n",
    "# go through the dataframe\n",
    "# for every entry, increase the value of that entry's 'earliest_date' by 1.\n",
    "# plot the dict keys against the dict values\n",
    "\n",
    "df_temp = pd.concat([X_train['earliest_date'], y_train], axis=1)\n",
    "\n",
    "deathEarDict = {}\n",
    "dateDict = {}\n",
    "for i in df_temp['earliest_date'].sort_values():\n",
    "    dateDict[i] = 0\n",
    "    deathEarDict[i] = 0\n",
    "    \n",
    "for f in range(df_temp.shape[0]):\n",
    "    dateDict[df_temp.loc[f]['earliest_date']] += 1\n",
    "    if df_temp.loc[f]['death']==1:\n",
    "        deathEarDict[df_temp.loc[f]['earliest_date']] += 1"
   ]
  },
  {
   "cell_type": "code",
   "execution_count": 25,
   "id": "engaged-indie",
   "metadata": {},
   "outputs": [
    {
     "data": {
      "text/plain": [
       "<matplotlib.legend.Legend at 0x7feb37b4fbb0>"
      ]
     },
     "execution_count": 25,
     "metadata": {},
     "output_type": "execute_result"
    },
    {
     "data": {
      "image/png": "[encoded data removed]",
      "text/plain": [
       "<Figure size 1440x360 with 1 Axes>"
      ]
     },
     "metadata": {
      "needs_background": "light"
     },
     "output_type": "display_data"
    }
   ],
   "source": [
    "plt.figure(figsize=(20,5))\n",
    "plt.title(\"Plotting number of deaths and cases for each earliest entered date\", fontsize=16)\n",
    "plt.xlabel(\"Date\", fontsize=20)\n",
    "plt.ylabel(\"Number of deaths\", fontsize=20)\n",
    "plt.plot(dateDict.keys(), dateDict.values(), label='total cases')\n",
    "plt.plot(deathEarDict.keys(), deathEarDict.values(), label='total deaths')\n",
    "plt.legend()"
   ]
  },
  {
   "cell_type": "code",
   "execution_count": 26,
   "id": "decent-scenario",
   "metadata": {},
   "outputs": [
    {
     "data": {
      "text/plain": [
       "<matplotlib.legend.Legend at 0x7feb3834cac0>"
      ]
     },
     "execution_count": 26,
     "metadata": {},
     "output_type": "execute_result"
    },
    {
     "data": {
      "image/png": "[encoded data removed]",
      "text/plain": [
       "<Figure size 1440x360 with 1 Axes>"
      ]
     },
     "metadata": {
      "needs_background": "light"
     },
     "output_type": "display_data"
    }
   ],
   "source": [
    "plt.figure(figsize=(20,5))\n",
    "plt.title(\"Plotting number of deaths for each earliest entered date\", fontsize=16)\n",
    "plt.xlabel(\"Date\", fontsize=20)\n",
    "plt.ylabel(\"Number of deaths\", fontsize=20)\n",
    "plt.plot(deathEarDict.keys(), deathEarDict.values(), label='total deaths')\n",
    "plt.legend()"
   ]
  },
  {
   "cell_type": "code",
   "execution_count": 27,
   "id": "important-nylon",
   "metadata": {},
   "outputs": [],
   "source": [
    "# plot report_date against death\n",
    "# make a dict with each unique date where the  as a key and a value of 0\n",
    "# go through the dataframe\n",
    "# for every entry, increase the value of that entry's 'report_date' by 1.\n",
    "# plot the dict keys against the dict values\n",
    "# only store the dates where 'missing_report' is false\n",
    "\n",
    "df_temp = pd.concat([X_train[['report_date', 'missing_report']], y_train], axis=1)\n",
    "\n",
    "dateDict = {}\n",
    "deathRepDict = {}\n",
    "\n",
    "for i in df_temp['report_date'].sort_values():\n",
    "    deathRepDict[i] = 0\n",
    "    dateDict[i] = 0\n",
    "\n",
    "for i in range(df_temp.shape[0]):\n",
    "    if df_temp.loc[i]['missing_report']==0:\n",
    "        dateDict[df_temp.loc[i]['report_date']] += 1\n",
    "        if df_temp.loc[i]['death']==1:\n",
    "            deathRepDict[df_temp.loc[i]['report_date']] += 1"
   ]
  },
  {
   "cell_type": "code",
   "execution_count": 28,
   "id": "emotional-athens",
   "metadata": {},
   "outputs": [
    {
     "data": {
      "text/plain": [
       "<matplotlib.legend.Legend at 0x7feb3838e9a0>"
      ]
     },
     "execution_count": 28,
     "metadata": {},
     "output_type": "execute_result"
    },
    {
     "data": {
      "image/png": "[encoded data removed]",
      "text/plain": [
       "<Figure size 1440x360 with 1 Axes>"
      ]
     },
     "metadata": {
      "needs_background": "light"
     },
     "output_type": "display_data"
    }
   ],
   "source": [
    "plt.figure(figsize=(20,5))\n",
    "plt.title(\"Plotting number of deaths for each reported date\", fontsize=16)\n",
    "plt.xlabel(\"Date\", fontsize=20)\n",
    "plt.ylabel(\"Number of deaths\", fontsize=20)\n",
    "plt.plot(deathRepDict.keys(), deathRepDict.values(), label='total deaths')\n",
    "plt.plot(dateDict.keys(), dateDict.values(), label='total cases')\n",
    "plt.legend()"
   ]
  },
  {
   "cell_type": "code",
   "execution_count": 29,
   "id": "economic-combine",
   "metadata": {},
   "outputs": [
    {
     "data": {
      "text/plain": [
       "<matplotlib.legend.Legend at 0x7feb3869ab20>"
      ]
     },
     "execution_count": 29,
     "metadata": {},
     "output_type": "execute_result"
    },
    {
     "data": {
      "image/png": "[encoded data removed]",
      "text/plain": [
       "<Figure size 1440x360 with 1 Axes>"
      ]
     },
     "metadata": {
      "needs_background": "light"
     },
     "output_type": "display_data"
    }
   ],
   "source": [
    "plt.figure(figsize=(20,5))\n",
    "plt.title(\"Plotting number of deaths for each reported date\", fontsize=16)\n",
    "plt.xlabel(\"Date\", fontsize=20)\n",
    "plt.ylabel(\"Number of deaths\", fontsize=20)\n",
    "plt.plot(deathRepDict.keys(), deathRepDict.values(), label='total deaths')\n",
    "plt.legend()"
   ]
  },
  {
   "cell_type": "code",
   "execution_count": 30,
   "id": "pleasant-discovery",
   "metadata": {},
   "outputs": [],
   "source": [
    "# convert time_dif to int\n",
    "X_train['time_dif'] = X_train['time_dif'].dt.days.astype('int64')\n",
    "\n",
    "df_temp = pd.concat([X_train['time_dif'], y_train], axis=1)\n",
    "df_temp.reset_index(inplace=True, drop=True)"
   ]
  },
  {
   "cell_type": "code",
   "execution_count": 31,
   "id": "imperial-sudan",
   "metadata": {},
   "outputs": [
    {
     "data": {
      "text/html": [
       "<div>\n",
       "<style scoped>\n",
       "    .dataframe tbody tr th:only-of-type {\n",
       "        vertical-align: middle;\n",
       "    }\n",
       "\n",
       "    .dataframe tbody tr th {\n",
       "        vertical-align: top;\n",
       "    }\n",
       "\n",
       "    .dataframe thead th {\n",
       "        text-align: right;\n",
       "    }\n",
       "</style>\n",
       "<table border=\"1\" class=\"dataframe\">\n",
       "  <thead>\n",
       "    <tr style=\"text-align: right;\">\n",
       "      <th></th>\n",
       "      <th>time_dif</th>\n",
       "      <th>death</th>\n",
       "    </tr>\n",
       "  </thead>\n",
       "  <tbody>\n",
       "    <tr>\n",
       "      <th>time_dif</th>\n",
       "      <td>1.000000</td>\n",
       "      <td>0.021371</td>\n",
       "    </tr>\n",
       "    <tr>\n",
       "      <th>death</th>\n",
       "      <td>0.021371</td>\n",
       "      <td>1.000000</td>\n",
       "    </tr>\n",
       "  </tbody>\n",
       "</table>\n",
       "</div>"
      ],
      "text/plain": [
       "          time_dif     death\n",
       "time_dif  1.000000  0.021371\n",
       "death     0.021371  1.000000"
      ]
     },
     "execution_count": 31,
     "metadata": {},
     "output_type": "execute_result"
    }
   ],
   "source": [
    "correlation = df_temp.corr()\n",
    "correlation"
   ]
  },
  {
   "cell_type": "code",
   "execution_count": 32,
   "id": "quantitative-villa",
   "metadata": {},
   "outputs": [
    {
     "data": {
      "text/plain": [
       "<AxesSubplot:xlabel='time_dif', ylabel='death'>"
      ]
     },
     "execution_count": 32,
     "metadata": {},
     "output_type": "execute_result"
    },
    {
     "data": {
      "image/png": "[encoded data removed]",
      "text/plain": [
       "<Figure size 1440x720 with 1 Axes>"
      ]
     },
     "metadata": {
      "needs_background": "light"
     },
     "output_type": "display_data"
    }
   ],
   "source": [
    "# plot the column and target feature\n",
    "df_temp.plot(kind='scatter', x=\"time_dif\", y=\"death\", label=\"0.021371\", figsize=(20,10))"
   ]
  },
  {
   "cell_type": "markdown",
   "id": "angry-estimate",
   "metadata": {},
   "source": [
    "#### 1.2.1 Interpretation of the results\n",
    "- Observing the plots, are there any clear correlations? And is this to be expected with this kind of problem? There are many interactions to take into account.\n",
    "- Observing each of the plots above, there is no clear correlation for any of the continuous features.\n",
    "- **'earliest_date'**\n",
    "    - For this feature I have plotted the total number of entries for each date contrasted with the number of deaths for each date. I have also plotted just the number of deaths for this date to get a closer look at the trends for it. As we can see, the total number of entries increases as time progresses, but the number of deaths does not. In fact, the number of deaths never goes above 5 in one day, and in the later dates of the data – when the total number of cases per day has increased – the number of deaths never goes above 4. \n",
    "- **'report_date'**\n",
    "    - For this feature, I left out any entries where the \"missing_report\" feature had a value of 1. This meant that any null values that would skew the data could be avoided. \n",
    "    - I have plotted the total number of entries for each date contrasted with the number of deaths for each date. I have also plotted just the number of deaths for this date to get a closer look at the trends for it. This feature is more extreme than the pervious one: there are 2 days where 10 deaths are reported. However, this could be indicative of reports being collected in batches.\n",
    "- **'time_dif'**\n",
    "    - This feature was the reason I kept in the 'report_date' feature: I wanted to see if there was any correlation between the time difference of a case ocurring and being reported, and a higher likelihood of death. There is no real correlation here:\n",
    "        - Most of the deaths with a smaller time difference, but so do most of the non-deaths. This indicates to me that most of the cases with a report date have a small difference in the time of its reporting and the time of the case ocurring. The increase in the difference of these times does not seem more likely to lead to a death. <br><br>\n",
    "\n",
    "- None of the correlations are particularly strong here. There is a chance that by grouping the continuous features into categories – I have done this by grouping the 'earliest_date' feature into quarters – we will see more of a correlation of what period the case occured in with the likelihood of death.<br>\n",
    "   \n",
    "#### Actions:\n",
    "- I will drop the **'report_date'** feature. There is no strong correlation between it and the likelihood of a death that is not already present in the **'earliest_date'** feature, which I will keep. Also the feature was mainly necessary to account for the **'time_dif'** feature, which I will not be keeping.\n",
    "- I will drop **'time_dif'** feature, as there was no correlation in its increasing amount with the number of deaths reported. \n",
    "- I will drop the **'earliest_date'** feature. There is not a strong correlation between it and the number of deaths reported.\n",
    "\n",
    "**I think that dates are not a relevant predictor of death as the COVID-19 pandemic continues. We have seen in the plots above how the number of deaths was at its peak in April 2020. This is despite the fact that the number of cases was at its peak in December 2020 and January 2021. This indicates to me that hopsitals have adpated to the pandemic and are treating people more effectively now. Thus, just because COVID-19 cases will happen this April it does not mean that there is likely to be more deaths this April.**"
   ]
  },
  {
   "cell_type": "markdown",
   "id": "careful-crime",
   "metadata": {},
   "source": [
    "### 1.2.2 Plot interaction between categorical features and target feature\n",
    "- Here we will plot a pairwise interaction between each categorical feature against the target feature. \n",
    "- We will discuss what we observe from these plots, e.g., which categorical features seem to be better at predicting the target feature.\n",
    "- We will choose a subset of categorical features we find promising (if any) and justify our choice.\n",
    "\n",
    "Here we have 10 categorical features\n",
    "- 'status', 'sex', 'age_group', 'race_ethnicity', 'hosp', 'time_dif', 'elderly', 'quarter'.\n",
    "- A plot for each will be created."
   ]
  },
  {
   "cell_type": "markdown",
   "id": "becoming-baghdad",
   "metadata": {},
   "source": [
    "##### Create stacked bar plots for all categorical features\n",
    "\n",
    "- for the comparison, the target feature is converted back to categorical"
   ]
  },
  {
   "cell_type": "code",
   "execution_count": 33,
   "id": "cooperative-cleveland",
   "metadata": {},
   "outputs": [
    {
     "name": "stdout",
     "output_type": "stream",
     "text": [
      "\n",
      "status\n",
      "Index \t Count\n",
      "1 \t 6497\n",
      "0 \t 290\n",
      "\n",
      "sex\n",
      "Index \t Count\n",
      "1 \t 3553\n",
      "0 \t 3234\n",
      "\n",
      "age_group\n",
      "Index \t Count\n",
      "30 - 39 Years \t 1094\n",
      "60 - 69 Years \t 686\n",
      "80+ Years \t 322\n",
      "20 - 29 Years \t 1279\n",
      "10 - 19 Years \t 728\n",
      "50 - 59 Years \t 981\n",
      "40 - 49 Years \t 994\n",
      "0 - 9 Years \t 316\n",
      "70 - 79 Years \t 387\n",
      "\n",
      "race_ethnicity\n",
      "Index \t Count\n",
      "Unknown \t 2792\n",
      "Black, Non-Hispanic \t 482\n",
      "White, Non-Hispanic \t 2225\n",
      "Multiple/Other, Non-Hispanic \t 360\n",
      "Hispanic/Latino \t 631\n",
      "Missing \t 62\n",
      "Asian, Non-Hispanic \t 181\n",
      "American Indian/Alaska Native, Non-Hispanic \t 38\n",
      "Native Hawaiian/Other Pacific Islander, Non-Hispanic \t 16\n",
      "\n",
      "hosp\n",
      "Index \t Count\n",
      "Unknown \t 1213\n",
      "Missing \t 1599\n",
      "No \t 3524\n",
      "Yes \t 451\n",
      "\n",
      "elderly\n",
      "Index \t Count\n",
      "0 \t 5392\n",
      "1 \t 1395\n",
      "\n",
      "quarter\n",
      "Index \t Count\n",
      "fourth \t 3938\n",
      "third \t 1450\n",
      "second \t 1126\n",
      "first \t 273\n"
     ]
    },
    {
     "data": {
      "image/png": "[encoded data removed]",
      "text/plain": [
       "<Figure size 1080x504 with 1 Axes>"
      ]
     },
     "metadata": {
      "needs_background": "light"
     },
     "output_type": "display_data"
    },
    {
     "data": {
      "image/png": "[encoded data removed]",
      "text/plain": [
       "<Figure size 1080x504 with 1 Axes>"
      ]
     },
     "metadata": {
      "needs_background": "light"
     },
     "output_type": "display_data"
    },
    {
     "data": {
      "image/png": "[encoded data removed]",
      "text/plain": [
       "<Figure size 1080x504 with 1 Axes>"
      ]
     },
     "metadata": {
      "needs_background": "light"
     },
     "output_type": "display_data"
    },
    {
     "data": {
      "image/png": "[encoded data removed]",
      "text/plain": [
       "<Figure size 1080x504 with 1 Axes>"
      ]
     },
     "metadata": {
      "needs_background": "light"
     },
     "output_type": "display_data"
    },
    {
     "data": {
      "image/png": "[encoded data removed]",
      "text/plain": [
       "<Figure size 1080x504 with 1 Axes>"
      ]
     },
     "metadata": {
      "needs_background": "light"
     },
     "output_type": "display_data"
    },
    {
     "data": {
      "image/png": "[encoded data removed]",
      "text/plain": [
       "<Figure size 1080x504 with 1 Axes>"
      ]
     },
     "metadata": {
      "needs_background": "light"
     },
     "output_type": "display_data"
    },
    {
     "data": {
      "image/png": "[encoded data removed]",
      "text/plain": [
       "<Figure size 1080x504 with 1 Axes>"
      ]
     },
     "metadata": {
      "needs_background": "light"
     },
     "output_type": "display_data"
    }
   ],
   "source": [
    "# for the comparison we will convert the target back to categorical\n",
    "y_train = y_train.astype(\"category\")\n",
    "#X_train[categorical_columns].columns\n",
    "\n",
    "# we will create temp dataframe for these plots, mergeing X_train and y_train\n",
    "df_temp= pd.concat([X_train, y_train], axis=1)\n",
    "\n",
    "\n",
    "# for each categorical feature create a stacked bar plot\n",
    "for categorical_feature in categorical:\n",
    "    # Using code from the module lab\n",
    "    \n",
    "    allCategories = pd.unique(df_temp[categorical_feature].ravel())\n",
    "\n",
    "    # add new column and set values to zero\n",
    "    df_temp['percent'] = 0\n",
    "\n",
    "    #print header\n",
    "    print(\"\\n\" + categorical_feature)\n",
    "    print(\"Index \\t Count\")\n",
    "\n",
    "    # for each delinquency category\n",
    "    for i in allCategories:\n",
    "\n",
    "        count = df_temp[df_temp[categorical_feature] == i].count()['death']\n",
    "        count_percentage = (1 / count) * 100\n",
    "\n",
    "        # print out index vs count\n",
    "        print(i, \"\\t\", count)\n",
    "\n",
    "        index_list = df_temp[df_temp[categorical_feature] == i].index.tolist()\n",
    "        for ind in index_list:\n",
    "            df_temp.loc[ind, 'percent'] = count_percentage\n",
    "\n",
    "    group = df_temp[['percent',categorical_feature,'death']].groupby([categorical_feature,'death']).sum()\n",
    "\n",
    "    my_plot = group.unstack().plot(kind='bar', stacked=True, title=f\"death vs {categorical_feature}\", figsize=(15,7), grid=True)\n",
    "\n",
    "    # add legend\n",
    "    red_patch = mpatches.Patch(color='orange', label='death')\n",
    "    blue_patch = mpatches.Patch(color='blue', label='non-death')\n",
    "    my_plot.legend(handles=[red_patch, blue_patch], frameon = True)\n",
    "\n",
    "    # add gridlines\n",
    "    plt.grid(b=True, which='major', color='#666666', linestyle='-')\n",
    "    plt.minorticks_on()\n",
    "    plt.grid(b=True, which='minor', color='#999999', linestyle='-', alpha=0.2)\n",
    "\n",
    "    # add labels\n",
    "    my_plot.set_xlabel(f\"different values of {categorical_feature}\")\n",
    "    my_plot.set_ylabel(\"% of entries\")\n",
    "    my_plot.set_ylim([0,100])\n",
    "    \n",
    "# drop 'percent' that was used only for stacked bar plot\n",
    "df_temp = df_temp.drop(\"percent\", 1)"
   ]
  },
  {
   "cell_type": "markdown",
   "id": "centered-prophet",
   "metadata": {},
   "source": [
    "#### Reminder of scale meanings\n",
    "\n",
    "| status      | meaning                   |\n",
    "|-------------|---------------------------|\n",
    "| 0           | Probable case             |\n",
    "| 1           | Laboratory-confirmed case |\n",
    "\n",
    "<br>\n",
    "\n",
    "| sex         | meaning   |\n",
    "|-------------|-----------|\n",
    "| 0           | Male      |\n",
    "| 1           | Female    |\n",
    "\n",
    "<br>\n",
    "\n",
    "| elderly     | meaning  |\n",
    "|-------------|----------|\n",
    "| 0           | no       |\n",
    "| 1           | yes      |\n"
   ]
  },
  {
   "cell_type": "markdown",
   "id": "australian-photograph",
   "metadata": {},
   "source": [
    "### Interpretation of the results"
   ]
  },
  {
   "cell_type": "markdown",
   "id": "numeric-safety",
   "metadata": {},
   "source": [
    "##### death vs status\n",
    "- Observing the plot, we can see that the chances of a death are slightly higher with a status of 'Probable case' than with 'Laboratory-confirmed case'. This is not expected.\n",
    "- However, this may be due to the fact that there are far more 'Laboratory-confirmed case' entries than 'Probable case' ones: there are 6497 'Laboratory-confirmed case' entries and 290 'Probable case' ones. This can be seen in the cell underneath this.\n",
    "    - Perhaps if we had more 'Probable case' entries, the results may be different.\n",
    "- Because of this, it is difficult to say that a 'Probable case' is more likely to lead to death than a 'Laboratory-confirmed case', without having more entries of 'Probable case'"
   ]
  },
  {
   "cell_type": "code",
   "execution_count": 34,
   "id": "mounted-humanity",
   "metadata": {},
   "outputs": [
    {
     "data": {
      "text/plain": [
       "6497"
      ]
     },
     "execution_count": 34,
     "metadata": {},
     "output_type": "execute_result"
    }
   ],
   "source": [
    "# 'Laboratory-confirmed case'\n",
    "df_temp[df_temp['status']==1].shape[0]"
   ]
  },
  {
   "cell_type": "code",
   "execution_count": 35,
   "id": "judicial-empty",
   "metadata": {},
   "outputs": [
    {
     "data": {
      "text/plain": [
       "290"
      ]
     },
     "execution_count": 35,
     "metadata": {},
     "output_type": "execute_result"
    }
   ],
   "source": [
    "# 'Probable case'\n",
    "df_temp[df_temp['status']==0].shape[0]"
   ]
  },
  {
   "cell_type": "markdown",
   "id": "requested-motion",
   "metadata": {},
   "source": [
    "##### death vs sex\n",
    "- Observing the plot, we can see that the chances of death are not strongly affected by the sex of the patient. There is a similar percentage of deaths for both: ~3%. As we can see in the cell below:"
   ]
  },
  {
   "cell_type": "code",
   "execution_count": 36,
   "id": "maritime-sunrise",
   "metadata": {},
   "outputs": [
    {
     "data": {
      "text/plain": [
       "3.2158317872603583"
      ]
     },
     "execution_count": 36,
     "metadata": {},
     "output_type": "execute_result"
    }
   ],
   "source": [
    "# percentage of male deaths\n",
    "(df_temp.loc[(df_temp['sex']==0)&(df_temp['death']==1)].shape[0]/df_temp.loc[(df_temp['sex']==0)].shape[0])*100"
   ]
  },
  {
   "cell_type": "code",
   "execution_count": 37,
   "id": "innovative-refund",
   "metadata": {},
   "outputs": [
    {
     "data": {
      "text/plain": [
       "3.23670137911624"
      ]
     },
     "execution_count": 37,
     "metadata": {},
     "output_type": "execute_result"
    }
   ],
   "source": [
    "# percentage of female deaths\n",
    "(df_temp.loc[(df_temp['sex']==1)&(df_temp['death']==1)].shape[0]/df_temp.loc[(df_temp['sex']==1)].shape[0])*100"
   ]
  },
  {
   "cell_type": "markdown",
   "id": "collectible-arizona",
   "metadata": {},
   "source": [
    "##### death vs age_group\n",
    "\n",
    "- Observing the plot above, we can see the correlation between increasing age and the likelihood of death. Particularly in the '70–79 years' and '80+ years' categories, the percentages of death are the highest.\n",
    "- This is to be expected and will be backed up by the 'elderly' feature later.  "
   ]
  },
  {
   "cell_type": "markdown",
   "id": "cheap-accent",
   "metadata": {},
   "source": [
    "##### death vs race_ethnicity\n",
    "\n",
    "- Observing the plot above, we can see now clear correlation between race/ethnicity and the likelihood of death.\n",
    "- However, some of the the values in this category do not have much data compared to others. So, results may change if more data for more different races.\n",
    "- There is a high amount of missing data for this feature: over 40%.\n",
    "- We can see evidence of the overall lack of data for many races/ethnicities below."
   ]
  },
  {
   "cell_type": "code",
   "execution_count": 38,
   "id": "swiss-provider",
   "metadata": {},
   "outputs": [
    {
     "name": "stdout",
     "output_type": "stream",
     "text": [
      "Percentages for each race:\n",
      "\n",
      "Unknown: 41.13746869014292%\n",
      "Black, Non-Hispanic: 7.101812288198025%\n",
      "White, Non-Hispanic: 32.78326211875645%\n",
      "Multiple/Other, Non-Hispanic: 5.30425814056284%\n",
      "Hispanic/Latino: 9.297185796375423%\n",
      "Missing: 0.9135111242080447%\n",
      "Asian, Non-Hispanic: 2.6668631206718727%\n",
      "American Indian/Alaska Native, Non-Hispanic: 0.5598939148371888%\n",
      "Native Hawaiian/Other Pacific Islander, Non-Hispanic: 0.23574480624723734%\n"
     ]
    }
   ],
   "source": [
    "print(\"Percentages for each race:\\n\")\n",
    "for race in df_temp['race_ethnicity'].unique():\n",
    "    print(race + \": \" + str(df_temp.loc[(df_temp['race_ethnicity']==race)].shape[0]/df_temp.shape[0]*100)+\"%\")"
   ]
  },
  {
   "cell_type": "markdown",
   "id": "meaning-stereo",
   "metadata": {},
   "source": [
    "##### death vs hosp\n",
    "\n",
    "- Observing the plot above, we can see a clear correlation between being hospitalised and the likelihood of death.\n",
    "- Almost 30% of hospital cases result in death, compared with ~1% of cases that don't.\n",
    "- The entries with missing data for this feature show a slightly larger percentage of deaths, but nothing close to that of hospitalised cases."
   ]
  },
  {
   "cell_type": "markdown",
   "id": "adolescent-nerve",
   "metadata": {},
   "source": [
    "##### death vs elderly\n",
    "\n",
    "- Observing the plot above, we can see a clear correlation between elderly entries and the likelihood of death. \n",
    "- Almost 15% of elderly entries result in a death, compared to less than 1% of non-elderly entries."
   ]
  },
  {
   "cell_type": "markdown",
   "id": "satellite-annual",
   "metadata": {},
   "source": [
    "##### death vs quarter\n",
    "- Observing the final plot above, we see a correlation between the percentage and the part of the year.\n",
    "- The percentage of deaths for the first 2 quarters is higher than that of the last 2."
   ]
  },
  {
   "cell_type": "markdown",
   "id": "under-street",
   "metadata": {},
   "source": [
    "### Actions to take:\n",
    "- I will drop the feature **'status'**. There is not a strong correlation between it and the likelihood of death, and there is not a large enough sample size of 'Probable case' entries for this feature.\n",
    "- I will drop the feature **'sex'**. Both values for this feature have ~3% likelihood of death, so there is no indication that this feature will help in predicting death.\n",
    "- I will drop the feature **'race_ethnicity'**. There is not a large enough sample size for most values of this feature: ~40% of its values are missing, and ~30% of the entries are the value 'White, Non-Hispanic'.\n",
    "    - There also is not a big variation in percentages of deaths for each race/ethnicity.\n",
    "- I will drop the feature **'elderly'**. There is a clear correlation between it and the likelihood of death. However, it is less specific than 'age_group' which also has a strong correlation between its value and the likelihood of death."
   ]
  },
  {
   "cell_type": "markdown",
   "id": "central-exhibit",
   "metadata": {},
   "source": [
    "### 1.2.3 Summary & Drop Features\n",
    "\n",
    "1. From Continuous vs Target plots (1.2.1) we identified the following to be dropped  \n",
    "    - report_date\n",
    "    - time_dif\n",
    "2. From Categorical vs Target (1.2.3) we identified the following to be dropped\n",
    "    - status\n",
    "    - sex\n",
    "    - race_ethnicity"
   ]
  },
  {
   "cell_type": "markdown",
   "id": "pleasant-productivity",
   "metadata": {},
   "source": [
    "We will now drop these features\n",
    "- Before dropping we will duplicate the original dataframe, df, and label it df_rev1\n",
    "- We will drop features from this copy only (df_rev1)\n",
    "- This will allow us to revert to the original dataset later if we decide to compare the performance of the reduced dataset (df_rev1) with the original dataset (df)"
   ]
  },
  {
   "cell_type": "code",
   "execution_count": 39,
   "id": "liked-parent",
   "metadata": {},
   "outputs": [
    {
     "name": "stdout",
     "output_type": "stream",
     "text": [
      "\n",
      "Remaining columns: Index(['age_group', 'hosp', 'death', 'quarter'], dtype='object')\n",
      "\n",
      "New shape: (9697, 4)\n"
     ]
    }
   ],
   "source": [
    "continuous_drop = list(df[['report_date', 'time_dif', 'earliest_date']].columns)\n",
    "categorical_drop = list(df[['status', 'sex', 'race_ethnicity', 'missing_report', 'elderly']].columns)\n",
    "\n",
    "dropped = list(set(continuous_drop + categorical_drop))\n",
    "\n",
    "# make copy of dataframe\n",
    "df_rev1 = df.copy()\n",
    "\n",
    "df_rev1.drop(dropped, 1, inplace=True)\n",
    "\n",
    "print('\\nRemaining columns:', df_rev1.columns)\n",
    "print('\\nNew shape:', df_rev1.shape)"
   ]
  },
  {
   "cell_type": "markdown",
   "id": "manual-height",
   "metadata": {},
   "source": [
    "## 1.3 Prepare dataset for modeling\n",
    "Now we have picked our descriptive features for the whole dataset, a number of additional steps will need to be taken to prepare the dataset for modeling \n",
    "- We will now convert the categorical variables into dummies variable to allow modeling\n",
    "- We will then remove the redundant dummies which contain no additional information\n",
    "- We will then set up the train test split again based on the dataset with the dummies included"
   ]
  },
  {
   "cell_type": "markdown",
   "id": "prompt-limitation",
   "metadata": {},
   "source": [
    "#### Set up dummy features. \n",
    "This will split up each categorical feature into a number of dummy features. The data type changes to \"uint8\""
   ]
  },
  {
   "cell_type": "markdown",
   "id": "modified-animation",
   "metadata": {},
   "source": [
    "- The feature \"age_group\" is categorical, with values '0 - 9 Years', '10 - 19 Years', '20 - 29 Years', '30 - 39 Years', '40 - 49 Years', '50 - 59 Years', '60 - 69 Years', '70 - 79 Years' and '80+ Years'. These will be transformed into numerical features using binary encoding. It will be easier to read in the dataframe than integer encoding.\n",
    "- The \"quarter\" feature is categorical, with values \"first\", \"second\", \"third\" and \"fourth\". These will be tansformed into numerical features using binary encoding."
   ]
  },
  {
   "cell_type": "code",
   "execution_count": 40,
   "id": "ranking-funds",
   "metadata": {},
   "outputs": [
    {
     "data": {
      "text/plain": [
       "death                      int64\n",
       "age_group_0 - 9 Years      uint8\n",
       "age_group_10 - 19 Years    uint8\n",
       "age_group_20 - 29 Years    uint8\n",
       "age_group_30 - 39 Years    uint8\n",
       "age_group_40 - 49 Years    uint8\n",
       "age_group_50 - 59 Years    uint8\n",
       "age_group_60 - 69 Years    uint8\n",
       "age_group_70 - 79 Years    uint8\n",
       "age_group_80+ Years        uint8\n",
       "hosp_Missing               uint8\n",
       "hosp_No                    uint8\n",
       "hosp_Unknown               uint8\n",
       "hosp_Yes                   uint8\n",
       "quarter_first              uint8\n",
       "quarter_fourth             uint8\n",
       "quarter_second             uint8\n",
       "quarter_third              uint8\n",
       "dtype: object"
      ]
     },
     "execution_count": 40,
     "metadata": {},
     "output_type": "execute_result"
    }
   ],
   "source": [
    "# set up dummies features\n",
    "df_rev1 = pd.get_dummies(df_rev1)\n",
    "df_rev1.dtypes"
   ]
  },
  {
   "cell_type": "markdown",
   "id": "normal-miniature",
   "metadata": {},
   "source": [
    "#### Remove redundant features\n",
    "We do not need to keep 'age_group_0 – 9 Years', 'hosp_missing' or 'quarter_first'. These will now be dropped."
   ]
  },
  {
   "cell_type": "code",
   "execution_count": 41,
   "id": "auburn-muscle",
   "metadata": {},
   "outputs": [],
   "source": [
    "df_rev1 = df_rev1.drop(['age_group_0 - 9 Years','hosp_Missing', 'quarter_first'],1)"
   ]
  },
  {
   "cell_type": "markdown",
   "id": "otherwise-nepal",
   "metadata": {},
   "source": [
    "#### Categorical columns are:"
   ]
  },
  {
   "cell_type": "code",
   "execution_count": 42,
   "id": "precise-dining",
   "metadata": {},
   "outputs": [
    {
     "data": {
      "text/plain": [
       "['age_group_10 - 19 Years',\n",
       " 'age_group_20 - 29 Years',\n",
       " 'age_group_30 - 39 Years',\n",
       " 'age_group_40 - 49 Years',\n",
       " 'age_group_50 - 59 Years',\n",
       " 'age_group_60 - 69 Years',\n",
       " 'age_group_70 - 79 Years',\n",
       " 'age_group_80+ Years',\n",
       " 'hosp_No',\n",
       " 'hosp_Unknown',\n",
       " 'hosp_Yes',\n",
       " 'quarter_fourth',\n",
       " 'quarter_second',\n",
       " 'quarter_third']"
      ]
     },
     "execution_count": 42,
     "metadata": {},
     "output_type": "execute_result"
    }
   ],
   "source": [
    "categorical = df_rev1.select_dtypes(include=['int64', 'uint8']).columns.tolist()\n",
    "categorical.pop(0)\n",
    "categorical"
   ]
  },
  {
   "cell_type": "markdown",
   "id": "handed-wright",
   "metadata": {},
   "source": [
    "#### Total features are:"
   ]
  },
  {
   "cell_type": "code",
   "execution_count": 43,
   "id": "headed-kingdom",
   "metadata": {},
   "outputs": [
    {
     "data": {
      "text/plain": [
       "['age_group_10 - 19 Years',\n",
       " 'age_group_20 - 29 Years',\n",
       " 'age_group_30 - 39 Years',\n",
       " 'age_group_40 - 49 Years',\n",
       " 'age_group_50 - 59 Years',\n",
       " 'age_group_60 - 69 Years',\n",
       " 'age_group_70 - 79 Years',\n",
       " 'age_group_80+ Years',\n",
       " 'hosp_No',\n",
       " 'hosp_Unknown',\n",
       " 'hosp_Yes',\n",
       " 'quarter_fourth',\n",
       " 'quarter_second',\n",
       " 'quarter_third']"
      ]
     },
     "execution_count": 43,
     "metadata": {},
     "output_type": "execute_result"
    }
   ],
   "source": [
    "features = categorical\n",
    "features"
   ]
  },
  {
   "cell_type": "markdown",
   "id": "raised-apparatus",
   "metadata": {},
   "source": [
    "### Setting up the train/test split\n",
    "- This is based on the dataset with dummy values\n",
    "- The Target is stored in dataframe \"y\"\n",
    "- The remaining features are stored in dataframe \"X\"\n",
    "- Both are split into training and test subsets"
   ]
  },
  {
   "cell_type": "code",
   "execution_count": 44,
   "id": "micro-portal",
   "metadata": {},
   "outputs": [
    {
     "name": "stdout",
     "output_type": "stream",
     "text": [
      "original range is:  9697\n",
      "training range (70%):\t rows 0 to 6787\n",
      "test range (30%): \t rows 6787 to 9697\n"
     ]
    }
   ],
   "source": [
    "# y is the target\n",
    "y = df_rev1[\"death\"]\n",
    "# X is everything else\n",
    "X = df_rev1.drop([\"death\"],1)\n",
    "# Split the dataset into two datasets: 70% training and 30% test\n",
    "X_train, X_test, y_train, y_test = train_test_split(X, y, random_state=1,  test_size=0.3)\n",
    "\n",
    "print(\"original range is: \",df_rev1.shape[0])\n",
    "print(\"training range (70%):\\t rows 0 to\", round(X_train.shape[0]))\n",
    "print(\"test range (30%): \\t rows\", round(X_train.shape[0]), \"to\", round(X_train.shape[0]) + X_test.shape[0])"
   ]
  },
  {
   "cell_type": "code",
   "execution_count": 45,
   "id": "married-graduate",
   "metadata": {},
   "outputs": [
    {
     "name": "stdout",
     "output_type": "stream",
     "text": [
      "\n",
      "Descriptive features in X:\n",
      "      age_group_10 - 19 Years  age_group_20 - 29 Years  \\\n",
      "5422                        0                        0   \n",
      "2529                        0                        0   \n",
      "7101                        0                        0   \n",
      "6241                        0                        1   \n",
      "2815                        0                        0   \n",
      "\n",
      "      age_group_30 - 39 Years  age_group_40 - 49 Years  \\\n",
      "5422                        1                        0   \n",
      "2529                        0                        0   \n",
      "7101                        0                        0   \n",
      "6241                        0                        0   \n",
      "2815                        0                        0   \n",
      "\n",
      "      age_group_50 - 59 Years  age_group_60 - 69 Years  \\\n",
      "5422                        0                        0   \n",
      "2529                        0                        1   \n",
      "7101                        0                        0   \n",
      "6241                        0                        0   \n",
      "2815                        0                        1   \n",
      "\n",
      "      age_group_70 - 79 Years  age_group_80+ Years  hosp_No  hosp_Unknown  \\\n",
      "5422                        0                    0        0             1   \n",
      "2529                        0                    0        0             0   \n",
      "7101                        0                    1        0             0   \n",
      "6241                        0                    0        0             1   \n",
      "2815                        0                    0        0             1   \n",
      "\n",
      "      hosp_Yes  quarter_fourth  quarter_second  quarter_third  \n",
      "5422         0               1               0              0  \n",
      "2529         0               0               0              1  \n",
      "7101         0               1               0              0  \n",
      "6241         0               1               0              0  \n",
      "2815         0               1               0              0  \n",
      "\n",
      "Target feature in y:\n",
      "5422    0\n",
      "2529    0\n",
      "7101    0\n",
      "6241    0\n",
      "2815    0\n",
      "Name: death, dtype: int64\n"
     ]
    }
   ],
   "source": [
    "print(\"\\nDescriptive features in X:\\n\" + str(X_train.head(5)))\n",
    "print(\"\\nTarget feature in y:\\n\" + str(y_train.head(5)))"
   ]
  },
  {
   "cell_type": "markdown",
   "id": "periodic-reporter",
   "metadata": {},
   "source": [
    "#### Reset the indexes of the training and test splits\n",
    "- We can see from the X_train printout below that the indexes are no longer consecutive\n",
    "- This is the same for y_train, X_test, y_test\n",
    "- This will need to be dealt with next as it will effect merging of dataframes in the coming sections"
   ]
  },
  {
   "cell_type": "code",
   "execution_count": 46,
   "id": "combined-front",
   "metadata": {},
   "outputs": [
    {
     "data": {
      "text/html": [
       "<div>\n",
       "<style scoped>\n",
       "    .dataframe tbody tr th:only-of-type {\n",
       "        vertical-align: middle;\n",
       "    }\n",
       "\n",
       "    .dataframe tbody tr th {\n",
       "        vertical-align: top;\n",
       "    }\n",
       "\n",
       "    .dataframe thead th {\n",
       "        text-align: right;\n",
       "    }\n",
       "</style>\n",
       "<table border=\"1\" class=\"dataframe\">\n",
       "  <thead>\n",
       "    <tr style=\"text-align: right;\">\n",
       "      <th></th>\n",
       "      <th>age_group_10 - 19 Years</th>\n",
       "      <th>age_group_20 - 29 Years</th>\n",
       "      <th>age_group_30 - 39 Years</th>\n",
       "      <th>age_group_40 - 49 Years</th>\n",
       "      <th>age_group_50 - 59 Years</th>\n",
       "      <th>age_group_60 - 69 Years</th>\n",
       "      <th>age_group_70 - 79 Years</th>\n",
       "      <th>age_group_80+ Years</th>\n",
       "      <th>hosp_No</th>\n",
       "      <th>hosp_Unknown</th>\n",
       "      <th>hosp_Yes</th>\n",
       "      <th>quarter_fourth</th>\n",
       "      <th>quarter_second</th>\n",
       "      <th>quarter_third</th>\n",
       "    </tr>\n",
       "  </thead>\n",
       "  <tbody>\n",
       "    <tr>\n",
       "      <th>5422</th>\n",
       "      <td>0</td>\n",
       "      <td>0</td>\n",
       "      <td>1</td>\n",
       "      <td>0</td>\n",
       "      <td>0</td>\n",
       "      <td>0</td>\n",
       "      <td>0</td>\n",
       "      <td>0</td>\n",
       "      <td>0</td>\n",
       "      <td>1</td>\n",
       "      <td>0</td>\n",
       "      <td>1</td>\n",
       "      <td>0</td>\n",
       "      <td>0</td>\n",
       "    </tr>\n",
       "    <tr>\n",
       "      <th>2529</th>\n",
       "      <td>0</td>\n",
       "      <td>0</td>\n",
       "      <td>0</td>\n",
       "      <td>0</td>\n",
       "      <td>0</td>\n",
       "      <td>1</td>\n",
       "      <td>0</td>\n",
       "      <td>0</td>\n",
       "      <td>0</td>\n",
       "      <td>0</td>\n",
       "      <td>0</td>\n",
       "      <td>0</td>\n",
       "      <td>0</td>\n",
       "      <td>1</td>\n",
       "    </tr>\n",
       "    <tr>\n",
       "      <th>7101</th>\n",
       "      <td>0</td>\n",
       "      <td>0</td>\n",
       "      <td>0</td>\n",
       "      <td>0</td>\n",
       "      <td>0</td>\n",
       "      <td>0</td>\n",
       "      <td>0</td>\n",
       "      <td>1</td>\n",
       "      <td>0</td>\n",
       "      <td>0</td>\n",
       "      <td>0</td>\n",
       "      <td>1</td>\n",
       "      <td>0</td>\n",
       "      <td>0</td>\n",
       "    </tr>\n",
       "    <tr>\n",
       "      <th>6241</th>\n",
       "      <td>0</td>\n",
       "      <td>1</td>\n",
       "      <td>0</td>\n",
       "      <td>0</td>\n",
       "      <td>0</td>\n",
       "      <td>0</td>\n",
       "      <td>0</td>\n",
       "      <td>0</td>\n",
       "      <td>0</td>\n",
       "      <td>1</td>\n",
       "      <td>0</td>\n",
       "      <td>1</td>\n",
       "      <td>0</td>\n",
       "      <td>0</td>\n",
       "    </tr>\n",
       "    <tr>\n",
       "      <th>2815</th>\n",
       "      <td>0</td>\n",
       "      <td>0</td>\n",
       "      <td>0</td>\n",
       "      <td>0</td>\n",
       "      <td>0</td>\n",
       "      <td>1</td>\n",
       "      <td>0</td>\n",
       "      <td>0</td>\n",
       "      <td>0</td>\n",
       "      <td>1</td>\n",
       "      <td>0</td>\n",
       "      <td>1</td>\n",
       "      <td>0</td>\n",
       "      <td>0</td>\n",
       "    </tr>\n",
       "  </tbody>\n",
       "</table>\n",
       "</div>"
      ],
      "text/plain": [
       "      age_group_10 - 19 Years  age_group_20 - 29 Years  \\\n",
       "5422                        0                        0   \n",
       "2529                        0                        0   \n",
       "7101                        0                        0   \n",
       "6241                        0                        1   \n",
       "2815                        0                        0   \n",
       "\n",
       "      age_group_30 - 39 Years  age_group_40 - 49 Years  \\\n",
       "5422                        1                        0   \n",
       "2529                        0                        0   \n",
       "7101                        0                        0   \n",
       "6241                        0                        0   \n",
       "2815                        0                        0   \n",
       "\n",
       "      age_group_50 - 59 Years  age_group_60 - 69 Years  \\\n",
       "5422                        0                        0   \n",
       "2529                        0                        1   \n",
       "7101                        0                        0   \n",
       "6241                        0                        0   \n",
       "2815                        0                        1   \n",
       "\n",
       "      age_group_70 - 79 Years  age_group_80+ Years  hosp_No  hosp_Unknown  \\\n",
       "5422                        0                    0        0             1   \n",
       "2529                        0                    0        0             0   \n",
       "7101                        0                    1        0             0   \n",
       "6241                        0                    0        0             1   \n",
       "2815                        0                    0        0             1   \n",
       "\n",
       "      hosp_Yes  quarter_fourth  quarter_second  quarter_third  \n",
       "5422         0               1               0              0  \n",
       "2529         0               0               0              1  \n",
       "7101         0               1               0              0  \n",
       "6241         0               1               0              0  \n",
       "2815         0               1               0              0  "
      ]
     },
     "execution_count": 46,
     "metadata": {},
     "output_type": "execute_result"
    }
   ],
   "source": [
    "X_train.head()"
   ]
  },
  {
   "cell_type": "code",
   "execution_count": 47,
   "id": "seasonal-reason",
   "metadata": {},
   "outputs": [
    {
     "data": {
      "text/html": [
       "<div>\n",
       "<style scoped>\n",
       "    .dataframe tbody tr th:only-of-type {\n",
       "        vertical-align: middle;\n",
       "    }\n",
       "\n",
       "    .dataframe tbody tr th {\n",
       "        vertical-align: top;\n",
       "    }\n",
       "\n",
       "    .dataframe thead th {\n",
       "        text-align: right;\n",
       "    }\n",
       "</style>\n",
       "<table border=\"1\" class=\"dataframe\">\n",
       "  <thead>\n",
       "    <tr style=\"text-align: right;\">\n",
       "      <th></th>\n",
       "      <th>age_group_10 - 19 Years</th>\n",
       "      <th>age_group_20 - 29 Years</th>\n",
       "      <th>age_group_30 - 39 Years</th>\n",
       "      <th>age_group_40 - 49 Years</th>\n",
       "      <th>age_group_50 - 59 Years</th>\n",
       "      <th>age_group_60 - 69 Years</th>\n",
       "      <th>age_group_70 - 79 Years</th>\n",
       "      <th>age_group_80+ Years</th>\n",
       "      <th>hosp_No</th>\n",
       "      <th>hosp_Unknown</th>\n",
       "      <th>hosp_Yes</th>\n",
       "      <th>quarter_fourth</th>\n",
       "      <th>quarter_second</th>\n",
       "      <th>quarter_third</th>\n",
       "    </tr>\n",
       "  </thead>\n",
       "  <tbody>\n",
       "    <tr>\n",
       "      <th>0</th>\n",
       "      <td>0</td>\n",
       "      <td>0</td>\n",
       "      <td>1</td>\n",
       "      <td>0</td>\n",
       "      <td>0</td>\n",
       "      <td>0</td>\n",
       "      <td>0</td>\n",
       "      <td>0</td>\n",
       "      <td>0</td>\n",
       "      <td>1</td>\n",
       "      <td>0</td>\n",
       "      <td>1</td>\n",
       "      <td>0</td>\n",
       "      <td>0</td>\n",
       "    </tr>\n",
       "    <tr>\n",
       "      <th>1</th>\n",
       "      <td>0</td>\n",
       "      <td>0</td>\n",
       "      <td>0</td>\n",
       "      <td>0</td>\n",
       "      <td>0</td>\n",
       "      <td>1</td>\n",
       "      <td>0</td>\n",
       "      <td>0</td>\n",
       "      <td>0</td>\n",
       "      <td>0</td>\n",
       "      <td>0</td>\n",
       "      <td>0</td>\n",
       "      <td>0</td>\n",
       "      <td>1</td>\n",
       "    </tr>\n",
       "    <tr>\n",
       "      <th>2</th>\n",
       "      <td>0</td>\n",
       "      <td>0</td>\n",
       "      <td>0</td>\n",
       "      <td>0</td>\n",
       "      <td>0</td>\n",
       "      <td>0</td>\n",
       "      <td>0</td>\n",
       "      <td>1</td>\n",
       "      <td>0</td>\n",
       "      <td>0</td>\n",
       "      <td>0</td>\n",
       "      <td>1</td>\n",
       "      <td>0</td>\n",
       "      <td>0</td>\n",
       "    </tr>\n",
       "    <tr>\n",
       "      <th>3</th>\n",
       "      <td>0</td>\n",
       "      <td>1</td>\n",
       "      <td>0</td>\n",
       "      <td>0</td>\n",
       "      <td>0</td>\n",
       "      <td>0</td>\n",
       "      <td>0</td>\n",
       "      <td>0</td>\n",
       "      <td>0</td>\n",
       "      <td>1</td>\n",
       "      <td>0</td>\n",
       "      <td>1</td>\n",
       "      <td>0</td>\n",
       "      <td>0</td>\n",
       "    </tr>\n",
       "    <tr>\n",
       "      <th>4</th>\n",
       "      <td>0</td>\n",
       "      <td>0</td>\n",
       "      <td>0</td>\n",
       "      <td>0</td>\n",
       "      <td>0</td>\n",
       "      <td>1</td>\n",
       "      <td>0</td>\n",
       "      <td>0</td>\n",
       "      <td>0</td>\n",
       "      <td>1</td>\n",
       "      <td>0</td>\n",
       "      <td>1</td>\n",
       "      <td>0</td>\n",
       "      <td>0</td>\n",
       "    </tr>\n",
       "  </tbody>\n",
       "</table>\n",
       "</div>"
      ],
      "text/plain": [
       "   age_group_10 - 19 Years  age_group_20 - 29 Years  age_group_30 - 39 Years  \\\n",
       "0                        0                        0                        1   \n",
       "1                        0                        0                        0   \n",
       "2                        0                        0                        0   \n",
       "3                        0                        1                        0   \n",
       "4                        0                        0                        0   \n",
       "\n",
       "   age_group_40 - 49 Years  age_group_50 - 59 Years  age_group_60 - 69 Years  \\\n",
       "0                        0                        0                        0   \n",
       "1                        0                        0                        1   \n",
       "2                        0                        0                        0   \n",
       "3                        0                        0                        0   \n",
       "4                        0                        0                        1   \n",
       "\n",
       "   age_group_70 - 79 Years  age_group_80+ Years  hosp_No  hosp_Unknown  \\\n",
       "0                        0                    0        0             1   \n",
       "1                        0                    0        0             0   \n",
       "2                        0                    1        0             0   \n",
       "3                        0                    0        0             1   \n",
       "4                        0                    0        0             1   \n",
       "\n",
       "   hosp_Yes  quarter_fourth  quarter_second  quarter_third  \n",
       "0         0               1               0              0  \n",
       "1         0               0               0              1  \n",
       "2         0               1               0              0  \n",
       "3         0               1               0              0  \n",
       "4         0               1               0              0  "
      ]
     },
     "execution_count": 47,
     "metadata": {},
     "output_type": "execute_result"
    }
   ],
   "source": [
    "# need to reset the index to allow contatenation with predicted values otherwise not joining on same index...\n",
    "X_train.reset_index(drop=True, inplace=True)\n",
    "y_train.reset_index(drop=True, inplace=True)\n",
    "X_test.reset_index(drop=True, inplace=True)\n",
    "y_test.reset_index(drop=True, inplace=True)\n",
    "X_train.head(5)"
   ]
  },
  {
   "cell_type": "markdown",
   "id": "composite-billion",
   "metadata": {},
   "source": [
    "The datasets are now ready for modeling"
   ]
  },
  {
   "cell_type": "markdown",
   "id": "forward-wildlife",
   "metadata": {},
   "source": [
    "## (2) Linear Regression Model\n",
    "### 2.1 Train a linear regression model using only the descriptive features selected from part 1 above"
   ]
  },
  {
   "cell_type": "code",
   "execution_count": 48,
   "id": "australian-completion",
   "metadata": {},
   "outputs": [],
   "source": [
    "# Train aka fit, a model using all continuous and categorical features.\n",
    "multiple_linreg = LinearRegression().fit(X_train, y_train)"
   ]
  },
  {
   "cell_type": "markdown",
   "id": "brave-endorsement",
   "metadata": {},
   "source": [
    "### 2.2.1 Print out the coefficients learned by the model"
   ]
  },
  {
   "cell_type": "code",
   "execution_count": 49,
   "id": "improved-generic",
   "metadata": {},
   "outputs": [
    {
     "name": "stdout",
     "output_type": "stream",
     "text": [
      "\n",
      "Features are: \n",
      " Index(['age_group_10 - 19 Years', 'age_group_20 - 29 Years',\n",
      "       'age_group_30 - 39 Years', 'age_group_40 - 49 Years',\n",
      "       'age_group_50 - 59 Years', 'age_group_60 - 69 Years',\n",
      "       'age_group_70 - 79 Years', 'age_group_80+ Years', 'hosp_No',\n",
      "       'hosp_Unknown', 'hosp_Yes', 'quarter_fourth', 'quarter_second',\n",
      "       'quarter_third'],\n",
      "      dtype='object')\n",
      "\n",
      "Coeficients are: \n",
      " [-0.00180299 -0.00501887 -0.00377889 -0.00880146 -0.00077769  0.01647537\n",
      "  0.10322368  0.25809879 -0.00923587  0.00197956  0.20042244 -0.03228834\n",
      " -0.01373709 -0.03493683]\n",
      "\n",
      "Intercept is: \n",
      " 0.035222222555672596\n",
      "\n",
      "Features and coeficients: \n",
      " [('age_group_10 - 19 Years', -0.001802993310214471), ('age_group_20 - 29 Years', -0.005018870483134937), ('age_group_30 - 39 Years', -0.003778887770674145), ('age_group_40 - 49 Years', -0.008801457360432195), ('age_group_50 - 59 Years', -0.0007776875131732007), ('age_group_60 - 69 Years', 0.016475374796475272), ('age_group_70 - 79 Years', 0.10322367576115618), ('age_group_80+ Years', 0.2580987862007913), ('hosp_No', -0.00923587157577048), ('hosp_Unknown', 0.001979556147970839), ('hosp_Yes', 0.200422437103959), ('quarter_fourth', -0.032288335494302975), ('quarter_second', -0.013737090814207568), ('quarter_third', -0.0349368312974997)]\n"
     ]
    },
    {
     "data": {
      "text/plain": [
       "<BarContainer object of 14 artists>"
      ]
     },
     "execution_count": 49,
     "metadata": {},
     "output_type": "execute_result"
    },
    {
     "data": {
      "image/png": "[encoded data removed]",
      "text/plain": [
       "<Figure size 720x720 with 1 Axes>"
      ]
     },
     "metadata": {
      "needs_background": "light"
     },
     "output_type": "display_data"
    }
   ],
   "source": [
    "# Print the weights learned for each feature.\n",
    "print(\"\\nFeatures are: \\n\", X_train.columns)\n",
    "print(\"\\nCoeficients are: \\n\", multiple_linreg.coef_)\n",
    "print(\"\\nIntercept is: \\n\", multiple_linreg.intercept_)\n",
    "print(\"\\nFeatures and coeficients: \\n\", list(zip(X_train.columns, multiple_linreg.coef_)))\n",
    "\n",
    "# plot the co-efficients in a bar chart\n",
    "plt.figure(figsize=(10,10))\n",
    "plt.xticks(rotation=90)\n",
    "plt.bar(X_train.columns, multiple_linreg.coef_, 0.5)"
   ]
  },
  {
   "cell_type": "markdown",
   "id": "reduced-elite",
   "metadata": {},
   "source": [
    "### 2.2.2 Interpreting the linear regression model\n",
    "\n",
    "The following explanation was adapted from sample exercise COMP47350-sample_solution_Task2-PredictiveModeling-Evaluation-CreditRiskPrediction:\n",
    "https://brightspace.ucd.ie/d2l/le/content/106013/viewContent/1420923/View\n",
    "\n",
    "- Linear regression is a modeling tool that is used to make predictions based on linear relationship between the target (dependent variable) and any number of predictors (independent variables)\n",
    "    - It finds the line of best fit the describes the relationship between the target and predictors \n",
    "    - This line is calculated by minimising the overall error\n",
    "- The linear regression formula takes the following form:\n",
    "    - $target\\_feature = w_0 + w_1 * feature_1 + w_2*feature_2 + ...+ w_n*feature_n $\n",
    "    - The output of this formula will be a continuous value that can be less than 0 and higher than 1\n",
    "- We can see the calculated intercept is 190.47\n",
    "    - This is the starting point. i.e. if all other coefficients are zero then the model result will be 190.47\n",
    "    - If the model were plotted on a graph, this is where the model line would intercept the y axis\n",
    "- We can see all the coefficients for each feature\n",
    "    - These are zipped together in a single list for ease of inspection.\n",
    "    - The sum of all the feature*coefficients + intercept will result in the model prediction  \n",
    "- Each feature is a binary 0 or 1. As we can see, the co-efficients for \"age_group_80+ Years\", \"age_group_70 – 79 Years\" and \"hosp\" have the biggest effect on predicting the target outcome. \n",
    "    - This makes sense when looking back at the plots in section 1.2.2, where the biggest correlations with death were a \"Yes\" value for \"hosp\", \"70–79 Years\" for \"age_group\" and \"80+ Years\" for \"age_group\".\n",
    "- A problem that I can see for training the prediction model on this data is the massive discrepancy in numbers of deaths versus numbers of non-deaths. The model has far fewer cases in which a death occurs, so it does not get as much training for perdicting a death. This of course is in-line with the statistics on COVID-19 – there are far more non-deaths than deaths – so, perhaps more data is needed to train the model more accurately. \n",
    "    \n",
    "As we have learned, it is important to note that the output from a linear regression model is not suited to the classification problem that we are trying to solve.\n",
    "- The output is not a probability and an additional thresholding step is necessary to convert the output into a binary classification\n",
    "- We will threshold the output so that any values >=0.5 will be cast to 1, any values <0.5 will be cast to 0\n",
    "\n",
    "<img src=\"linear_regression_outliers.png\"> <br>\n",
    "source: https://medium.com/@rgotesman1/learning-machine-learning-part-3-logistic-regression-94db47a94ea3"
   ]
  },
  {
   "cell_type": "markdown",
   "id": "danish-correlation",
   "metadata": {},
   "source": [
    "### 2.3.1 Print the predicted target feature value for the first 10 training examples.\n",
    "- Here we will print the predicted target feature value for the first 10 training examples. \n",
    "- We will threshold the predicted target feature value given by the linear regression model at 0.5, to get the predicted class for each example. \n",
    "    - If value is >= 0.5 it is cast to 1, if < 0.5 it is cast to 0"
   ]
  },
  {
   "cell_type": "code",
   "execution_count": 50,
   "id": "rapid-contrary",
   "metadata": {},
   "outputs": [
    {
     "name": "stdout",
     "output_type": "stream",
     "text": [
      "\n",
      "Predictions with multiple linear regression: \n",
      "\n",
      "   death  Predicted\n",
      "0      0        0.0\n",
      "1      0        0.0\n",
      "2      0        0.0\n",
      "3      0        0.0\n",
      "4      0        0.0\n",
      "5      0        0.0\n",
      "6      0        0.0\n",
      "7      0        0.0\n",
      "8      0        0.0\n",
      "9      0        0.0\n"
     ]
    }
   ],
   "source": [
    "# calculate the prediction and threshold the value. If >= 0.5 its true\n",
    "multiple_linreg_predictions_train = (multiple_linreg.predict(X_train) >= 0.5) * 1.0\n",
    "\n",
    "print(\"\\nPredictions with multiple linear regression: \\n\")\n",
    "actual_vs_predicted_multiplelinreg = pd.concat([y_train, pd.DataFrame(multiple_linreg_predictions_train, columns=['Predicted'])], axis=1)\n",
    "print(actual_vs_predicted_multiplelinreg.head(10))"
   ]
  },
  {
   "cell_type": "markdown",
   "id": "breathing-benefit",
   "metadata": {},
   "source": [
    "### 2.3.2 Evaluation metrics based on training data\n",
    "- We will print the classification evaluation measures computed on the training set (e.g. Accuracy, Confusion matrix, Precision, Recall, F1)\n",
    "- We will discuss findings based on these measures"
   ]
  },
  {
   "cell_type": "code",
   "execution_count": 51,
   "id": "promotional-notebook",
   "metadata": {},
   "outputs": [
    {
     "name": "stdout",
     "output_type": "stream",
     "text": [
      "==================== Train Data =======================\n",
      "Accuracy:  0.9677324296449094\n",
      "Confusion matrix: \n",
      " [[6568    0]\n",
      " [ 219    0]]\n",
      "Classification report:\n",
      "                precision    recall  f1-score   support\n",
      "\n",
      "           0       0.97      1.00      0.98      6568\n",
      "           1       0.00      0.00      0.00       219\n",
      "\n",
      "    accuracy                           0.97      6787\n",
      "   macro avg       0.48      0.50      0.49      6787\n",
      "weighted avg       0.94      0.97      0.95      6787\n",
      "\n",
      "======================================================\n"
     ]
    }
   ],
   "source": [
    "# Some more evaluation metrics.\n",
    "print(\"==================== Train Data =======================\")\n",
    "print(\"Accuracy: \", metrics.accuracy_score(y_train, multiple_linreg_predictions_train))\n",
    "print(\"Confusion matrix: \\n\", metrics.confusion_matrix(y_train, multiple_linreg_predictions_train))\n",
    "print(\"Classification report:\\n \", metrics.classification_report(y_train, multiple_linreg_predictions_train))\n",
    "print(\"======================================================\")"
   ]
  },
  {
   "cell_type": "markdown",
   "id": "personalized-secret",
   "metadata": {},
   "source": [
    "##### Interpretation of results\n",
    "- Accuracy\n",
    "    - This is simply stating how often the model is correct. We have an accuracy of ~97%\n",
    "- Confusion Matrix\n",
    "    - [0][0] TRUE NEGATIVE - The number that is predicted 0 that was actually 0\n",
    "    - [0][1] FALSE POSITIVE - The number that is predicted 1 that is actually 0\n",
    "    - [1][0] FALSE NEGATIVE - The number that is predicted 0 that is actually 1\n",
    "    - [1][1] TRUE POSITIVE - The number that is predicted 1 that is actually 1\n",
    "- Precision - How good the model is at predicting the positive class\n",
    "    - What % of the predicted positive are actually positive\n",
    "    - It is the number values correctly predicted positive over the total number of  positive values\n",
    "    - Precision Positive is 0.00\n",
    "    - Precision Negative is 0.97\n",
    "- Recall\n",
    "    - What % of the positive values did we predict\n",
    "    - Is the number correctly predicted positive over the total number actual positive\n",
    "    - Recall Positive is 0.00\n",
    "    - Recall Negative is 1.00\n",
    "- F1 Score\n",
    "    - Is an a weighted average of Precision and recall\n",
    "    - F1 Score Positive is 0.00\n",
    "    - F1 Score Negative is 0.98\n",
    "\n",
    "Summary\n",
    "- The model does not predict any positives – it only predicts negatives. \n",
    "- This makes sense as the model has far more negative data to learn from - it is the majority class: ~3% of the dataframe's entries are positives, while the rest are negatives. \n",
    "- This is not good. Predicting non-death 100% of the time is not prediction.\n",
    "- It would be better for the model to predict more deaths than actually occur – by as small ammount as possible – as it means more patients that need special attention would get it.\n",
    "- The down side of this would be that people who need special attention may not get it if hospital resources are stretched from the other patients who have been evaluated as needing special attention. However, this is still better than predicting that no patients need special attention."
   ]
  },
  {
   "cell_type": "markdown",
   "id": "frequent-japan",
   "metadata": {},
   "source": [
    "#### 2.3.3 Retrying the model with a lower threshold\n",
    "- **For my own investigation, I will try the model with a lower threshold to see how accurate it is.**\n",
    "- We will threshold the predicted target feature value given by the linear regression model at 0.25, to get the predicted class for each example. \n",
    "    - If value is >= 0.25 it is cast to 1, if < 0.25 it is cast to 0"
   ]
  },
  {
   "cell_type": "code",
   "execution_count": 52,
   "id": "aging-shelf",
   "metadata": {},
   "outputs": [
    {
     "name": "stdout",
     "output_type": "stream",
     "text": [
      "\n",
      "Predictions with multiple linear regression: \n",
      "\n",
      "   death  Predicted\n",
      "0      0        0.0\n",
      "1      0        0.0\n",
      "2      0        1.0\n",
      "3      0        0.0\n",
      "4      0        0.0\n",
      "5      0        0.0\n",
      "6      0        0.0\n",
      "7      0        0.0\n",
      "8      0        0.0\n",
      "9      0        0.0\n"
     ]
    }
   ],
   "source": [
    "# calculate the prediction and threshold the value. If >= 0.25 its true\n",
    "multiple_linreg_predictions_train_2 = (multiple_linreg.predict(X_train) >= 0.25) * 1.0\n",
    "\n",
    "print(\"\\nPredictions with multiple linear regression: \\n\")\n",
    "actual_vs_predicted_multiplelinreg_2 = pd.concat([y_train, pd.DataFrame(multiple_linreg_predictions_train_2, columns=['Predicted'])], axis=1)\n",
    "print(actual_vs_predicted_multiplelinreg_2.head(10))"
   ]
  },
  {
   "cell_type": "markdown",
   "id": "lucky-tournament",
   "metadata": {},
   "source": [
    "#### 2.3.4 Evaluation metrics based on training data (2)\n",
    "- We will print the classification evaluation measures computed on the training set (e.g. Accuracy, Confusion matrix, Precision, Recall, F1)\n",
    "- We will discuss findings based on these measures"
   ]
  },
  {
   "cell_type": "code",
   "execution_count": 53,
   "id": "identical-colombia",
   "metadata": {},
   "outputs": [
    {
     "name": "stdout",
     "output_type": "stream",
     "text": [
      "==================== Train Data =======================\n",
      "Accuracy:  0.9538824222778842\n",
      "Confusion matrix: \n",
      " [[6326  242]\n",
      " [  71  148]]\n",
      "Classification report:\n",
      "                precision    recall  f1-score   support\n",
      "\n",
      "           0       0.99      0.96      0.98      6568\n",
      "           1       0.38      0.68      0.49       219\n",
      "\n",
      "    accuracy                           0.95      6787\n",
      "   macro avg       0.68      0.82      0.73      6787\n",
      "weighted avg       0.97      0.95      0.96      6787\n",
      "\n",
      "======================================================\n"
     ]
    }
   ],
   "source": [
    "# Some more evaluation metrics.\n",
    "print(\"==================== Train Data =======================\")\n",
    "print(\"Accuracy: \", metrics.accuracy_score(y_train, multiple_linreg_predictions_train_2))\n",
    "print(\"Confusion matrix: \\n\", metrics.confusion_matrix(y_train, multiple_linreg_predictions_train_2))\n",
    "print(\"Classification report:\\n \", metrics.classification_report(y_train, multiple_linreg_predictions_train_2))\n",
    "print(\"======================================================\")"
   ]
  },
  {
   "cell_type": "markdown",
   "id": "further-external",
   "metadata": {},
   "source": [
    "##### Interpretation of results (2)\n",
    "- Accuracy\n",
    "    - We have an accuracy of ~95%\n",
    "- Confusion Matrix\n",
    "    - [0][0] TRUE NEGATIVE - The number that is predicted 0 that was actually 0\n",
    "    - [0][1] FALSE POSITIVE - The number that is predicted 1 that is actually 0\n",
    "    - [1][0] FALSE NEGATIVE - The number that is predicted 0 that is actually 1\n",
    "    - [1][1] TRUE POSITIVE - The number that is predicted 1 that is actually 1\n",
    "    \n",
    "- Precision - How good the model is at predicting the positive class\n",
    "    - Precision Positive is now 0.38\n",
    "    - Precision Negative is now 0.99\n",
    "- Recall\n",
    "    - Recall Positive is now 0.68\n",
    "    - Recall Negative is now 0.97\n",
    "- F1 Score\n",
    "    - Is an a weighted average of Precision and recall\n",
    "    - F1 Score Positive is now 0.49\n",
    "    - F1 Score Negative is now 0.98\n",
    "\n",
    "Summary\n",
    "- This is an improvement over the previous threshold.\n",
    "- The model's precision positive is still only 0.38.\n",
    "    - However, it now predicts more true positives than it does false negatives.\n",
    "- It makes sense that the model is not very accurate at predicting positives as it has far more negative data to learn from, as I said above. \n",
    "- This is still not ideal – the low precision – but it is better than the threshold of 0.5.\n",
    "- It is better that the model predicts more deaths correctly than non-deaths incorrectly.\n",
    "- The down side of this is that there are still false negatives predicted, and the precision of the positive prediction is low.\n",
    "\n",
    "- **Because of the instructions for this exercise – which specified setting the threshold at 0.5 – I will not use the model with the lower threshold for further testing**"
   ]
  },
  {
   "cell_type": "markdown",
   "id": "accomplished-concern",
   "metadata": {},
   "source": [
    "### 2.4.1 Evaluate the model using the hold-out (30% examples) test set\n",
    "- The results from the test data will be compared the results from the training data.\n",
    "- In addition they will be compared to the results from a cross-validated model (i.e. a new model trained and evaluated using cross-validation on the full dataset)."
   ]
  },
  {
   "cell_type": "code",
   "execution_count": 54,
   "id": "concerned-african",
   "metadata": {},
   "outputs": [
    {
     "name": "stdout",
     "output_type": "stream",
     "text": [
      "\n",
      "Predictions with multiple linear regression: \n",
      "\n",
      "   death  Predicted\n",
      "0      0        0.0\n",
      "1      0        0.0\n",
      "2      0        0.0\n",
      "3      0        0.0\n",
      "4      1        0.0\n",
      "5      1        0.0\n",
      "6      0        0.0\n",
      "7      0        0.0\n",
      "8      0        0.0\n",
      "9      0        0.0\n"
     ]
    }
   ],
   "source": [
    "# calculate the prediction and threshold the value. If >= 0.5 its true\n",
    "multiple_linreg_predictions_test = (multiple_linreg.predict(X_test) >= 0.5) * 1.0\n",
    "\n",
    "print(\"\\nPredictions with multiple linear regression: \\n\")\n",
    "actual_vs_predicted_multiplelinreg = pd.concat([y_test, pd.DataFrame(multiple_linreg_predictions_test, columns=['Predicted'])], axis=1)\n",
    "print(actual_vs_predicted_multiplelinreg.head(10))"
   ]
  },
  {
   "cell_type": "markdown",
   "id": "uniform-calendar",
   "metadata": {},
   "source": [
    "##### Evaluation metrics based on test data"
   ]
  },
  {
   "cell_type": "code",
   "execution_count": 55,
   "id": "gentle-hungary",
   "metadata": {},
   "outputs": [
    {
     "name": "stdout",
     "output_type": "stream",
     "text": [
      "==================== Test Data =======================\n",
      "Accuracy:  0.965979381443299\n",
      "Confusion matrix: \n",
      " [[2811    0]\n",
      " [  99    0]]\n",
      "Classification report - Test data:\n",
      "                precision    recall  f1-score   support\n",
      "\n",
      "           0       0.97      1.00      0.98      2811\n",
      "           1       0.00      0.00      0.00        99\n",
      "\n",
      "    accuracy                           0.97      2910\n",
      "   macro avg       0.48      0.50      0.49      2910\n",
      "weighted avg       0.93      0.97      0.95      2910\n",
      "\n",
      "\n",
      "==================== Train Data ======================\n",
      "Accuracy:  0.9677324296449094\n",
      "Confusion matrix: \n",
      " [[6568    0]\n",
      " [ 219    0]]\n",
      "\n",
      "Classification report: - Training data\n",
      "                precision    recall  f1-score   support\n",
      "\n",
      "           0       0.97      1.00      0.98      6568\n",
      "           1       0.00      0.00      0.00       219\n",
      "\n",
      "    accuracy                           0.97      6787\n",
      "   macro avg       0.48      0.50      0.49      6787\n",
      "weighted avg       0.94      0.97      0.95      6787\n",
      "\n"
     ]
    }
   ],
   "source": [
    "# Some more evaluation metrics.\n",
    "print(\"==================== Test Data =======================\")\n",
    "print(\"Accuracy: \", metrics.accuracy_score(y_test, multiple_linreg_predictions_test))\n",
    "print(\"Confusion matrix: \\n\", metrics.confusion_matrix(y_test, multiple_linreg_predictions_test))\n",
    "print(\"Classification report - Test data:\\n \", metrics.classification_report(y_test, multiple_linreg_predictions_test))\n",
    "print(\"\\n==================== Train Data ======================\")\n",
    "print(\"Accuracy: \", metrics.accuracy_score(y_train, multiple_linreg_predictions_train))\n",
    "print(\"Confusion matrix: \\n\", metrics.confusion_matrix(y_train, multiple_linreg_predictions_train))\n",
    "print(\"\\nClassification report: - Training data\\n \", metrics.classification_report(y_train, multiple_linreg_predictions_train))"
   ]
  },
  {
   "cell_type": "markdown",
   "id": "damaged-rebate",
   "metadata": {},
   "source": [
    "**Interpretation of test results and comparison with training results**\n",
    "- Accuracy\n",
    "    - The accuracy of the test and train data is in-line at ~97% (the train data is slightly higher: 96.8% versus 96.6%)\n",
    "- Precision\n",
    "    - The precision score for predicting the positive case is 0% in both test and train data.\n",
    "    - The precision score for predicting the negative case has also stayed the same for both test and train data\n",
    "- Recall\n",
    "    - The recall score for predicting the positive case is 0% in both test and train data.\n",
    "    - The recall score for predicting the negative case is 100% in both test and train data.\n",
    "- F1\n",
    "    - The f1 score for predicting the positive case is 0% in both test and train data.\n",
    "    - The f1 score for predicting the negative case has stayed at 98% in both test and train data.\n",
    "\n",
    "**Summary**\n",
    "- The values are much the same in both the test and train data\n",
    "- Thus, all of the issues with the prediction model for the train data remain for the test data\n",
    "- We will now use cross validation for more comparisons to be made"
   ]
  },
  {
   "cell_type": "markdown",
   "id": "unlimited-process",
   "metadata": {},
   "source": [
    "#### 2.4.2 Cross validation\n",
    "- We will now perform cross validation on the linear regression model. \n",
    "- Here we perform the same evaluation as above but multiple times\n",
    "- Each time the data is shuffled so we get a slightly different view of the data for training and testing\n",
    "- This works well for evaluating on a limited set of data\n",
    "- We will store the results in a dictionary for later use\n",
    "\n",
    "First we need to create a function to perform this cross validation. Sklearn does not provide one for linear regression. However it does for logistic and random forests models\n",
    "- Cross validation Function can be seen below, which is taken from sample exercise COMP47350-sample_solution_Task2-PredictiveModeling-Evaluation-CreditRiskPrediction:\n",
    "https://brightspace.ucd.ie/d2l/le/content/106013/viewContent/1420923/View"
   ]
  },
  {
   "cell_type": "code",
   "execution_count": 56,
   "id": "convenient-nurse",
   "metadata": {},
   "outputs": [],
   "source": [
    "def cross_val_LinReg(X, y, cv=3, scoring='accuracy'):\n",
    "    \"\"\"Functions to carry out cross validation on the linear regression model\n",
    "    Default number of validations is 3. The randon state will be updated \n",
    "    at each iteration to allow our results to be repeated\"\"\"\n",
    "    \n",
    "    # store results\n",
    "    results = []\n",
    "    # evaluate cv times and append to results\n",
    "    for i in range(cv):\n",
    "        # set up train test split\n",
    "        X_train, X_test, y_train, y_test = train_test_split(X, y, random_state=i , test_size=0.3)\n",
    "        # generate model\n",
    "        multiple_linreg = LinearRegression().fit(X_train, y_train)\n",
    "        # threshold\n",
    "        multiple_linreg_predictions = (multiple_linreg.predict(X_test) >= 0.5) * 1.0\n",
    "        # calc score\n",
    "        if scoring=='accuracy':\n",
    "            score = metrics.accuracy_score(y_test, multiple_linreg_predictions)\n",
    "        elif scoring=='precision':\n",
    "            score = metrics.precision_score(y_test, multiple_linreg_predictions)\n",
    "        elif scoring=='f1':\n",
    "            score = metrics.f1_score(y_test, multiple_linreg_predictions)\n",
    "        elif scoring=='recall':\n",
    "            score = metrics.recall_score(y_test, multiple_linreg_predictions)\n",
    "        # append to results\n",
    "        results.append(score)\n",
    "    return results"
   ]
  },
  {
   "cell_type": "markdown",
   "id": "pretty-technology",
   "metadata": {},
   "source": [
    "We will now create an additional function to perform 10 fold cross validation and store results into a dataframe\n",
    "- This will be used to simplify further analysis the dataset, looking at accuracy, precision, recall, f1.\n",
    "- This function is taken from sample exercise COMP47350-sample_solution_Task2-PredictiveModeling-Evaluation-CreditRiskPrediction:\n",
    "https://brightspace.ucd.ie/d2l/le/content/106013/viewContent/1420923/View"
   ]
  },
  {
   "cell_type": "code",
   "execution_count": 57,
   "id": "complimentary-extraction",
   "metadata": {},
   "outputs": [],
   "source": [
    "def cross_val_LinReg_DF(X,y):\n",
    "    \"\"\"Function to perform cross validation and store results \n",
    "    in dataframe. Cross validation looks at accuracy, precision, \n",
    "    recall, f1. Returns a dataframe with results\"\"\"\n",
    "\n",
    "    linRegResults = {}\n",
    "    # metrics to test against\n",
    "    test_metrics = ['accuracy','precision','recall', 'f1']\n",
    "    \n",
    "    for metric in test_metrics:\n",
    "        # generate test results\n",
    "        result = cross_val_LinReg(X, y, cv=10, scoring=metric)\n",
    "        length = len(result)\n",
    "        # store result in dict\n",
    "        linRegResults[metric] = sum(result)/length\n",
    "\n",
    "    # create dataframe with results\n",
    "    LinRegDF = pd.DataFrame.from_dict(linRegResults, orient='index', columns=['Linear_Regression'])\n",
    "    \n",
    "    return LinRegDF"
   ]
  },
  {
   "cell_type": "markdown",
   "id": "dutch-acquisition",
   "metadata": {},
   "source": [
    "Preform 10 fold cross validation using cross_val_LinReg_DF function\n",
    "- Results summarised below"
   ]
  },
  {
   "cell_type": "code",
   "execution_count": 58,
   "id": "incoming-yahoo",
   "metadata": {},
   "outputs": [
    {
     "name": "stdout",
     "output_type": "stream",
     "text": [
      "Mean results from 10 fold cross validation are:\n"
     ]
    },
    {
     "data": {
      "text/html": [
       "<div>\n",
       "<style scoped>\n",
       "    .dataframe tbody tr th:only-of-type {\n",
       "        vertical-align: middle;\n",
       "    }\n",
       "\n",
       "    .dataframe tbody tr th {\n",
       "        vertical-align: top;\n",
       "    }\n",
       "\n",
       "    .dataframe thead th {\n",
       "        text-align: right;\n",
       "    }\n",
       "</style>\n",
       "<table border=\"1\" class=\"dataframe\">\n",
       "  <thead>\n",
       "    <tr style=\"text-align: right;\">\n",
       "      <th></th>\n",
       "      <th>Linear_Regression</th>\n",
       "    </tr>\n",
       "  </thead>\n",
       "  <tbody>\n",
       "    <tr>\n",
       "      <th>accuracy</th>\n",
       "      <td>0.969107</td>\n",
       "    </tr>\n",
       "    <tr>\n",
       "      <th>precision</th>\n",
       "      <td>0.390035</td>\n",
       "    </tr>\n",
       "    <tr>\n",
       "      <th>recall</th>\n",
       "      <td>0.050001</td>\n",
       "    </tr>\n",
       "    <tr>\n",
       "      <th>f1</th>\n",
       "      <td>0.080018</td>\n",
       "    </tr>\n",
       "  </tbody>\n",
       "</table>\n",
       "</div>"
      ],
      "text/plain": [
       "           Linear_Regression\n",
       "accuracy            0.969107\n",
       "precision           0.390035\n",
       "recall              0.050001\n",
       "f1                  0.080018"
      ]
     },
     "execution_count": 58,
     "metadata": {},
     "output_type": "execute_result"
    }
   ],
   "source": [
    "linRegDF = cross_val_LinReg_DF(X,y)\n",
    "print(f\"Mean results from 10 fold cross validation are:\")\n",
    "linRegDF"
   ]
  },
  {
   "cell_type": "markdown",
   "id": "internal-edward",
   "metadata": {},
   "source": [
    "The accuracy results are mostly the same. The precision for predicting positives is higher than before. The recall and f1 are also slightly higher. We have taken the mean of 10 sets of results. "
   ]
  },
  {
   "cell_type": "markdown",
   "id": "breathing-orbit",
   "metadata": {},
   "source": [
    "## (3) Logistic Regression"
   ]
  },
  {
   "cell_type": "markdown",
   "id": "received-accounting",
   "metadata": {},
   "source": [
    "### 3.1 Train a logistic regression model using only the descriptive features selected from part 1 above"
   ]
  },
  {
   "cell_type": "code",
   "execution_count": 59,
   "id": "norwegian-shell",
   "metadata": {},
   "outputs": [],
   "source": [
    "# Train aka fit, a model using all continuous and categorical features.\n",
    "multiple_logisticreg = LogisticRegression().fit(X_train, y_train)"
   ]
  },
  {
   "cell_type": "markdown",
   "id": "fewer-modem",
   "metadata": {},
   "source": [
    "### 3.2.1 Print out the coefficients learned by the model"
   ]
  },
  {
   "cell_type": "code",
   "execution_count": 60,
   "id": "comprehensive-booking",
   "metadata": {},
   "outputs": [
    {
     "name": "stdout",
     "output_type": "stream",
     "text": [
      "\n",
      "Features are: \n",
      " Index(['age_group_10 - 19 Years', 'age_group_20 - 29 Years',\n",
      "       'age_group_30 - 39 Years', 'age_group_40 - 49 Years',\n",
      "       'age_group_50 - 59 Years', 'age_group_60 - 69 Years',\n",
      "       'age_group_70 - 79 Years', 'age_group_80+ Years', 'hosp_No',\n",
      "       'hosp_Unknown', 'hosp_Yes', 'quarter_fourth', 'quarter_second',\n",
      "       'quarter_third'],\n",
      "      dtype='object')\n",
      "\n",
      "Coeficients are: \n",
      " [-1.40792095 -1.83719875 -0.83371267 -0.89160839  0.1919248   1.05054955\n",
      "  2.21466131  3.13508638 -0.8272355   0.01604949  1.84408926 -0.80815988\n",
      " -0.11060672 -0.81625045]\n",
      "\n",
      "Intercept is: \n",
      " [-3.84108851]\n",
      "\n",
      "Features and coeficients: \n",
      " [('age_group_10 - 19 Years', -1.407920951614408), ('age_group_20 - 29 Years', -1.8371987542091683), ('age_group_30 - 39 Years', -0.8337126705078185), ('age_group_40 - 49 Years', -0.8916083864163719), ('age_group_50 - 59 Years', 0.19192480116255647), ('age_group_60 - 69 Years', 1.0505495519196373), ('age_group_70 - 79 Years', 2.2146613148262397), ('age_group_80+ Years', 3.135086380664066), ('hosp_No', -0.8272354960538089), ('hosp_Unknown', 0.016049489292820362), ('hosp_Yes', 1.8440892641058388), ('quarter_fourth', -0.8081598793379977), ('quarter_second', -0.11060672310928003), ('quarter_third', -0.8162504458625451)]\n"
     ]
    },
    {
     "data": {
      "text/plain": [
       "<BarContainer object of 14 artists>"
      ]
     },
     "execution_count": 60,
     "metadata": {},
     "output_type": "execute_result"
    },
    {
     "data": {
      "image/png": "[encoded data removed]",
      "text/plain": [
       "<Figure size 720x720 with 1 Axes>"
      ]
     },
     "metadata": {
      "needs_background": "light"
     },
     "output_type": "display_data"
    }
   ],
   "source": [
    "# Print the weights learned for each feature.\n",
    "print(\"\\nFeatures are: \\n\", X_train.columns)\n",
    "print(\"\\nCoeficients are: \\n\", multiple_logisticreg.coef_[0])\n",
    "print(\"\\nIntercept is: \\n\", multiple_logisticreg.intercept_)\n",
    "print(\"\\nFeatures and coeficients: \\n\", list(zip(X_train.columns, multiple_logisticreg.coef_[0])))\n",
    "\n",
    "# plot the co-efficients in a bar chart\n",
    "plt.figure(figsize=(10,10))\n",
    "plt.xticks(rotation=90)\n",
    "plt.bar(X_train.columns, multiple_logisticreg.coef_[0], 0.5)"
   ]
  },
  {
   "cell_type": "markdown",
   "id": "catholic-control",
   "metadata": {},
   "source": [
    "#### 3.2.2 Interpreting the results \n",
    "\n",
    "The following explanation was adapted from sample exercise COMP47350-sample_solution_Task2-PredictiveModeling-Evaluation-CreditRiskPrediction:\n",
    "https://brightspace.ucd.ie/d2l/le/content/106013/viewContent/1420923/View\n",
    "\n",
    "The logistic regression function is a little different than the linear regression function. \n",
    "- The output of the logistic function is a probability, a value between 0 and 1\n",
    "- The output of the linear function is a continuous value that is not a probability\n",
    "- Differences aside there is a direct relationship between the two\n",
    "    - The first part of logistic regression function is similar to linear regression i.e. We find the line of best fit\n",
    "    - We then pass this equation through what is called a sigmoid function\n",
    "    - This sigmoid function will output a value bound between 0 and 1. It is a probability\n",
    "    - The model then applies a threshold to this probability so that if is is >= 0.5 its cast to 1 and if it is <0.5 it is cast to 0\n",
    "    - All of these steps are carried out within the logistic regression function, however the threshold value can be adjusted up or down depending on the problem you are trying to solve.\n",
    "\n",
    "The model estimated in logistic regression is given by the logistic function: <br>\n",
    "$probability(target=1|descriptive\\_features)=logistic(w_0 + w_1 * feature_1 + w_2*feature_2 + ...+ w_n*feature_n)$ <br>\n",
    "where $logistic(x)$ is defined as: $logistic(x) = \\frac{e ^ x}{1 + e ^ x} = \\frac{1}{1+e^{-x}}$\n",
    "\n",
    "- From the values above can see the calculated intercept is -3.84108851\n",
    "    - This is the starting point. i.e. if all other coefficients were zero then the value for 'x' would be -3.84108851. \n",
    "    - This is the input to the logistic function and the logistic function will then calculate the probability and threshold based on this.\n",
    "- We can see all the coefficients for each features\n",
    "    - These are zipped together in a single list for ease of inspection.\n",
    "    - The effect of these on the value 'x' is the same as for linear regression\n",
    "    - Only when the value 'x' is fed into the logistic function do we see the real difference between the to methods.\n",
    "    \n",
    "<img src=\"logistic_regression_outliers.png\"> <br>\n",
    "Source: https://towardsdatascience.com/understanding-logistic-regression-9b02c2aec102"
   ]
  },
  {
   "cell_type": "markdown",
   "id": "false-teaching",
   "metadata": {},
   "source": [
    "### 3.3.1 Printing 10 predicted target features and evaluate the prediction\n",
    "- Here we will print the predicted target feature value for the first 10 training examples based on training data"
   ]
  },
  {
   "cell_type": "code",
   "execution_count": 61,
   "id": "eastern-witness",
   "metadata": {},
   "outputs": [
    {
     "name": "stdout",
     "output_type": "stream",
     "text": [
      "\n",
      "Predictions with multiple linear regression: \n",
      "\n",
      "   death  Predicted\n",
      "0      0          0\n",
      "1      0          0\n",
      "2      0          0\n",
      "3      0          0\n",
      "4      0          0\n",
      "5      0          0\n",
      "6      0          0\n",
      "7      0          0\n",
      "8      0          0\n",
      "9      0          0\n"
     ]
    }
   ],
   "source": [
    "# calculate the prediction and threshold the value. If >= 0.5 its true\n",
    "multiple_logisticreg_predictions_train = multiple_logisticreg.predict(X_train)\n",
    "\n",
    "print(\"\\nPredictions with multiple linear regression: \\n\")\n",
    "actual_vs_predicted_multiplelogisticreg = pd.concat([y_train, pd.DataFrame(multiple_logisticreg_predictions_train, columns=['Predicted'])], axis=1)\n",
    "print(actual_vs_predicted_multiplelogisticreg.head(10))"
   ]
  },
  {
   "cell_type": "markdown",
   "id": "superb-carpet",
   "metadata": {},
   "source": [
    "#### 3.3.2 Evaluation metrics based on training data\n",
    "- We will print the classification evaluation measures computed on the training set (e.g. Accuracy, Confusion matrix, Precision, Recall, F1)\n",
    "- We will discuss finding based on these measures"
   ]
  },
  {
   "cell_type": "code",
   "execution_count": 62,
   "id": "surface-destiny",
   "metadata": {},
   "outputs": [
    {
     "name": "stdout",
     "output_type": "stream",
     "text": [
      "==================== Train Data =======================\n",
      "Accuracy:  0.9700898777073818\n",
      "Confusion matrix: \n",
      " [[6508   60]\n",
      " [ 143   76]]\n",
      "Classification report:\n",
      "                precision    recall  f1-score   support\n",
      "\n",
      "           0       0.98      0.99      0.98      6568\n",
      "           1       0.56      0.35      0.43       219\n",
      "\n",
      "    accuracy                           0.97      6787\n",
      "   macro avg       0.77      0.67      0.71      6787\n",
      "weighted avg       0.96      0.97      0.97      6787\n",
      "\n",
      "======================================================\n"
     ]
    }
   ],
   "source": [
    "# Some more evaluation metrics.\n",
    "print(\"==================== Train Data =======================\")\n",
    "print(\"Accuracy: \", metrics.accuracy_score(y_train, multiple_logisticreg_predictions_train))\n",
    "print(\"Confusion matrix: \\n\", metrics.confusion_matrix(y_train, multiple_logisticreg_predictions_train))\n",
    "print(\"Classification report:\\n \", metrics.classification_report(y_train, multiple_logisticreg_predictions_train))\n",
    "print(\"======================================================\")"
   ]
  },
  {
   "cell_type": "markdown",
   "id": "informational-treat",
   "metadata": {},
   "source": [
    "#### Interpretation of results\n",
    "- Accuracy\n",
    "    - We have an accuracy of ~97%\n",
    "- Precision - How good model is at predicting the positive class\n",
    "    - Precision Positive is 0.56\n",
    "    - Precision Negative is 0.98\n",
    "- Recall - What % of the positive values did we predict\n",
    "    - Recall Positive is 0.35\n",
    "    - Recall Negative is 0.99\n",
    "- F1 Score - Is an a weighted average of Precision and recall\n",
    "    - F1 Score Positive is 0.43\n",
    "    - F1 Score Negative is 0.98\n",
    "\n",
    "Summary\n",
    "- These values are better than the linear regression model\n",
    "- The overall accuarcy is about the same, but this model predicts positives with better precision while maintaining its accuracy in predicting negative cases.\n",
    "- It would still be better for the model to predict more deaths than actually occur – by as small ammount as possible – as it means more patients that need special attention would get it.\n",
    "- The downside here would still be that people who need special attention may not get it if hospital resources are stretched from the other patients who have been evaluated as needing special attention. However, it is better to be conservative in this approach, and over predict the number of patients that will need special care."
   ]
  },
  {
   "cell_type": "markdown",
   "id": "neither-centre",
   "metadata": {},
   "source": [
    "### 3.4.1 Evaluate the model using the hold-out (30% examples) test set\n",
    "- These results from the test data will be compared the results from the training data.\n",
    "- In addition they will be compared to the results from a cross-validated model (i.e., a new model trained and evaluated using cross-validation on the full dataset)."
   ]
  },
  {
   "cell_type": "markdown",
   "id": "increased-forestry",
   "metadata": {},
   "source": [
    "Printing Actual RiskPerformance vs predicted based on test data"
   ]
  },
  {
   "cell_type": "code",
   "execution_count": 63,
   "id": "exposed-bennett",
   "metadata": {},
   "outputs": [
    {
     "data": {
      "text/plain": [
       "Index(['age_group_10 - 19 Years', 'age_group_20 - 29 Years',\n",
       "       'age_group_30 - 39 Years', 'age_group_40 - 49 Years',\n",
       "       'age_group_50 - 59 Years', 'age_group_60 - 69 Years',\n",
       "       'age_group_70 - 79 Years', 'age_group_80+ Years', 'hosp_No',\n",
       "       'hosp_Unknown', 'hosp_Yes', 'quarter_fourth', 'quarter_second',\n",
       "       'quarter_third'],\n",
       "      dtype='object')"
      ]
     },
     "execution_count": 63,
     "metadata": {},
     "output_type": "execute_result"
    }
   ],
   "source": [
    "X_test.columns"
   ]
  },
  {
   "cell_type": "code",
   "execution_count": 64,
   "id": "spread-provincial",
   "metadata": {},
   "outputs": [
    {
     "name": "stdout",
     "output_type": "stream",
     "text": [
      "\n",
      "Predictions with multiple linear regression: \n",
      "\n",
      "    death  Predicted\n",
      "0       0          0\n",
      "1       0          0\n",
      "2       0          0\n",
      "3       0          0\n",
      "4       1          0\n",
      "5       1          0\n",
      "6       0          0\n",
      "7       0          0\n",
      "8       0          0\n",
      "9       0          0\n",
      "10      0          0\n",
      "11      0          0\n",
      "12      0          0\n",
      "13      0          0\n",
      "14      0          0\n",
      "15      0          0\n",
      "16      0          0\n",
      "17      0          0\n",
      "18      0          0\n",
      "19      0          0\n"
     ]
    }
   ],
   "source": [
    "# calculate the prediction and threshold the value. If >= 0.5 its true\n",
    "multiple_logisticreg_predictions_test = multiple_logisticreg.predict(X_test)\n",
    "\n",
    "print(\"\\nPredictions with multiple linear regression: \\n\")\n",
    "actual_vs_predicted_multiplelogisticreg = pd.concat([y_test, pd.DataFrame(multiple_logisticreg_predictions_test, columns=['Predicted'])], axis=1)\n",
    "print(actual_vs_predicted_multiplelogisticreg.head(20))"
   ]
  },
  {
   "cell_type": "markdown",
   "id": "documentary-lawrence",
   "metadata": {},
   "source": [
    "Evaluation based on test data"
   ]
  },
  {
   "cell_type": "code",
   "execution_count": 65,
   "id": "advance-stuart",
   "metadata": {},
   "outputs": [
    {
     "name": "stdout",
     "output_type": "stream",
     "text": [
      "==================== Test Data =======================\n",
      "Accuracy:  0.9683848797250859\n",
      "Confusion matrix: \n",
      " [[2788   23]\n",
      " [  69   30]]\n",
      "Classification report:\n",
      "                precision    recall  f1-score   support\n",
      "\n",
      "           0       0.98      0.99      0.98      2811\n",
      "           1       0.57      0.30      0.39        99\n",
      "\n",
      "    accuracy                           0.97      2910\n",
      "   macro avg       0.77      0.65      0.69      2910\n",
      "weighted avg       0.96      0.97      0.96      2910\n",
      "\n",
      "==================== Train Data =======================\n",
      "Accuracy:  0.9700898777073818\n",
      "Confusion matrix: \n",
      " [[6508   60]\n",
      " [ 143   76]]\n",
      "Classification report:\n",
      "                precision    recall  f1-score   support\n",
      "\n",
      "           0       0.98      0.99      0.98      6568\n",
      "           1       0.56      0.35      0.43       219\n",
      "\n",
      "    accuracy                           0.97      6787\n",
      "   macro avg       0.77      0.67      0.71      6787\n",
      "weighted avg       0.96      0.97      0.97      6787\n",
      "\n",
      "======================================================\n"
     ]
    }
   ],
   "source": [
    "# Some more evaluation metrics.\n",
    "print(\"==================== Test Data =======================\")\n",
    "print(\"Accuracy: \", metrics.accuracy_score(y_test, multiple_logisticreg_predictions_test))\n",
    "print(\"Confusion matrix: \\n\", metrics.confusion_matrix(y_test, multiple_logisticreg_predictions_test))\n",
    "print(\"Classification report:\\n \", metrics.classification_report(y_test, multiple_logisticreg_predictions_test))\n",
    "print(\"==================== Train Data =======================\")\n",
    "print(\"Accuracy: \", metrics.accuracy_score(y_train, multiple_logisticreg_predictions_train))\n",
    "print(\"Confusion matrix: \\n\", metrics.confusion_matrix(y_train, multiple_logisticreg_predictions_train))\n",
    "print(\"Classification report:\\n \", metrics.classification_report(y_train, multiple_logisticreg_predictions_train))\n",
    "print(\"======================================================\")"
   ]
  },
  {
   "cell_type": "markdown",
   "id": "painted-parts",
   "metadata": {},
   "source": [
    "#### Interpretation of test results and comparison with training results \n",
    "- Accuracy\n",
    "    - The accuracy of the test data is slightly lower: 96.8% vs 97%. \n",
    "- Precision\n",
    "    - The precision score for predicting the positive case has increased from 56% to 57%.\n",
    "    - The precision score for predicting the negative case has stayed at 98%.\n",
    "- Recall\n",
    "    - The recall score for predicting the positive case has decreased from 35% to 30%.\n",
    "    - The recall score for predicting the negative case has stayed at 99%.\n",
    "- F1\n",
    "    - The f1 score for predicting the positive case has decreased from 43% to 39%.\n",
    "    - The f1 score for predicting the negative case has stayed at 98%.\n",
    "\n",
    "Summary\n",
    "- These values seem reasonable\n",
    "- The overall accuracy level has remained the same, and the precision has increased slightly; while the recall and f1 values have decreased slightly.\n",
    "- This is a good sign that the model is generalizing\n",
    "- More comparisons need to be made and this is where cross validation steps in"
   ]
  },
  {
   "cell_type": "markdown",
   "id": "caring-gathering",
   "metadata": {},
   "source": [
    "#### 3.4.2 Cross validation\n",
    "We will first create function to perform 10 fold cross validation and store results into dataframe\n",
    "- This will be used to simplify further analysis the dataset, looking at accuracy, precision, recall, f1."
   ]
  },
  {
   "cell_type": "code",
   "execution_count": 66,
   "id": "domestic-nashville",
   "metadata": {},
   "outputs": [],
   "source": [
    "def cross_val_LogReg_DF(X,y):\n",
    "    \"\"\"Function to perform cross validation and store results \n",
    "    in dataframe. Cross validation looks at accuracy, precision, \n",
    "    recall, f1. Returns a dataframe with results\"\"\"\n",
    "\n",
    "    logRegResults = {}\n",
    "    # metrics to test against\n",
    "    test_metrics = ['accuracy','precision','recall', 'f1']\n",
    "\n",
    "    for metric in test_metrics:\n",
    "        # generate test results\n",
    "        result = cross_val_score(LogisticRegression(), X, y, scoring=metric, cv=10)\n",
    "        # store result in dict\n",
    "        logRegResults[metric] = result.mean()\n",
    "        \n",
    "    # create dataframe with results\n",
    "    LogRegDF = pd.DataFrame.from_dict(logRegResults, orient='index', columns=['Logistic_Regression'])\n",
    "    \n",
    "    return LogRegDF"
   ]
  },
  {
   "cell_type": "markdown",
   "id": "latest-unknown",
   "metadata": {},
   "source": [
    "Preform 10 fold cross validation using cross_val_LogReg_DF function\n",
    "- Results summarised below"
   ]
  },
  {
   "cell_type": "code",
   "execution_count": 67,
   "id": "attached-stage",
   "metadata": {},
   "outputs": [
    {
     "name": "stdout",
     "output_type": "stream",
     "text": [
      "Mean results from 10 fold cross validation are:\n"
     ]
    },
    {
     "data": {
      "text/html": [
       "<div>\n",
       "<style scoped>\n",
       "    .dataframe tbody tr th:only-of-type {\n",
       "        vertical-align: middle;\n",
       "    }\n",
       "\n",
       "    .dataframe tbody tr th {\n",
       "        vertical-align: top;\n",
       "    }\n",
       "\n",
       "    .dataframe thead th {\n",
       "        text-align: right;\n",
       "    }\n",
       "</style>\n",
       "<table border=\"1\" class=\"dataframe\">\n",
       "  <thead>\n",
       "    <tr style=\"text-align: right;\">\n",
       "      <th></th>\n",
       "      <th>Logistic_Regression</th>\n",
       "    </tr>\n",
       "  </thead>\n",
       "  <tbody>\n",
       "    <tr>\n",
       "      <th>accuracy</th>\n",
       "      <td>0.969475</td>\n",
       "    </tr>\n",
       "    <tr>\n",
       "      <th>precision</th>\n",
       "      <td>0.565538</td>\n",
       "    </tr>\n",
       "    <tr>\n",
       "      <th>recall</th>\n",
       "      <td>0.323589</td>\n",
       "    </tr>\n",
       "    <tr>\n",
       "      <th>f1</th>\n",
       "      <td>0.407749</td>\n",
       "    </tr>\n",
       "  </tbody>\n",
       "</table>\n",
       "</div>"
      ],
      "text/plain": [
       "           Logistic_Regression\n",
       "accuracy              0.969475\n",
       "precision             0.565538\n",
       "recall                0.323589\n",
       "f1                    0.407749"
      ]
     },
     "execution_count": 67,
     "metadata": {},
     "output_type": "execute_result"
    }
   ],
   "source": [
    "logRegDF = cross_val_LogReg_DF(X,y)\n",
    "print(f\"Mean results from 10 fold cross validation are:\")\n",
    "logRegDF"
   ]
  },
  {
   "cell_type": "markdown",
   "id": "negative-reviewer",
   "metadata": {},
   "source": [
    "These results are in line with the previous results. We have taken the mean of 10 sets of results. "
   ]
  },
  {
   "cell_type": "markdown",
   "id": "young-aspect",
   "metadata": {},
   "source": [
    "## (4) Random Forest Model"
   ]
  },
  {
   "cell_type": "markdown",
   "id": "anonymous-district",
   "metadata": {},
   "source": [
    "### 4.1 Train a random forest model using only the descriptive features selected from part 1 above \n",
    "- A random forest model will now be trained on our test data. \n",
    "- We use the RandomForestClassifier() function. \n",
    "- The random state will be set to 1 to allow the results to be repeated"
   ]
  },
  {
   "cell_type": "code",
   "execution_count": 68,
   "id": "japanese-nelson",
   "metadata": {},
   "outputs": [
    {
     "data": {
      "text/plain": [
       "RandomForestClassifier(oob_score=True, random_state=1)"
      ]
     },
     "execution_count": 68,
     "metadata": {},
     "output_type": "execute_result"
    }
   ],
   "source": [
    "# Train RF with 100 trees\n",
    "rfc = RandomForestClassifier(n_estimators=100, max_features='auto', oob_score=True, random_state=1)\n",
    "rfc.fit(X_train, y_train)"
   ]
  },
  {
   "cell_type": "markdown",
   "id": "alpha-century",
   "metadata": {},
   "source": [
    "### 4.2 Understanding the Random Forest model\n",
    "\n",
    "The following explanation was adapted from sample exercise COMP47350-sample_solution_Task2-PredictiveModeling-Evaluation-CreditRiskPrediction:\n",
    "https://brightspace.ucd.ie/d2l/le/content/106013/viewContent/1420923/View\n",
    "\n",
    "We will now try to understand how this random forest model works\n",
    "- We will first start by trying to understand a decision tree \n",
    "- A random forest is made up of an ensemble/collection of decision trees\n",
    "- Decision tree\n",
    "    - A decision tree is a set of if-then-else rules based on splitting the data based on specific features\n",
    "    - The decision on which feature to split on is based on the information gain (Gini index). \n",
    "    - The tree will always split on the feature that gives the highest information gain\n",
    "    - The feature with the highest information gain will sit at the root of each decision tree\n",
    "    - Each decision tree will be a single prediction\n",
    "- Random Forest \n",
    "    - The random forest is made up of a number of decision trees\n",
    "    - The output of the random forest is based on the majority output of all decision trees combined\n",
    "    - This gives reliable results but can be hard to interpret\n",
    "    - The random forest will keep track of the importance of features in terms of information gain, which we will see\n",
    "    \n",
    "We will now look at an example of a single decision tree to get a better understanding"
   ]
  },
  {
   "cell_type": "markdown",
   "id": "working-roberts",
   "metadata": {},
   "source": [
    "####  4.2.1  Train Decision tree\n",
    "We will train 2 decision trees, with the same test data \n",
    "- One with max_depth=4 and the other max_depth=10\n",
    "- Max depth determines how deep a decision tree can go before it must give an answer"
   ]
  },
  {
   "cell_type": "code",
   "execution_count": 69,
   "id": "civil-philippines",
   "metadata": {},
   "outputs": [
    {
     "name": "stdout",
     "output_type": "stream",
     "text": [
      "Max depth 4: \n",
      " DecisionTreeClassifier(max_depth=4, random_state=1)\n",
      "Max depth 10: \n",
      " DecisionTreeClassifier(max_depth=10, random_state=1)\n"
     ]
    }
   ],
   "source": [
    "dtc4 = DecisionTreeClassifier(max_depth=4, random_state=1)\n",
    "dtc10 = DecisionTreeClassifier(max_depth=10, random_state=1)\n",
    "dtc4.fit(X_train, y_train)\n",
    "dtc10.fit(X_train, y_train)\n",
    "print(\"Max depth 4: \\n\",dtc4)\n",
    "print(\"Max depth 10: \\n\",dtc10)"
   ]
  },
  {
   "cell_type": "markdown",
   "id": "assigned-penalty",
   "metadata": {},
   "source": [
    "###  4.2.2  Display Decision tree\n",
    "We will create graph of each tree and store as an image"
   ]
  },
  {
   "cell_type": "code",
   "execution_count": 70,
   "id": "anonymous-championship",
   "metadata": {},
   "outputs": [],
   "source": [
    "# create a Graphviz png\n",
    "with open(\"DecisionTree4.dot\", 'w') as f1:\n",
    "    f1 = export_graphviz(dtc4, out_file=f1, feature_names=X_train.columns)\n",
    "with open(\"DecisionTree10.dot\", 'w') as f2:\n",
    "    f2 = export_graphviz(dtc10, out_file=f2, feature_names=X_train.columns)\n",
    "!dot -Tpng DecisionTree4.dot -o DecisionTree4.png\n",
    "!dot -Tpng DecisionTree10.dot -o DecisionTree10.png"
   ]
  },
  {
   "cell_type": "markdown",
   "id": "applicable-petroleum",
   "metadata": {},
   "source": [
    "We can see below the decision tree with max_depth=4\n",
    "- We can see the root is hosp_yes at value 0.5, which is the most important feature.\n",
    "- For each split the the model selects the next best feature, which after 'hosp_Yes' is 'age_group_80+ Years'\n",
    "- This continues until it reaches a leaf node where the data cannot be split anymore\n",
    "- The output of this is the prediction\n",
    "- There is one path below is resolved in 3 branches\n",
    "    - hosp_Yes >= 0.5 -> age_group_80+ Years >= 0.5 -> quarter_second >= 0.5 -> Resolved to TRUE\n",
    "    - Note: only 1 entry meets this requirement.\n",
    "    - All other entries need additional branches to be resolved"
   ]
  },
  {
   "cell_type": "markdown",
   "id": "manufactured-clone",
   "metadata": {},
   "source": [
    "<img src=\"DecisionTree4.png\">"
   ]
  },
  {
   "cell_type": "markdown",
   "id": "noticed-interview",
   "metadata": {},
   "source": [
    "Viewing a decision tree with maxdepth=10 shows how complicated this model becomes \n",
    "- This is only one example of a decision tree. \n",
    "- A Random forests has 100 decision trees by default\n",
    "- Each decision tree is given a slightly different view of the data"
   ]
  },
  {
   "cell_type": "markdown",
   "id": "coordinated-carnival",
   "metadata": {},
   "source": [
    "<img src=\"DecisionTree10.png\">"
   ]
  },
  {
   "cell_type": "markdown",
   "id": "breeding-nicaragua",
   "metadata": {},
   "source": [
    "### 4.2.3 Interpretation of the random forest model\n",
    "\n",
    "The following explanation was adapted from sample exercise COMP47350-sample_solution_Task2-PredictiveModeling-Evaluation-CreditRiskPrediction:\n",
    "https://brightspace.ucd.ie/d2l/le/content/106013/viewContent/1420923/View\n",
    "\n",
    "As mentioned above the random forest will keep track of the importance of features\n",
    "- We can see from the dataframe below the results of this feature importance ranking\n",
    "- The more important features are the features that the random forest has identified as having higher information gain\n",
    "- This list is the combined result of the 100 decision trees that make up the random forest model\n",
    "- This feature ranking will help us in our optimisation process going forward\n",
    "    - What are the best features to keep?\n",
    "    - What features can be safely dropped without loosing information?"
   ]
  },
  {
   "cell_type": "code",
   "execution_count": 71,
   "id": "delayed-legislation",
   "metadata": {},
   "outputs": [
    {
     "data": {
      "text/html": [
       "<div>\n",
       "<style scoped>\n",
       "    .dataframe tbody tr th:only-of-type {\n",
       "        vertical-align: middle;\n",
       "    }\n",
       "\n",
       "    .dataframe tbody tr th {\n",
       "        vertical-align: top;\n",
       "    }\n",
       "\n",
       "    .dataframe thead th {\n",
       "        text-align: right;\n",
       "    }\n",
       "</style>\n",
       "<table border=\"1\" class=\"dataframe\">\n",
       "  <thead>\n",
       "    <tr style=\"text-align: right;\">\n",
       "      <th></th>\n",
       "      <th>feature</th>\n",
       "      <th>importance</th>\n",
       "    </tr>\n",
       "  </thead>\n",
       "  <tbody>\n",
       "    <tr>\n",
       "      <th>10</th>\n",
       "      <td>hosp_Yes</td>\n",
       "      <td>0.309696</td>\n",
       "    </tr>\n",
       "    <tr>\n",
       "      <th>7</th>\n",
       "      <td>age_group_80+ Years</td>\n",
       "      <td>0.303417</td>\n",
       "    </tr>\n",
       "    <tr>\n",
       "      <th>6</th>\n",
       "      <td>age_group_70 - 79 Years</td>\n",
       "      <td>0.083702</td>\n",
       "    </tr>\n",
       "    <tr>\n",
       "      <th>11</th>\n",
       "      <td>quarter_fourth</td>\n",
       "      <td>0.044890</td>\n",
       "    </tr>\n",
       "    <tr>\n",
       "      <th>12</th>\n",
       "      <td>quarter_second</td>\n",
       "      <td>0.043668</td>\n",
       "    </tr>\n",
       "    <tr>\n",
       "      <th>13</th>\n",
       "      <td>quarter_third</td>\n",
       "      <td>0.041838</td>\n",
       "    </tr>\n",
       "    <tr>\n",
       "      <th>8</th>\n",
       "      <td>hosp_No</td>\n",
       "      <td>0.041330</td>\n",
       "    </tr>\n",
       "    <tr>\n",
       "      <th>9</th>\n",
       "      <td>hosp_Unknown</td>\n",
       "      <td>0.025220</td>\n",
       "    </tr>\n",
       "    <tr>\n",
       "      <th>4</th>\n",
       "      <td>age_group_50 - 59 Years</td>\n",
       "      <td>0.021421</td>\n",
       "    </tr>\n",
       "    <tr>\n",
       "      <th>3</th>\n",
       "      <td>age_group_40 - 49 Years</td>\n",
       "      <td>0.020773</td>\n",
       "    </tr>\n",
       "    <tr>\n",
       "      <th>5</th>\n",
       "      <td>age_group_60 - 69 Years</td>\n",
       "      <td>0.020257</td>\n",
       "    </tr>\n",
       "    <tr>\n",
       "      <th>2</th>\n",
       "      <td>age_group_30 - 39 Years</td>\n",
       "      <td>0.019470</td>\n",
       "    </tr>\n",
       "    <tr>\n",
       "      <th>1</th>\n",
       "      <td>age_group_20 - 29 Years</td>\n",
       "      <td>0.017164</td>\n",
       "    </tr>\n",
       "    <tr>\n",
       "      <th>0</th>\n",
       "      <td>age_group_10 - 19 Years</td>\n",
       "      <td>0.007155</td>\n",
       "    </tr>\n",
       "  </tbody>\n",
       "</table>\n",
       "</div>"
      ],
      "text/plain": [
       "                    feature  importance\n",
       "10                 hosp_Yes    0.309696\n",
       "7       age_group_80+ Years    0.303417\n",
       "6   age_group_70 - 79 Years    0.083702\n",
       "11           quarter_fourth    0.044890\n",
       "12           quarter_second    0.043668\n",
       "13            quarter_third    0.041838\n",
       "8                   hosp_No    0.041330\n",
       "9              hosp_Unknown    0.025220\n",
       "4   age_group_50 - 59 Years    0.021421\n",
       "3   age_group_40 - 49 Years    0.020773\n",
       "5   age_group_60 - 69 Years    0.020257\n",
       "2   age_group_30 - 39 Years    0.019470\n",
       "1   age_group_20 - 29 Years    0.017164\n",
       "0   age_group_10 - 19 Years    0.007155"
      ]
     },
     "execution_count": 71,
     "metadata": {},
     "output_type": "execute_result"
    }
   ],
   "source": [
    "importance = pd.DataFrame({'feature': X_train.columns, 'importance':rfc.feature_importances_})\n",
    "importance.sort_values('importance', ascending=False)"
   ]
  },
  {
   "cell_type": "markdown",
   "id": "behavioral-strike",
   "metadata": {},
   "source": [
    "We can see from the list above that some of the features provide little to no information gain: especially 'age_group_10 - 19 Years', which has an importance of less than 1%. While 'hosp_Yes' and 'age_group_80+ Years' are far higher than the other features with ~30% importance each."
   ]
  },
  {
   "cell_type": "markdown",
   "id": "detected-atlantic",
   "metadata": {},
   "source": [
    "### 4.3.1 Printing 10 predicted target features and evaluate the prediction \n",
    "- Here we will print the predicted target feature value for the first 10 training examples. "
   ]
  },
  {
   "cell_type": "code",
   "execution_count": 72,
   "id": "superior-circular",
   "metadata": {},
   "outputs": [
    {
     "data": {
      "text/html": [
       "<div>\n",
       "<style scoped>\n",
       "    .dataframe tbody tr th:only-of-type {\n",
       "        vertical-align: middle;\n",
       "    }\n",
       "\n",
       "    .dataframe tbody tr th {\n",
       "        vertical-align: top;\n",
       "    }\n",
       "\n",
       "    .dataframe thead th {\n",
       "        text-align: right;\n",
       "    }\n",
       "</style>\n",
       "<table border=\"1\" class=\"dataframe\">\n",
       "  <thead>\n",
       "    <tr style=\"text-align: right;\">\n",
       "      <th></th>\n",
       "      <th>ActualClass</th>\n",
       "      <th>PredictedClass</th>\n",
       "    </tr>\n",
       "  </thead>\n",
       "  <tbody>\n",
       "    <tr>\n",
       "      <th>0</th>\n",
       "      <td>0</td>\n",
       "      <td>0</td>\n",
       "    </tr>\n",
       "    <tr>\n",
       "      <th>1</th>\n",
       "      <td>0</td>\n",
       "      <td>0</td>\n",
       "    </tr>\n",
       "    <tr>\n",
       "      <th>2</th>\n",
       "      <td>0</td>\n",
       "      <td>0</td>\n",
       "    </tr>\n",
       "    <tr>\n",
       "      <th>3</th>\n",
       "      <td>0</td>\n",
       "      <td>0</td>\n",
       "    </tr>\n",
       "    <tr>\n",
       "      <th>4</th>\n",
       "      <td>0</td>\n",
       "      <td>0</td>\n",
       "    </tr>\n",
       "    <tr>\n",
       "      <th>5</th>\n",
       "      <td>0</td>\n",
       "      <td>0</td>\n",
       "    </tr>\n",
       "    <tr>\n",
       "      <th>6</th>\n",
       "      <td>0</td>\n",
       "      <td>0</td>\n",
       "    </tr>\n",
       "    <tr>\n",
       "      <th>7</th>\n",
       "      <td>0</td>\n",
       "      <td>0</td>\n",
       "    </tr>\n",
       "    <tr>\n",
       "      <th>8</th>\n",
       "      <td>0</td>\n",
       "      <td>0</td>\n",
       "    </tr>\n",
       "    <tr>\n",
       "      <th>9</th>\n",
       "      <td>0</td>\n",
       "      <td>0</td>\n",
       "    </tr>\n",
       "  </tbody>\n",
       "</table>\n",
       "</div>"
      ],
      "text/plain": [
       "   ActualClass  PredictedClass\n",
       "0            0               0\n",
       "1            0               0\n",
       "2            0               0\n",
       "3            0               0\n",
       "4            0               0\n",
       "5            0               0\n",
       "6            0               0\n",
       "7            0               0\n",
       "8            0               0\n",
       "9            0               0"
      ]
     },
     "execution_count": 72,
     "metadata": {},
     "output_type": "execute_result"
    }
   ],
   "source": [
    "# Predicted class labels for all examples, \n",
    "# using the trained model, on in-sample data (same sample used for training and test)\n",
    "rfc_predictions_train = rfc.predict(X_train)\n",
    "df_true_vs_rfc_predicted = pd.DataFrame({'ActualClass': y_train, 'PredictedClass': rfc_predictions_train})\n",
    "df_true_vs_rfc_predicted.head(10)"
   ]
  },
  {
   "cell_type": "markdown",
   "id": "optical-moderator",
   "metadata": {},
   "source": [
    "### 4.3.2 Evaluation metrics based on training data\n",
    "- We will print the classification evaluation measures computed on the training set (e.g. Accuracy, Confusion matrix, Precision, Recall, F1)\n",
    "- We will discuss finding based on these measures"
   ]
  },
  {
   "cell_type": "code",
   "execution_count": 73,
   "id": "union-public",
   "metadata": {},
   "outputs": [
    {
     "name": "stdout",
     "output_type": "stream",
     "text": [
      "==================== Train Data =======================\n",
      "Accuracy:  0.9721526447620451\n",
      "Confusion matrix: \n",
      " [[6549   19]\n",
      " [ 170   49]]\n",
      "Classification report:\n",
      "                precision    recall  f1-score   support\n",
      "\n",
      "           0       0.97      1.00      0.99      6568\n",
      "           1       0.72      0.22      0.34       219\n",
      "\n",
      "    accuracy                           0.97      6787\n",
      "   macro avg       0.85      0.61      0.66      6787\n",
      "weighted avg       0.97      0.97      0.96      6787\n",
      "\n"
     ]
    }
   ],
   "source": [
    "print(\"==================== Train Data =======================\")\n",
    "print(\"Accuracy: \", metrics.accuracy_score(y_train, rfc_predictions_train))\n",
    "print(\"Confusion matrix: \\n\", metrics.confusion_matrix(y_train, rfc_predictions_train))\n",
    "print(\"Classification report:\\n \", metrics.classification_report(y_train, rfc_predictions_train))"
   ]
  },
  {
   "cell_type": "markdown",
   "id": "terminal-marina",
   "metadata": {},
   "source": [
    "#### Interpretation of results\n",
    "- Accuracy\n",
    "    - This is simply stating how often the model is correct. We have an accuracy of ~97%\n",
    "- Confusion Matrix\n",
    "    - [0][0] TRUE NEGATIVE - The number that is predicted 0 that was actually 0\n",
    "    - [0][1] FALSE POSITIVE - The number that is predicted 1 that is actually 0\n",
    "    - [1][0] FALSE NEGATIVE - The number that is predicted 0 that is actually 1\n",
    "    - [1][1] TRUE POSITIVE - The number that is predicted 1 that is actually 1\n",
    "- Precision - How good the model is at predicting the positive class\n",
    "    - What % of the predicted positive are actually positive\n",
    "    - It is the number values correctly predicted positive over the total number of  positive values\n",
    "    - Precision Positive is 0.72\n",
    "    - Precision Negative is 0.97\n",
    "- Recall\n",
    "    - What % of the positive values did we predict\n",
    "    - Is the number correctly predicted positive over the total number actual positive\n",
    "    - Recall Positive is 0.22\n",
    "    - Recall Negative is 1.00\n",
    "- F1 Score\n",
    "    - Is an a weighted average of Precision and recall\n",
    "    - F1 Score Positive is 0.34\n",
    "    - F1 Score Negative is 0.99\n",
    "\n",
    "Summary\n",
    "- The model has the highest number of precision for positives and negatives of all the models.\n",
    "- However, its values for Recall and F1 score were not as high as logisitical regression."
   ]
  },
  {
   "cell_type": "markdown",
   "id": "registered-processing",
   "metadata": {},
   "source": [
    "### 4.4.1 Evaluate the model using the hold-out (30% examples) test set\n",
    "- These results from the test data will be compared the results from the training data.\n",
    "- In addition they will be compared to the results from a cross-validated model (i.e., a new model trained and evaluated using cross-validation on the full dataset)."
   ]
  },
  {
   "cell_type": "markdown",
   "id": "environmental-medium",
   "metadata": {},
   "source": [
    "Printing actual death vs predicted based on test data"
   ]
  },
  {
   "cell_type": "code",
   "execution_count": 74,
   "id": "comparable-egypt",
   "metadata": {},
   "outputs": [
    {
     "data": {
      "text/html": [
       "<div>\n",
       "<style scoped>\n",
       "    .dataframe tbody tr th:only-of-type {\n",
       "        vertical-align: middle;\n",
       "    }\n",
       "\n",
       "    .dataframe tbody tr th {\n",
       "        vertical-align: top;\n",
       "    }\n",
       "\n",
       "    .dataframe thead th {\n",
       "        text-align: right;\n",
       "    }\n",
       "</style>\n",
       "<table border=\"1\" class=\"dataframe\">\n",
       "  <thead>\n",
       "    <tr style=\"text-align: right;\">\n",
       "      <th></th>\n",
       "      <th>ActualClass</th>\n",
       "      <th>PredictedClass</th>\n",
       "    </tr>\n",
       "  </thead>\n",
       "  <tbody>\n",
       "    <tr>\n",
       "      <th>0</th>\n",
       "      <td>0</td>\n",
       "      <td>0</td>\n",
       "    </tr>\n",
       "    <tr>\n",
       "      <th>1</th>\n",
       "      <td>0</td>\n",
       "      <td>0</td>\n",
       "    </tr>\n",
       "    <tr>\n",
       "      <th>2</th>\n",
       "      <td>0</td>\n",
       "      <td>0</td>\n",
       "    </tr>\n",
       "    <tr>\n",
       "      <th>3</th>\n",
       "      <td>0</td>\n",
       "      <td>0</td>\n",
       "    </tr>\n",
       "    <tr>\n",
       "      <th>4</th>\n",
       "      <td>1</td>\n",
       "      <td>0</td>\n",
       "    </tr>\n",
       "    <tr>\n",
       "      <th>5</th>\n",
       "      <td>1</td>\n",
       "      <td>0</td>\n",
       "    </tr>\n",
       "    <tr>\n",
       "      <th>6</th>\n",
       "      <td>0</td>\n",
       "      <td>0</td>\n",
       "    </tr>\n",
       "    <tr>\n",
       "      <th>7</th>\n",
       "      <td>0</td>\n",
       "      <td>0</td>\n",
       "    </tr>\n",
       "    <tr>\n",
       "      <th>8</th>\n",
       "      <td>0</td>\n",
       "      <td>0</td>\n",
       "    </tr>\n",
       "    <tr>\n",
       "      <th>9</th>\n",
       "      <td>0</td>\n",
       "      <td>0</td>\n",
       "    </tr>\n",
       "  </tbody>\n",
       "</table>\n",
       "</div>"
      ],
      "text/plain": [
       "   ActualClass  PredictedClass\n",
       "0            0               0\n",
       "1            0               0\n",
       "2            0               0\n",
       "3            0               0\n",
       "4            1               0\n",
       "5            1               0\n",
       "6            0               0\n",
       "7            0               0\n",
       "8            0               0\n",
       "9            0               0"
      ]
     },
     "execution_count": 74,
     "metadata": {},
     "output_type": "execute_result"
    }
   ],
   "source": [
    "# Predicted class labels for all examples, \n",
    "# using the trained model, on in-sample data (same sample used for training and test)\n",
    "rfc_predictions_test = rfc.predict(X_test)\n",
    "df_true_vs_rfc_predicted_test = pd.DataFrame({'ActualClass': y_test, 'PredictedClass': rfc_predictions_test})\n",
    "df_true_vs_rfc_predicted_test.head(10)"
   ]
  },
  {
   "cell_type": "markdown",
   "id": "improved-brain",
   "metadata": {},
   "source": [
    "Evaluation metrics based on test data"
   ]
  },
  {
   "cell_type": "code",
   "execution_count": 75,
   "id": "innocent-schedule",
   "metadata": {},
   "outputs": [
    {
     "name": "stdout",
     "output_type": "stream",
     "text": [
      "==================== Test Data =======================\n",
      "Accuracy:  0.9673539518900344\n",
      "Confusion matrix: \n",
      " [[2801   10]\n",
      " [  85   14]]\n",
      "Classification report:\n",
      "                precision    recall  f1-score   support\n",
      "\n",
      "           0       0.97      1.00      0.98      2811\n",
      "           1       0.58      0.14      0.23        99\n",
      "\n",
      "    accuracy                           0.97      2910\n",
      "   macro avg       0.78      0.57      0.61      2910\n",
      "weighted avg       0.96      0.97      0.96      2910\n",
      "\n",
      "==================== Train Data =======================\n",
      "Accuracy:  0.9721526447620451\n",
      "Confusion matrix: \n",
      " [[6549   19]\n",
      " [ 170   49]]\n",
      "Classification report:\n",
      "                precision    recall  f1-score   support\n",
      "\n",
      "           0       0.97      1.00      0.99      6568\n",
      "           1       0.72      0.22      0.34       219\n",
      "\n",
      "    accuracy                           0.97      6787\n",
      "   macro avg       0.85      0.61      0.66      6787\n",
      "weighted avg       0.97      0.97      0.96      6787\n",
      "\n",
      "======================================================\n"
     ]
    }
   ],
   "source": [
    "print(\"==================== Test Data =======================\")\n",
    "print(\"Accuracy: \", metrics.accuracy_score(y_test, rfc_predictions_test))\n",
    "print(\"Confusion matrix: \\n\", metrics.confusion_matrix(y_test, rfc_predictions_test))\n",
    "print(\"Classification report:\\n \", metrics.classification_report(y_test, rfc_predictions_test))\n",
    "print(\"==================== Train Data =======================\")\n",
    "print(\"Accuracy: \", metrics.accuracy_score(y_train, rfc_predictions_train))\n",
    "print(\"Confusion matrix: \\n\", metrics.confusion_matrix(y_train, rfc_predictions_train))\n",
    "print(\"Classification report:\\n \", metrics.classification_report(y_train, rfc_predictions_train))\n",
    "print(\"======================================================\")"
   ]
  },
  {
   "cell_type": "markdown",
   "id": "professional-president",
   "metadata": {},
   "source": [
    "### 4.4.2 Interpretation of test results and comparison with training results \n",
    "- The accuracy for the test is much lower for all positive predictions as we are not testing the model with data it has not see before.\n",
    "- It has the same accuracy for negative valus and weighted values.\n",
    "- Its precision for positive values is still the highest of the 3 models tested"
   ]
  },
  {
   "cell_type": "markdown",
   "id": "expressed-warning",
   "metadata": {},
   "source": [
    "### 4.4.3 Cross validation\n",
    "- We will preform cross validation and store the results in a dictionary for later use"
   ]
  },
  {
   "cell_type": "code",
   "execution_count": 76,
   "id": "minute-belarus",
   "metadata": {},
   "outputs": [],
   "source": [
    "def cross_val_RandomForest_DF(X,y, depth=None, estimators=100):\n",
    "    \"\"\"Function to perform cross validation and store results \n",
    "    in dataframe. Cross validation looks at accuracy, precision, \n",
    "    recall, f1. Returns a dataframe with results\"\"\"\n",
    "\n",
    "    # store results in dict\n",
    "    RandomForestResults = {}\n",
    "    # metrics to test against\n",
    "    test_metrics = ['accuracy','precision','recall', 'f1']\n",
    "\n",
    "    for metric in test_metrics:\n",
    "        # generate test results\n",
    "        result = cross_val_score(RandomForestClassifier(n_estimators=estimators, max_features='auto', oob_score=True, random_state=1, max_depth=depth), X, y, scoring=metric, cv=10)\n",
    "        # store result in dict\n",
    "        RandomForestResults[metric] = result.mean()\n",
    "    \n",
    "    # create dataframe with results\n",
    "    RandomForestDF = pd.DataFrame.from_dict(RandomForestResults, orient='index', columns=['Random_Forests'])\n",
    "\n",
    "    return RandomForestDF"
   ]
  },
  {
   "cell_type": "markdown",
   "id": "cathedral-consequence",
   "metadata": {},
   "source": [
    "##### The results for Random Forests are summarized below"
   ]
  },
  {
   "cell_type": "code",
   "execution_count": 77,
   "id": "psychological-williams",
   "metadata": {},
   "outputs": [
    {
     "name": "stdout",
     "output_type": "stream",
     "text": [
      "Mean results from 10 fold cross validation are:\n"
     ]
    },
    {
     "data": {
      "text/html": [
       "<div>\n",
       "<style scoped>\n",
       "    .dataframe tbody tr th:only-of-type {\n",
       "        vertical-align: middle;\n",
       "    }\n",
       "\n",
       "    .dataframe tbody tr th {\n",
       "        vertical-align: top;\n",
       "    }\n",
       "\n",
       "    .dataframe thead th {\n",
       "        text-align: right;\n",
       "    }\n",
       "</style>\n",
       "<table border=\"1\" class=\"dataframe\">\n",
       "  <thead>\n",
       "    <tr style=\"text-align: right;\">\n",
       "      <th></th>\n",
       "      <th>Random_Forests</th>\n",
       "    </tr>\n",
       "  </thead>\n",
       "  <tbody>\n",
       "    <tr>\n",
       "      <th>accuracy</th>\n",
       "      <td>0.968959</td>\n",
       "    </tr>\n",
       "    <tr>\n",
       "      <th>precision</th>\n",
       "      <td>0.600783</td>\n",
       "    </tr>\n",
       "    <tr>\n",
       "      <th>recall</th>\n",
       "      <td>0.194556</td>\n",
       "    </tr>\n",
       "    <tr>\n",
       "      <th>f1</th>\n",
       "      <td>0.284643</td>\n",
       "    </tr>\n",
       "  </tbody>\n",
       "</table>\n",
       "</div>"
      ],
      "text/plain": [
       "           Random_Forests\n",
       "accuracy         0.968959\n",
       "precision        0.600783\n",
       "recall           0.194556\n",
       "f1               0.284643"
      ]
     },
     "execution_count": 77,
     "metadata": {},
     "output_type": "execute_result"
    }
   ],
   "source": [
    "RandomForestDF = cross_val_RandomForest_DF(X,y)\n",
    "print(f\"Mean results from 10 fold cross validation are:\")\n",
    "RandomForestDF"
   ]
  },
  {
   "cell_type": "markdown",
   "id": "visible-stake",
   "metadata": {},
   "source": [
    "The results above are inline with expectation\n",
    "- The accuracy is the same\n",
    "- The precision is higher than the other models\n",
    "- The recall and f1 scores are higher than linear regression but lower than logistical regression"
   ]
  },
  {
   "cell_type": "markdown",
   "id": "above-cinema",
   "metadata": {},
   "source": [
    "### 4.4.4 Out of bag accuracy\n",
    "- This is the out of bag error estimate \n",
    "- It is an internal error estimate of a random forest as it is being constructed.\n",
    "- It is used as an additional measure and should be line with the cross validation results\n",
    "- This is generally expected to be the lowest"
   ]
  },
  {
   "cell_type": "code",
   "execution_count": 78,
   "id": "adjusted-marine",
   "metadata": {},
   "outputs": [
    {
     "data": {
      "text/plain": [
       "0.971268601738618"
      ]
     },
     "execution_count": 78,
     "metadata": {},
     "output_type": "execute_result"
    }
   ],
   "source": [
    "# compute the out-of-bag classification accuracy\n",
    "rfc.oob_score_"
   ]
  },
  {
   "cell_type": "markdown",
   "id": "respiratory-active",
   "metadata": {},
   "source": [
    "This value is in line with the Cross validation results above"
   ]
  },
  {
   "cell_type": "markdown",
   "id": "incident-following",
   "metadata": {},
   "source": [
    "## 5 Improving Predictive Models"
   ]
  },
  {
   "cell_type": "markdown",
   "id": "surgical-console",
   "metadata": {},
   "source": [
    "### 5.1.1 Which model of the ones trained above performs better at predicting the target feature? \n",
    "- All models perform almost identically on the test dataset in terms of accuracy\n",
    "- However, the best in terms of precision, recall and f1 is the **logistic regression model**\n",
    "- Summary of the results so far can be seen below (based on predicting positive outcome (death=1))\n",
    "- Note these results are for a subset of the original features i.e. In part 1 we dropped many of the low correlation features\n",
    "    - In part 5.2 we will review the impact to the decisions taken in part 1"
   ]
  },
  {
   "cell_type": "markdown",
   "id": "initial-belarus",
   "metadata": {},
   "source": [
    "##### Linear Regression\n",
    "**accuracy:** 0.969107<br>\n",
    "**precision:** 0.390035<br>\n",
    "**recall:** 0.050001<br>\n",
    "**f1:** 0.080018<br>\n",
    "\n",
    "##### Logistic Regression\n",
    "**accuracy:** 0.969475<br>\n",
    "**precision:** 0.565538<br>\n",
    "**recall:** 0.323589<br>\n",
    "**f1:** 0.407749<br>\n",
    "\n",
    "##### Random Forests\n",
    "**accuracy:** 0.968959 <br>\n",
    "**precision:** 0.600783<br>\n",
    "**recall:** 0.194556<br>\n",
    "**f1:** 0.284643<br>"
   ]
  },
  {
   "cell_type": "markdown",
   "id": "conventional-material",
   "metadata": {},
   "source": [
    "### 5.1.2 Is the model more accurate than a simple model that always predicts the majority class\n",
    "- We will compare our results above to a simple model which predicts for the majority class\n",
    "- First we will get the breakdown of the test dataset and see which is the majority class"
   ]
  },
  {
   "cell_type": "code",
   "execution_count": 79,
   "id": "major-homeless",
   "metadata": {},
   "outputs": [
    {
     "name": "stdout",
     "output_type": "stream",
     "text": [
      "From original dataset: \t\tCount 2910\n",
      "Total number death:\t 99\t3.4%\n",
      "Total number non-death:\t 2811\t96.6%\n"
     ]
    }
   ],
   "source": [
    "pos_count = y_test[y_test == 1].count()\n",
    "neg_count = y_test[y_test == 0].count()\n",
    "total = pos_count+ neg_count\n",
    "print(f'From original dataset: \\t\\tCount {total}')\n",
    "print(f'Total number death:\\t {pos_count}\\t{round(pos_count/len(y_test)*100,2)}%')\n",
    "print(f'Total number non-death:\\t {neg_count}\\t{round(neg_count/len(y_test)*100,2)}%')"
   ]
  },
  {
   "cell_type": "markdown",
   "id": "absent-nirvana",
   "metadata": {},
   "source": [
    "- We can see the majority class is 0 or non-death \n",
    "- We will now generate scores for predicting the majority class"
   ]
  },
  {
   "cell_type": "code",
   "execution_count": 80,
   "id": "designed-density",
   "metadata": {},
   "outputs": [
    {
     "name": "stdout",
     "output_type": "stream",
     "text": [
      "Accuracy:  0.965979381443299\n",
      "Confusion matrix: \n",
      " [[2811    0]\n",
      " [  99    0]]\n",
      "Classification report:\n",
      "                precision    recall  f1-score   support\n",
      "\n",
      "           0       0.97      1.00      0.98      2811\n",
      "           1       0.00      0.00      0.00        99\n",
      "\n",
      "    accuracy                           0.97      2910\n",
      "   macro avg       0.48      0.50      0.49      2910\n",
      "weighted avg       0.93      0.97      0.95      2910\n",
      "\n"
     ]
    }
   ],
   "source": [
    "# generate array of 2910 zeros (length of test dataset)\n",
    "majority = np.zeros(2910)\n",
    "# create dataframe \n",
    "df_majorityClass = pd.DataFrame(majority, columns=['prediction'])\n",
    "# calculate scores of simple predictin vs actual\n",
    "print(\"Accuracy: \", metrics.accuracy_score(y_test, df_majorityClass))\n",
    "print(\"Confusion matrix: \\n\", metrics.confusion_matrix(y_test, df_majorityClass))\n",
    "print(\"Classification report:\\n \", metrics.classification_report(y_test, df_majorityClass))"
   ]
  },
  {
   "cell_type": "markdown",
   "id": "labeled-occupation",
   "metadata": {},
   "source": [
    "- For predicting good outcome the simple model fails completely as expected\n",
    "- For predicting the bad outcome the simple model fares much better\n",
    "- However, this is because 97% of the data is a negative vaue, so predicting a negative every time will lead to 97% accuracy, which all of the models have or have come close to achieving, while also predicting positives correctly.\n",
    "    - The precision is the same as the accuracy in this case - i.e. how good is it at predicting 0\n",
    "    - The recall is 100% as all of the actual 0 values were predicted 0\n",
    "    - The f1 is between the precision and recall as it is a weighted average of the two"
   ]
  },
  {
   "cell_type": "markdown",
   "id": "regional-green",
   "metadata": {},
   "source": [
    "### 5.2.1 Summarise your understanding of the problem and of your predictive modeling results so far."
   ]
  },
  {
   "cell_type": "markdown",
   "id": "supposed-pension",
   "metadata": {},
   "source": [
    "- Each trained model from this exercise has been ~97% accurate.\n",
    "- However, this is possibly misleading, because ~97% of the data being trained and tested on is of a negative value.\n",
    "    - Therefore any predictive models based on this data have a lot more negative outcomes to be trained on.\n",
    "    - This makes training the model to accurately predict more positive outcomes difficult.\n",
    "- It is possible that taking away the lower correlation features has given the random forest model fewer variations to choose from, so adding some of those features back and using them in the random forest model may lead to a more accurate model."
   ]
  },
  {
   "cell_type": "markdown",
   "id": "assumed-invention",
   "metadata": {},
   "source": [
    "### 5.2.2 Compare Model performance using different feature subsets \n",
    "#### 5.2.2.1 All features\n",
    "- We will now repeat the tests using all features \n",
    "- First we set up the dataframe using the original features\n",
    "- Then we will remove redundant features before training and testing"
   ]
  },
  {
   "cell_type": "code",
   "execution_count": 81,
   "id": "mathematical-champion",
   "metadata": {},
   "outputs": [],
   "source": [
    "# dataframe with all features = original dataframe\n",
    "df_all = pd.get_dummies(df)"
   ]
  },
  {
   "cell_type": "markdown",
   "id": "nuclear-dating",
   "metadata": {},
   "source": [
    "With the dataframe now setup we will generate new set of results based on all the features\n",
    "- This operation is simplified as we have set up functions in part 2,3,4 to allow cross validated scores to be returned in dataframes "
   ]
  },
  {
   "cell_type": "code",
   "execution_count": 82,
   "id": "serial-motor",
   "metadata": {},
   "outputs": [
    {
     "data": {
      "text/html": [
       "<div>\n",
       "<style scoped>\n",
       "    .dataframe tbody tr th:only-of-type {\n",
       "        vertical-align: middle;\n",
       "    }\n",
       "\n",
       "    .dataframe tbody tr th {\n",
       "        vertical-align: top;\n",
       "    }\n",
       "\n",
       "    .dataframe thead th {\n",
       "        text-align: right;\n",
       "    }\n",
       "</style>\n",
       "<table border=\"1\" class=\"dataframe\">\n",
       "  <thead>\n",
       "    <tr style=\"text-align: right;\">\n",
       "      <th></th>\n",
       "      <th>earliest_date</th>\n",
       "      <th>report_date</th>\n",
       "      <th>status</th>\n",
       "      <th>sex</th>\n",
       "      <th>death</th>\n",
       "      <th>time_dif</th>\n",
       "      <th>elderly</th>\n",
       "      <th>missing_report</th>\n",
       "      <th>age_group_0 - 9 Years</th>\n",
       "      <th>age_group_10 - 19 Years</th>\n",
       "      <th>...</th>\n",
       "      <th>race_ethnicity_Unknown</th>\n",
       "      <th>race_ethnicity_White, Non-Hispanic</th>\n",
       "      <th>hosp_Missing</th>\n",
       "      <th>hosp_No</th>\n",
       "      <th>hosp_Unknown</th>\n",
       "      <th>hosp_Yes</th>\n",
       "      <th>quarter_first</th>\n",
       "      <th>quarter_fourth</th>\n",
       "      <th>quarter_second</th>\n",
       "      <th>quarter_third</th>\n",
       "    </tr>\n",
       "  </thead>\n",
       "  <tbody>\n",
       "    <tr>\n",
       "      <th>0</th>\n",
       "      <td>2020-12-16</td>\n",
       "      <td>2020-12-16</td>\n",
       "      <td>1</td>\n",
       "      <td>1</td>\n",
       "      <td>0</td>\n",
       "      <td>0 days</td>\n",
       "      <td>0</td>\n",
       "      <td>1</td>\n",
       "      <td>0</td>\n",
       "      <td>0</td>\n",
       "      <td>...</td>\n",
       "      <td>1</td>\n",
       "      <td>0</td>\n",
       "      <td>0</td>\n",
       "      <td>0</td>\n",
       "      <td>1</td>\n",
       "      <td>0</td>\n",
       "      <td>0</td>\n",
       "      <td>1</td>\n",
       "      <td>0</td>\n",
       "      <td>0</td>\n",
       "    </tr>\n",
       "    <tr>\n",
       "      <th>1</th>\n",
       "      <td>2020-11-10</td>\n",
       "      <td>2020-11-13</td>\n",
       "      <td>1</td>\n",
       "      <td>0</td>\n",
       "      <td>0</td>\n",
       "      <td>3 days</td>\n",
       "      <td>0</td>\n",
       "      <td>0</td>\n",
       "      <td>0</td>\n",
       "      <td>0</td>\n",
       "      <td>...</td>\n",
       "      <td>0</td>\n",
       "      <td>1</td>\n",
       "      <td>1</td>\n",
       "      <td>0</td>\n",
       "      <td>0</td>\n",
       "      <td>0</td>\n",
       "      <td>0</td>\n",
       "      <td>1</td>\n",
       "      <td>0</td>\n",
       "      <td>0</td>\n",
       "    </tr>\n",
       "    <tr>\n",
       "      <th>2</th>\n",
       "      <td>2020-10-12</td>\n",
       "      <td>2020-10-16</td>\n",
       "      <td>1</td>\n",
       "      <td>1</td>\n",
       "      <td>0</td>\n",
       "      <td>4 days</td>\n",
       "      <td>0</td>\n",
       "      <td>0</td>\n",
       "      <td>0</td>\n",
       "      <td>0</td>\n",
       "      <td>...</td>\n",
       "      <td>0</td>\n",
       "      <td>1</td>\n",
       "      <td>0</td>\n",
       "      <td>1</td>\n",
       "      <td>0</td>\n",
       "      <td>0</td>\n",
       "      <td>0</td>\n",
       "      <td>0</td>\n",
       "      <td>0</td>\n",
       "      <td>1</td>\n",
       "    </tr>\n",
       "    <tr>\n",
       "      <th>3</th>\n",
       "      <td>2021-01-15</td>\n",
       "      <td>2021-01-15</td>\n",
       "      <td>1</td>\n",
       "      <td>0</td>\n",
       "      <td>0</td>\n",
       "      <td>0 days</td>\n",
       "      <td>0</td>\n",
       "      <td>0</td>\n",
       "      <td>0</td>\n",
       "      <td>0</td>\n",
       "      <td>...</td>\n",
       "      <td>0</td>\n",
       "      <td>1</td>\n",
       "      <td>0</td>\n",
       "      <td>1</td>\n",
       "      <td>0</td>\n",
       "      <td>0</td>\n",
       "      <td>0</td>\n",
       "      <td>1</td>\n",
       "      <td>0</td>\n",
       "      <td>0</td>\n",
       "    </tr>\n",
       "    <tr>\n",
       "      <th>4</th>\n",
       "      <td>2021-01-01</td>\n",
       "      <td>2021-01-01</td>\n",
       "      <td>1</td>\n",
       "      <td>1</td>\n",
       "      <td>0</td>\n",
       "      <td>0 days</td>\n",
       "      <td>0</td>\n",
       "      <td>1</td>\n",
       "      <td>0</td>\n",
       "      <td>0</td>\n",
       "      <td>...</td>\n",
       "      <td>0</td>\n",
       "      <td>1</td>\n",
       "      <td>1</td>\n",
       "      <td>0</td>\n",
       "      <td>0</td>\n",
       "      <td>0</td>\n",
       "      <td>0</td>\n",
       "      <td>1</td>\n",
       "      <td>0</td>\n",
       "      <td>0</td>\n",
       "    </tr>\n",
       "  </tbody>\n",
       "</table>\n",
       "<p>5 rows × 34 columns</p>\n",
       "</div>"
      ],
      "text/plain": [
       "  earliest_date report_date  status  sex  death time_dif  elderly  \\\n",
       "0    2020-12-16  2020-12-16       1    1      0   0 days        0   \n",
       "1    2020-11-10  2020-11-13       1    0      0   3 days        0   \n",
       "2    2020-10-12  2020-10-16       1    1      0   4 days        0   \n",
       "3    2021-01-15  2021-01-15       1    0      0   0 days        0   \n",
       "4    2021-01-01  2021-01-01       1    1      0   0 days        0   \n",
       "\n",
       "   missing_report  age_group_0 - 9 Years  age_group_10 - 19 Years  ...  \\\n",
       "0               1                      0                        0  ...   \n",
       "1               0                      0                        0  ...   \n",
       "2               0                      0                        0  ...   \n",
       "3               0                      0                        0  ...   \n",
       "4               1                      0                        0  ...   \n",
       "\n",
       "   race_ethnicity_Unknown  race_ethnicity_White, Non-Hispanic  hosp_Missing  \\\n",
       "0                       1                                   0             0   \n",
       "1                       0                                   1             1   \n",
       "2                       0                                   1             0   \n",
       "3                       0                                   1             0   \n",
       "4                       0                                   1             1   \n",
       "\n",
       "   hosp_No  hosp_Unknown  hosp_Yes  quarter_first  quarter_fourth  \\\n",
       "0        0             1         0              0               1   \n",
       "1        0             0         0              0               1   \n",
       "2        1             0         0              0               0   \n",
       "3        1             0         0              0               1   \n",
       "4        0             0         0              0               1   \n",
       "\n",
       "   quarter_second  quarter_third  \n",
       "0               0              0  \n",
       "1               0              0  \n",
       "2               0              1  \n",
       "3               0              0  \n",
       "4               0              0  \n",
       "\n",
       "[5 rows x 34 columns]"
      ]
     },
     "execution_count": 82,
     "metadata": {},
     "output_type": "execute_result"
    }
   ],
   "source": [
    "df_all.head()"
   ]
  },
  {
   "cell_type": "code",
   "execution_count": 83,
   "id": "monetary-difficulty",
   "metadata": {},
   "outputs": [
    {
     "data": {
      "text/plain": [
       "earliest_date                                                          int64\n",
       "status                                                                 int64\n",
       "sex                                                                    int64\n",
       "death                                                                  int64\n",
       "time_dif                                                               int64\n",
       "elderly                                                                int64\n",
       "age_group_10 - 19 Years                                                uint8\n",
       "age_group_20 - 29 Years                                                uint8\n",
       "age_group_30 - 39 Years                                                uint8\n",
       "age_group_40 - 49 Years                                                uint8\n",
       "age_group_50 - 59 Years                                                uint8\n",
       "age_group_60 - 69 Years                                                uint8\n",
       "age_group_70 - 79 Years                                                uint8\n",
       "age_group_80+ Years                                                    uint8\n",
       "race_ethnicity_Asian, Non-Hispanic                                     uint8\n",
       "race_ethnicity_Black, Non-Hispanic                                     uint8\n",
       "race_ethnicity_Hispanic/Latino                                         uint8\n",
       "race_ethnicity_Missing                                                 uint8\n",
       "race_ethnicity_Multiple/Other, Non-Hispanic                            uint8\n",
       "race_ethnicity_Native Hawaiian/Other Pacific Islander, Non-Hispanic    uint8\n",
       "race_ethnicity_Unknown                                                 uint8\n",
       "race_ethnicity_White, Non-Hispanic                                     uint8\n",
       "hosp_No                                                                uint8\n",
       "hosp_Unknown                                                           uint8\n",
       "hosp_Yes                                                               uint8\n",
       "quarter_fourth                                                         uint8\n",
       "quarter_second                                                         uint8\n",
       "quarter_third                                                          uint8\n",
       "dtype: object"
      ]
     },
     "execution_count": 83,
     "metadata": {},
     "output_type": "execute_result"
    }
   ],
   "source": [
    "# change 'earliest_date' and 'report_date' to ordinal and 'time_dif' to int64\n",
    "\n",
    "import datetime as dt\n",
    "df_all['earliest_date']=df_all['earliest_date'].map(dt.datetime.toordinal)\n",
    "df_all['report_date']=df_all['report_date'].map(dt.datetime.toordinal)\n",
    "\n",
    "# convert time_dif to int\n",
    "df_all['time_dif'] = df_all['time_dif'].dt.days.astype('int64')\n",
    "\n",
    "# drop redundant columns: 'report_date', 'age_group_0 – 9 Years', 'race_ethnicity_American Indian/Alaska Native, Non-Hispanic'\n",
    "# 'hosp_Missing', 'quarter_first', 'missing_report'\n",
    "\n",
    "df_all = df_all.drop(['report_date', 'age_group_0 - 9 Years',\\\n",
    "                      'race_ethnicity_American Indian/Alaska Native, Non-Hispanic',\\\n",
    "                      'hosp_Missing', 'quarter_first', 'missing_report'],1)\n",
    "\n",
    "\n",
    "df_all.dtypes"
   ]
  },
  {
   "cell_type": "code",
   "execution_count": 84,
   "id": "connected-preservation",
   "metadata": {},
   "outputs": [
    {
     "name": "stdout",
     "output_type": "stream",
     "text": [
      "number of features incl dummies:  27\n"
     ]
    }
   ],
   "source": [
    "# set X,y\n",
    "y = df_all[\"death\"]\n",
    "X = df_all.drop([\"death\"],1)\n",
    "print(\"number of features incl dummies: \", len(X.columns))"
   ]
  },
  {
   "cell_type": "code",
   "execution_count": null,
   "id": "italic-prescription",
   "metadata": {},
   "outputs": [],
   "source": []
  },
  {
   "cell_type": "code",
   "execution_count": 85,
   "id": "signal-subscription",
   "metadata": {},
   "outputs": [
    {
     "data": {
      "text/html": [
       "<div>\n",
       "<style scoped>\n",
       "    .dataframe tbody tr th:only-of-type {\n",
       "        vertical-align: middle;\n",
       "    }\n",
       "\n",
       "    .dataframe tbody tr th {\n",
       "        vertical-align: top;\n",
       "    }\n",
       "\n",
       "    .dataframe thead th {\n",
       "        text-align: right;\n",
       "    }\n",
       "</style>\n",
       "<table border=\"1\" class=\"dataframe\">\n",
       "  <thead>\n",
       "    <tr style=\"text-align: right;\">\n",
       "      <th></th>\n",
       "      <th>Linear_Regression</th>\n",
       "      <th>Logistic_Regression</th>\n",
       "      <th>Random_Forests</th>\n",
       "    </tr>\n",
       "  </thead>\n",
       "  <tbody>\n",
       "    <tr>\n",
       "      <th>accuracy</th>\n",
       "      <td>0.969519</td>\n",
       "      <td>0.967206</td>\n",
       "      <td>0.966587</td>\n",
       "    </tr>\n",
       "    <tr>\n",
       "      <th>precision</th>\n",
       "      <td>0.603954</td>\n",
       "      <td>0.000000</td>\n",
       "      <td>0.483361</td>\n",
       "    </tr>\n",
       "    <tr>\n",
       "      <th>recall</th>\n",
       "      <td>0.063560</td>\n",
       "      <td>0.000000</td>\n",
       "      <td>0.291935</td>\n",
       "    </tr>\n",
       "    <tr>\n",
       "      <th>f1</th>\n",
       "      <td>0.108219</td>\n",
       "      <td>0.000000</td>\n",
       "      <td>0.361859</td>\n",
       "    </tr>\n",
       "  </tbody>\n",
       "</table>\n",
       "</div>"
      ],
      "text/plain": [
       "           Linear_Regression  Logistic_Regression  Random_Forests\n",
       "accuracy            0.969519             0.967206        0.966587\n",
       "precision           0.603954             0.000000        0.483361\n",
       "recall              0.063560             0.000000        0.291935\n",
       "f1                  0.108219             0.000000        0.361859"
      ]
     },
     "execution_count": 85,
     "metadata": {},
     "output_type": "execute_result"
    }
   ],
   "source": [
    "# calculate Linear regression, logistic regression, random forest results again using all features\n",
    "linRegDF = cross_val_LinReg_DF(X,y)\n",
    "logRegDF = cross_val_LogReg_DF(X,y)\n",
    "RandomForestDF = cross_val_RandomForest_DF(X,y)\n",
    "# merge all 3 models into dataframe\n",
    "ResultsDF_allFeatures = pd.concat([linRegDF, logRegDF, RandomForestDF], axis=1)\n",
    "ResultsDF_allFeatures"
   ]
  },
  {
   "cell_type": "markdown",
   "id": "smoking-matter",
   "metadata": {},
   "source": [
    "- As we can see here, each model performs with ~97% accuracy as is the same with all previous tests.\n",
    "- The Linear Regression model performs better in all scores, but is still not the most accurate of all models.\n",
    "- The Logistic Regression model has 0% precision, recall and f1 scores when using all features\n",
    "- The Random Forest model has a decreased precision to ~48% from ~60% but its recall and f1 scores have actually increased."
   ]
  },
  {
   "cell_type": "markdown",
   "id": "limited-barcelona",
   "metadata": {},
   "source": [
    "#### 5.2.2.2 All features, with dates removed\n",
    "- We will now repeat the tests using all features except for the dates: 'earliest_date', 'report_date', and 'time_dif'\n",
    "- First we set up the dataframe using the original features\n",
    "- Then we will remove redundant features as before, and will also remove the features listed above"
   ]
  },
  {
   "cell_type": "code",
   "execution_count": 86,
   "id": "outdoor-replication",
   "metadata": {},
   "outputs": [],
   "source": [
    "# dataframe with all features = original dataframe\n",
    "df_all = pd.get_dummies(df)"
   ]
  },
  {
   "cell_type": "code",
   "execution_count": 87,
   "id": "bulgarian-vinyl",
   "metadata": {},
   "outputs": [
    {
     "data": {
      "text/plain": [
       "status                                                                 int64\n",
       "sex                                                                    int64\n",
       "death                                                                  int64\n",
       "elderly                                                                int64\n",
       "age_group_10 - 19 Years                                                uint8\n",
       "age_group_20 - 29 Years                                                uint8\n",
       "age_group_30 - 39 Years                                                uint8\n",
       "age_group_40 - 49 Years                                                uint8\n",
       "age_group_50 - 59 Years                                                uint8\n",
       "age_group_60 - 69 Years                                                uint8\n",
       "age_group_70 - 79 Years                                                uint8\n",
       "age_group_80+ Years                                                    uint8\n",
       "race_ethnicity_Asian, Non-Hispanic                                     uint8\n",
       "race_ethnicity_Black, Non-Hispanic                                     uint8\n",
       "race_ethnicity_Hispanic/Latino                                         uint8\n",
       "race_ethnicity_Missing                                                 uint8\n",
       "race_ethnicity_Multiple/Other, Non-Hispanic                            uint8\n",
       "race_ethnicity_Native Hawaiian/Other Pacific Islander, Non-Hispanic    uint8\n",
       "race_ethnicity_Unknown                                                 uint8\n",
       "race_ethnicity_White, Non-Hispanic                                     uint8\n",
       "hosp_No                                                                uint8\n",
       "hosp_Unknown                                                           uint8\n",
       "hosp_Yes                                                               uint8\n",
       "quarter_fourth                                                         uint8\n",
       "quarter_second                                                         uint8\n",
       "quarter_third                                                          uint8\n",
       "dtype: object"
      ]
     },
     "execution_count": 87,
     "metadata": {},
     "output_type": "execute_result"
    }
   ],
   "source": [
    "# drop redundant columns: 'report_date', 'age_group_0 – 9 Years', 'race_ethnicity_American Indian/Alaska Native, Non-Hispanic'\n",
    "# 'hosp_Missing', 'quarter_first', 'missing_report', 'earliest_date', 'time_dif'\n",
    "\n",
    "df_all = df_all.drop(['earliest_date', 'report_date', 'age_group_0 - 9 Years',\\\n",
    "                      'race_ethnicity_American Indian/Alaska Native, Non-Hispanic',\\\n",
    "                      'hosp_Missing', 'quarter_first', 'missing_report', 'time_dif'],1)\n",
    "\n",
    "\n",
    "df_all.dtypes"
   ]
  },
  {
   "cell_type": "code",
   "execution_count": 88,
   "id": "featured-proceeding",
   "metadata": {},
   "outputs": [
    {
     "name": "stdout",
     "output_type": "stream",
     "text": [
      "number of features incl dummies:  25\n"
     ]
    }
   ],
   "source": [
    "# set X,y\n",
    "y = df_all[\"death\"]\n",
    "X = df_all.drop([\"death\"],1)\n",
    "print(\"number of features incl dummies: \", len(X.columns))"
   ]
  },
  {
   "cell_type": "code",
   "execution_count": 89,
   "id": "cheap-punch",
   "metadata": {},
   "outputs": [
    {
     "data": {
      "text/html": [
       "<div>\n",
       "<style scoped>\n",
       "    .dataframe tbody tr th:only-of-type {\n",
       "        vertical-align: middle;\n",
       "    }\n",
       "\n",
       "    .dataframe tbody tr th {\n",
       "        vertical-align: top;\n",
       "    }\n",
       "\n",
       "    .dataframe thead th {\n",
       "        text-align: right;\n",
       "    }\n",
       "</style>\n",
       "<table border=\"1\" class=\"dataframe\">\n",
       "  <thead>\n",
       "    <tr style=\"text-align: right;\">\n",
       "      <th></th>\n",
       "      <th>Linear_Regression</th>\n",
       "      <th>Logistic_Regression</th>\n",
       "      <th>Random_Forests</th>\n",
       "    </tr>\n",
       "  </thead>\n",
       "  <tbody>\n",
       "    <tr>\n",
       "      <th>accuracy</th>\n",
       "      <td>0.968763</td>\n",
       "      <td>0.969888</td>\n",
       "      <td>0.965969</td>\n",
       "    </tr>\n",
       "    <tr>\n",
       "      <th>precision</th>\n",
       "      <td>0.418373</td>\n",
       "      <td>0.584717</td>\n",
       "      <td>0.478343</td>\n",
       "    </tr>\n",
       "    <tr>\n",
       "      <th>recall</th>\n",
       "      <td>0.060813</td>\n",
       "      <td>0.304738</td>\n",
       "      <td>0.267137</td>\n",
       "    </tr>\n",
       "    <tr>\n",
       "      <th>f1</th>\n",
       "      <td>0.099815</td>\n",
       "      <td>0.396421</td>\n",
       "      <td>0.339516</td>\n",
       "    </tr>\n",
       "  </tbody>\n",
       "</table>\n",
       "</div>"
      ],
      "text/plain": [
       "           Linear_Regression  Logistic_Regression  Random_Forests\n",
       "accuracy            0.968763             0.969888        0.965969\n",
       "precision           0.418373             0.584717        0.478343\n",
       "recall              0.060813             0.304738        0.267137\n",
       "f1                  0.099815             0.396421        0.339516"
      ]
     },
     "execution_count": 89,
     "metadata": {},
     "output_type": "execute_result"
    }
   ],
   "source": [
    "# calculate Linear regression, logistic regression, random forest results again using all features\n",
    "linRegDF = cross_val_LinReg_DF(X,y)\n",
    "logRegDF = cross_val_LogReg_DF(X,y)\n",
    "RandomForestDF = cross_val_RandomForest_DF(X,y)\n",
    "# merge all 3 models into dataframe\n",
    "ResultsDF_allFeatures = pd.concat([linRegDF, logRegDF, RandomForestDF], axis=1)\n",
    "ResultsDF_allFeatures"
   ]
  },
  {
   "cell_type": "markdown",
   "id": "greenhouse-buddy",
   "metadata": {},
   "source": [
    "- As we can see here, each model performs with ~97% accuracy again.\n",
    "- The main thing to note for this test is the improvement of the logistic regression model without dates.\n",
    "    - However, it is still less accurate than the first test.\n",
    "- The Random Forest model has a decreased numbers for every score"
   ]
  },
  {
   "cell_type": "markdown",
   "id": "temporal-emphasis",
   "metadata": {},
   "source": [
    "#### 5.2.2.3 Remove the 'elderly' feature"
   ]
  },
  {
   "cell_type": "code",
   "execution_count": 90,
   "id": "assured-insured",
   "metadata": {},
   "outputs": [],
   "source": [
    "# dataframe with all features = original dataframe\n",
    "df_all = pd.get_dummies(df)"
   ]
  },
  {
   "cell_type": "code",
   "execution_count": 91,
   "id": "atomic-doctrine",
   "metadata": {},
   "outputs": [
    {
     "data": {
      "text/plain": [
       "status                                                                 int64\n",
       "sex                                                                    int64\n",
       "death                                                                  int64\n",
       "age_group_10 - 19 Years                                                uint8\n",
       "age_group_20 - 29 Years                                                uint8\n",
       "age_group_30 - 39 Years                                                uint8\n",
       "age_group_40 - 49 Years                                                uint8\n",
       "age_group_50 - 59 Years                                                uint8\n",
       "age_group_60 - 69 Years                                                uint8\n",
       "age_group_70 - 79 Years                                                uint8\n",
       "age_group_80+ Years                                                    uint8\n",
       "race_ethnicity_Asian, Non-Hispanic                                     uint8\n",
       "race_ethnicity_Black, Non-Hispanic                                     uint8\n",
       "race_ethnicity_Hispanic/Latino                                         uint8\n",
       "race_ethnicity_Missing                                                 uint8\n",
       "race_ethnicity_Multiple/Other, Non-Hispanic                            uint8\n",
       "race_ethnicity_Native Hawaiian/Other Pacific Islander, Non-Hispanic    uint8\n",
       "race_ethnicity_Unknown                                                 uint8\n",
       "race_ethnicity_White, Non-Hispanic                                     uint8\n",
       "hosp_No                                                                uint8\n",
       "hosp_Unknown                                                           uint8\n",
       "hosp_Yes                                                               uint8\n",
       "quarter_fourth                                                         uint8\n",
       "quarter_second                                                         uint8\n",
       "quarter_third                                                          uint8\n",
       "dtype: object"
      ]
     },
     "execution_count": 91,
     "metadata": {},
     "output_type": "execute_result"
    }
   ],
   "source": [
    "# drop redundant columns: 'report_date', 'age_group_0 – 9 Years', 'race_ethnicity_American Indian/Alaska Native, Non-Hispanic'\n",
    "# 'hosp_Missing', 'quarter_first', 'missing_report', 'earliest_date', 'time_dif', 'elderly'\n",
    "\n",
    "df_all = df_all.drop(['earliest_date', 'report_date', 'age_group_0 - 9 Years',\\\n",
    "                      'race_ethnicity_American Indian/Alaska Native, Non-Hispanic',\\\n",
    "                      'hosp_Missing', 'quarter_first', 'missing_report', 'time_dif',\\\n",
    "                     'elderly'],1)\n",
    "\n",
    "\n",
    "df_all.dtypes"
   ]
  },
  {
   "cell_type": "code",
   "execution_count": 92,
   "id": "right-harassment",
   "metadata": {},
   "outputs": [
    {
     "name": "stdout",
     "output_type": "stream",
     "text": [
      "number of features incl dummies:  24\n"
     ]
    }
   ],
   "source": [
    "# set X,y\n",
    "y = df_all[\"death\"]\n",
    "X = df_all.drop([\"death\"],1)\n",
    "print(\"number of features incl dummies: \", len(X.columns))"
   ]
  },
  {
   "cell_type": "code",
   "execution_count": 93,
   "id": "brazilian-miller",
   "metadata": {},
   "outputs": [
    {
     "data": {
      "text/html": [
       "<div>\n",
       "<style scoped>\n",
       "    .dataframe tbody tr th:only-of-type {\n",
       "        vertical-align: middle;\n",
       "    }\n",
       "\n",
       "    .dataframe tbody tr th {\n",
       "        vertical-align: top;\n",
       "    }\n",
       "\n",
       "    .dataframe thead th {\n",
       "        text-align: right;\n",
       "    }\n",
       "</style>\n",
       "<table border=\"1\" class=\"dataframe\">\n",
       "  <thead>\n",
       "    <tr style=\"text-align: right;\">\n",
       "      <th></th>\n",
       "      <th>Linear_Regression</th>\n",
       "      <th>Logistic_Regression</th>\n",
       "      <th>Random_Forests</th>\n",
       "    </tr>\n",
       "  </thead>\n",
       "  <tbody>\n",
       "    <tr>\n",
       "      <th>accuracy</th>\n",
       "      <td>0.968729</td>\n",
       "      <td>0.970094</td>\n",
       "      <td>0.966278</td>\n",
       "    </tr>\n",
       "    <tr>\n",
       "      <th>precision</th>\n",
       "      <td>0.394375</td>\n",
       "      <td>0.594021</td>\n",
       "      <td>0.484755</td>\n",
       "    </tr>\n",
       "    <tr>\n",
       "      <th>recall</th>\n",
       "      <td>0.049326</td>\n",
       "      <td>0.304738</td>\n",
       "      <td>0.266935</td>\n",
       "    </tr>\n",
       "    <tr>\n",
       "      <th>f1</th>\n",
       "      <td>0.081633</td>\n",
       "      <td>0.398128</td>\n",
       "      <td>0.341531</td>\n",
       "    </tr>\n",
       "  </tbody>\n",
       "</table>\n",
       "</div>"
      ],
      "text/plain": [
       "           Linear_Regression  Logistic_Regression  Random_Forests\n",
       "accuracy            0.968729             0.970094        0.966278\n",
       "precision           0.394375             0.594021        0.484755\n",
       "recall              0.049326             0.304738        0.266935\n",
       "f1                  0.081633             0.398128        0.341531"
      ]
     },
     "execution_count": 93,
     "metadata": {},
     "output_type": "execute_result"
    }
   ],
   "source": [
    "# calculate Linear regression, logistic regression, random forest results again using all features\n",
    "linRegDF = cross_val_LinReg_DF(X,y)\n",
    "logRegDF = cross_val_LogReg_DF(X,y)\n",
    "RandomForestDF = cross_val_RandomForest_DF(X,y)\n",
    "# merge all 3 models into dataframe\n",
    "ResultsDF_allFeatures = pd.concat([linRegDF, logRegDF, RandomForestDF], axis=1)\n",
    "ResultsDF_allFeatures"
   ]
  },
  {
   "cell_type": "markdown",
   "id": "scenic-collar",
   "metadata": {},
   "source": [
    "- As we can see, the logistic regression model is slightly improved again, but is still not as good in the recall and f1 scores as its original test."
   ]
  },
  {
   "cell_type": "markdown",
   "id": "attempted-dimension",
   "metadata": {},
   "source": [
    "#### 5.2.2.4 Remove the 'quarter' features\n",
    "- As these are date-related, and it has been established that dates are not the most relevant in the way of predicting a death, as described in section 1.2.1, we  will test the models with the 'quarter' features dropped."
   ]
  },
  {
   "cell_type": "code",
   "execution_count": 94,
   "id": "imposed-bullet",
   "metadata": {},
   "outputs": [],
   "source": [
    "# dataframe with all features = original dataframe\n",
    "df_all = pd.get_dummies(df)"
   ]
  },
  {
   "cell_type": "code",
   "execution_count": 95,
   "id": "threatened-rachel",
   "metadata": {},
   "outputs": [
    {
     "data": {
      "text/plain": [
       "status                                                                 int64\n",
       "sex                                                                    int64\n",
       "death                                                                  int64\n",
       "age_group_10 - 19 Years                                                uint8\n",
       "age_group_20 - 29 Years                                                uint8\n",
       "age_group_30 - 39 Years                                                uint8\n",
       "age_group_40 - 49 Years                                                uint8\n",
       "age_group_50 - 59 Years                                                uint8\n",
       "age_group_60 - 69 Years                                                uint8\n",
       "age_group_70 - 79 Years                                                uint8\n",
       "age_group_80+ Years                                                    uint8\n",
       "race_ethnicity_Asian, Non-Hispanic                                     uint8\n",
       "race_ethnicity_Black, Non-Hispanic                                     uint8\n",
       "race_ethnicity_Hispanic/Latino                                         uint8\n",
       "race_ethnicity_Missing                                                 uint8\n",
       "race_ethnicity_Multiple/Other, Non-Hispanic                            uint8\n",
       "race_ethnicity_Native Hawaiian/Other Pacific Islander, Non-Hispanic    uint8\n",
       "race_ethnicity_Unknown                                                 uint8\n",
       "race_ethnicity_White, Non-Hispanic                                     uint8\n",
       "hosp_No                                                                uint8\n",
       "hosp_Unknown                                                           uint8\n",
       "hosp_Yes                                                               uint8\n",
       "dtype: object"
      ]
     },
     "execution_count": 95,
     "metadata": {},
     "output_type": "execute_result"
    }
   ],
   "source": [
    "# drop redundant columns: 'report_date', 'age_group_0 – 9 Years', 'race_ethnicity_American Indian/Alaska Native, Non-Hispanic'\n",
    "# 'hosp_Missing', 'quarter_first', 'missing_report', 'earliest_date', 'time_dif', 'elderly', 'quarter_fourth', \n",
    "# quarter_second', 'quarter_third '\n",
    "\n",
    "df_all = df_all.drop(['earliest_date', 'report_date', 'age_group_0 - 9 Years',\\\n",
    "                      'race_ethnicity_American Indian/Alaska Native, Non-Hispanic',\\\n",
    "                      'hosp_Missing', 'quarter_first', 'missing_report', 'time_dif',\\\n",
    "                     'elderly', 'quarter_fourth', 'quarter_second', 'quarter_third'],1)\n",
    "\n",
    "\n",
    "df_all.dtypes"
   ]
  },
  {
   "cell_type": "code",
   "execution_count": 96,
   "id": "gentle-amount",
   "metadata": {},
   "outputs": [
    {
     "name": "stdout",
     "output_type": "stream",
     "text": [
      "number of features incl dummies:  21\n"
     ]
    }
   ],
   "source": [
    "# set X,y\n",
    "y = df_all[\"death\"]\n",
    "X = df_all.drop([\"death\"],1)\n",
    "print(\"number of features incl dummies: \", len(X.columns))"
   ]
  },
  {
   "cell_type": "code",
   "execution_count": 97,
   "id": "blond-voluntary",
   "metadata": {},
   "outputs": [
    {
     "data": {
      "text/html": [
       "<div>\n",
       "<style scoped>\n",
       "    .dataframe tbody tr th:only-of-type {\n",
       "        vertical-align: middle;\n",
       "    }\n",
       "\n",
       "    .dataframe tbody tr th {\n",
       "        vertical-align: top;\n",
       "    }\n",
       "\n",
       "    .dataframe thead th {\n",
       "        text-align: right;\n",
       "    }\n",
       "</style>\n",
       "<table border=\"1\" class=\"dataframe\">\n",
       "  <thead>\n",
       "    <tr style=\"text-align: right;\">\n",
       "      <th></th>\n",
       "      <th>Linear_Regression</th>\n",
       "      <th>Logistic_Regression</th>\n",
       "      <th>Random_Forests</th>\n",
       "    </tr>\n",
       "  </thead>\n",
       "  <tbody>\n",
       "    <tr>\n",
       "      <th>accuracy</th>\n",
       "      <td>0.968488</td>\n",
       "      <td>0.967826</td>\n",
       "      <td>0.966484</td>\n",
       "    </tr>\n",
       "    <tr>\n",
       "      <th>precision</th>\n",
       "      <td>0.193028</td>\n",
       "      <td>0.527218</td>\n",
       "      <td>0.477189</td>\n",
       "    </tr>\n",
       "    <tr>\n",
       "      <th>recall</th>\n",
       "      <td>0.039890</td>\n",
       "      <td>0.229637</td>\n",
       "      <td>0.247883</td>\n",
       "    </tr>\n",
       "    <tr>\n",
       "      <th>f1</th>\n",
       "      <td>0.061033</td>\n",
       "      <td>0.316401</td>\n",
       "      <td>0.324281</td>\n",
       "    </tr>\n",
       "  </tbody>\n",
       "</table>\n",
       "</div>"
      ],
      "text/plain": [
       "           Linear_Regression  Logistic_Regression  Random_Forests\n",
       "accuracy            0.968488             0.967826        0.966484\n",
       "precision           0.193028             0.527218        0.477189\n",
       "recall              0.039890             0.229637        0.247883\n",
       "f1                  0.061033             0.316401        0.324281"
      ]
     },
     "execution_count": 97,
     "metadata": {},
     "output_type": "execute_result"
    }
   ],
   "source": [
    "# calculate Linear regression, logistic regression, random forest results again using all features\n",
    "linRegDF = cross_val_LinReg_DF(X,y)\n",
    "logRegDF = cross_val_LogReg_DF(X,y)\n",
    "RandomForestDF = cross_val_RandomForest_DF(X,y)\n",
    "# merge all 3 models into dataframe\n",
    "ResultsDF_allFeatures = pd.concat([linRegDF, logRegDF, RandomForestDF], axis=1)\n",
    "ResultsDF_allFeatures"
   ]
  },
  {
   "cell_type": "markdown",
   "id": "buried-weather",
   "metadata": {},
   "source": [
    "- This test sees a disimprovement on the logistic regression model: in recall especially, but also in f1 and precision."
   ]
  },
  {
   "cell_type": "markdown",
   "id": "incident-quebec",
   "metadata": {},
   "source": [
    "#### 5.2.2.5 Remove the 'race_ethnicity' features but add back in the 'quarter' features\n",
    "- As the removal of the 'quarter' features made the model less accurate, we will add them back in, and try the evaluation without the 'race_ethnicity' features, as they had a large number of missing values, and a low correlation"
   ]
  },
  {
   "cell_type": "code",
   "execution_count": 98,
   "id": "important-henry",
   "metadata": {},
   "outputs": [],
   "source": [
    "# dataframe with all features = original dataframe\n",
    "df_all = pd.get_dummies(df)"
   ]
  },
  {
   "cell_type": "code",
   "execution_count": 99,
   "id": "inclusive-spoke",
   "metadata": {},
   "outputs": [
    {
     "data": {
      "text/plain": [
       "status                     int64\n",
       "sex                        int64\n",
       "death                      int64\n",
       "age_group_10 - 19 Years    uint8\n",
       "age_group_20 - 29 Years    uint8\n",
       "age_group_30 - 39 Years    uint8\n",
       "age_group_40 - 49 Years    uint8\n",
       "age_group_50 - 59 Years    uint8\n",
       "age_group_60 - 69 Years    uint8\n",
       "age_group_70 - 79 Years    uint8\n",
       "age_group_80+ Years        uint8\n",
       "hosp_No                    uint8\n",
       "hosp_Unknown               uint8\n",
       "hosp_Yes                   uint8\n",
       "quarter_fourth             uint8\n",
       "quarter_second             uint8\n",
       "quarter_third              uint8\n",
       "dtype: object"
      ]
     },
     "execution_count": 99,
     "metadata": {},
     "output_type": "execute_result"
    }
   ],
   "source": [
    "# drop redundant columns: 'report_date', 'age_group_0 – 9 Years', 'race_ethnicity_American Indian/Alaska Native, Non-Hispanic'\n",
    "# 'hosp_Missing', 'quarter_first', 'missing_report', 'earliest_date', 'time_dif', 'elderly'\n",
    "\n",
    "df_all = df_all.drop(['earliest_date', 'report_date', 'age_group_0 - 9 Years',\\\n",
    "                      'race_ethnicity_American Indian/Alaska Native, Non-Hispanic',\\\n",
    "                      'hosp_Missing', 'quarter_first', 'missing_report', 'time_dif',\\\n",
    "                     'elderly', 'race_ethnicity_Asian, Non-Hispanic', 'race_ethnicity_Black, Non-Hispanic',\\\n",
    "                     'race_ethnicity_Hispanic/Latino', 'race_ethnicity_Missing',\\\n",
    "                      'race_ethnicity_Multiple/Other, Non-Hispanic',\\\n",
    "                      'race_ethnicity_Native Hawaiian/Other Pacific Islander, Non-Hispanic',\\\n",
    "                     'race_ethnicity_Unknown', 'race_ethnicity_White, Non-Hispanic'],1)\n",
    "\n",
    "df_all.dtypes"
   ]
  },
  {
   "cell_type": "code",
   "execution_count": 100,
   "id": "desirable-machine",
   "metadata": {},
   "outputs": [
    {
     "name": "stdout",
     "output_type": "stream",
     "text": [
      "number of features incl dummies:  16\n"
     ]
    }
   ],
   "source": [
    "# set X,y\n",
    "y = df_all[\"death\"]\n",
    "X = df_all.drop([\"death\"],1)\n",
    "print(\"number of features incl dummies: \", len(X.columns))"
   ]
  },
  {
   "cell_type": "code",
   "execution_count": 101,
   "id": "baking-malaysia",
   "metadata": {},
   "outputs": [
    {
     "data": {
      "text/html": [
       "<div>\n",
       "<style scoped>\n",
       "    .dataframe tbody tr th:only-of-type {\n",
       "        vertical-align: middle;\n",
       "    }\n",
       "\n",
       "    .dataframe tbody tr th {\n",
       "        vertical-align: top;\n",
       "    }\n",
       "\n",
       "    .dataframe thead th {\n",
       "        text-align: right;\n",
       "    }\n",
       "</style>\n",
       "<table border=\"1\" class=\"dataframe\">\n",
       "  <thead>\n",
       "    <tr style=\"text-align: right;\">\n",
       "      <th></th>\n",
       "      <th>Linear_Regression</th>\n",
       "      <th>Logistic_Regression</th>\n",
       "      <th>Random_Forests</th>\n",
       "    </tr>\n",
       "  </thead>\n",
       "  <tbody>\n",
       "    <tr>\n",
       "      <th>accuracy</th>\n",
       "      <td>0.968900</td>\n",
       "      <td>0.969166</td>\n",
       "      <td>0.967103</td>\n",
       "    </tr>\n",
       "    <tr>\n",
       "      <th>precision</th>\n",
       "      <td>0.333095</td>\n",
       "      <td>0.557870</td>\n",
       "      <td>0.498119</td>\n",
       "    </tr>\n",
       "    <tr>\n",
       "      <th>recall</th>\n",
       "      <td>0.046552</td>\n",
       "      <td>0.311190</td>\n",
       "      <td>0.232460</td>\n",
       "    </tr>\n",
       "    <tr>\n",
       "      <th>f1</th>\n",
       "      <td>0.077298</td>\n",
       "      <td>0.394375</td>\n",
       "      <td>0.314419</td>\n",
       "    </tr>\n",
       "  </tbody>\n",
       "</table>\n",
       "</div>"
      ],
      "text/plain": [
       "           Linear_Regression  Logistic_Regression  Random_Forests\n",
       "accuracy            0.968900             0.969166        0.967103\n",
       "precision           0.333095             0.557870        0.498119\n",
       "recall              0.046552             0.311190        0.232460\n",
       "f1                  0.077298             0.394375        0.314419"
      ]
     },
     "execution_count": 101,
     "metadata": {},
     "output_type": "execute_result"
    }
   ],
   "source": [
    "# calculate Linear regression, logistic regression, random forest results again using all features\n",
    "linRegDF = cross_val_LinReg_DF(X,y)\n",
    "logRegDF = cross_val_LogReg_DF(X,y)\n",
    "RandomForestDF = cross_val_RandomForest_DF(X,y)\n",
    "# merge all 3 models into dataframe\n",
    "ResultsDF_allFeatures = pd.concat([linRegDF, logRegDF, RandomForestDF], axis=1)\n",
    "ResultsDF_allFeatures"
   ]
  },
  {
   "cell_type": "markdown",
   "id": "ideal-alberta",
   "metadata": {},
   "source": [
    "- This test showed an improvement on the one before it, but is still behind the original test in precision, recall and f1 scores."
   ]
  },
  {
   "cell_type": "markdown",
   "id": "urban-coffee",
   "metadata": {},
   "source": [
    "#### 5.2.2.6 Remove the 'status' feature\n",
    "- There are far more positives than negatives for this feature, so it is not an important feature to keep."
   ]
  },
  {
   "cell_type": "code",
   "execution_count": 102,
   "id": "dynamic-result",
   "metadata": {},
   "outputs": [],
   "source": [
    "# dataframe with all features = original dataframe\n",
    "df_all = pd.get_dummies(df)"
   ]
  },
  {
   "cell_type": "code",
   "execution_count": 103,
   "id": "minimal-liverpool",
   "metadata": {},
   "outputs": [
    {
     "data": {
      "text/plain": [
       "sex                        int64\n",
       "death                      int64\n",
       "age_group_10 - 19 Years    uint8\n",
       "age_group_20 - 29 Years    uint8\n",
       "age_group_30 - 39 Years    uint8\n",
       "age_group_40 - 49 Years    uint8\n",
       "age_group_50 - 59 Years    uint8\n",
       "age_group_60 - 69 Years    uint8\n",
       "age_group_70 - 79 Years    uint8\n",
       "age_group_80+ Years        uint8\n",
       "hosp_No                    uint8\n",
       "hosp_Unknown               uint8\n",
       "hosp_Yes                   uint8\n",
       "quarter_fourth             uint8\n",
       "quarter_second             uint8\n",
       "quarter_third              uint8\n",
       "dtype: object"
      ]
     },
     "execution_count": 103,
     "metadata": {},
     "output_type": "execute_result"
    }
   ],
   "source": [
    "# drop redundant columns: 'report_date', 'age_group_0 – 9 Years', 'race_ethnicity_American Indian/Alaska Native, Non-Hispanic'\n",
    "# 'hosp_Missing', 'quarter_first', 'missing_report', 'earliest_date', 'time_dif', 'elderly'\n",
    "\n",
    "df_all = df_all.drop(['earliest_date', 'report_date', 'age_group_0 - 9 Years',\\\n",
    "                      'race_ethnicity_American Indian/Alaska Native, Non-Hispanic',\\\n",
    "                      'hosp_Missing', 'quarter_first', 'missing_report', 'time_dif',\\\n",
    "                     'elderly', 'race_ethnicity_Asian, Non-Hispanic', 'race_ethnicity_Black, Non-Hispanic',\\\n",
    "                     'race_ethnicity_Hispanic/Latino', 'race_ethnicity_Missing',\\\n",
    "                      'race_ethnicity_Multiple/Other, Non-Hispanic',\\\n",
    "                      'race_ethnicity_Native Hawaiian/Other Pacific Islander, Non-Hispanic',\\\n",
    "                     'race_ethnicity_Unknown', 'race_ethnicity_White, Non-Hispanic',\\\n",
    "                     'status'],1)\n",
    "\n",
    "df_all.dtypes"
   ]
  },
  {
   "cell_type": "code",
   "execution_count": 104,
   "id": "exact-layer",
   "metadata": {},
   "outputs": [
    {
     "name": "stdout",
     "output_type": "stream",
     "text": [
      "number of features incl dummies:  15\n"
     ]
    }
   ],
   "source": [
    "# set X,y\n",
    "y = df_all[\"death\"]\n",
    "X = df_all.drop([\"death\"],1)\n",
    "print(\"number of features incl dummies: \", len(X.columns))"
   ]
  },
  {
   "cell_type": "code",
   "execution_count": 105,
   "id": "inner-wholesale",
   "metadata": {},
   "outputs": [
    {
     "data": {
      "text/html": [
       "<div>\n",
       "<style scoped>\n",
       "    .dataframe tbody tr th:only-of-type {\n",
       "        vertical-align: middle;\n",
       "    }\n",
       "\n",
       "    .dataframe tbody tr th {\n",
       "        vertical-align: top;\n",
       "    }\n",
       "\n",
       "    .dataframe thead th {\n",
       "        text-align: right;\n",
       "    }\n",
       "</style>\n",
       "<table border=\"1\" class=\"dataframe\">\n",
       "  <thead>\n",
       "    <tr style=\"text-align: right;\">\n",
       "      <th></th>\n",
       "      <th>Linear_Regression</th>\n",
       "      <th>Logistic_Regression</th>\n",
       "      <th>Random_Forests</th>\n",
       "    </tr>\n",
       "  </thead>\n",
       "  <tbody>\n",
       "    <tr>\n",
       "      <th>accuracy</th>\n",
       "      <td>0.969072</td>\n",
       "      <td>0.969578</td>\n",
       "      <td>0.967516</td>\n",
       "    </tr>\n",
       "    <tr>\n",
       "      <th>precision</th>\n",
       "      <td>0.378615</td>\n",
       "      <td>0.569773</td>\n",
       "      <td>0.520705</td>\n",
       "    </tr>\n",
       "    <tr>\n",
       "      <th>recall</th>\n",
       "      <td>0.052580</td>\n",
       "      <td>0.314113</td>\n",
       "      <td>0.210484</td>\n",
       "    </tr>\n",
       "    <tr>\n",
       "      <th>f1</th>\n",
       "      <td>0.085219</td>\n",
       "      <td>0.400703</td>\n",
       "      <td>0.295517</td>\n",
       "    </tr>\n",
       "  </tbody>\n",
       "</table>\n",
       "</div>"
      ],
      "text/plain": [
       "           Linear_Regression  Logistic_Regression  Random_Forests\n",
       "accuracy            0.969072             0.969578        0.967516\n",
       "precision           0.378615             0.569773        0.520705\n",
       "recall              0.052580             0.314113        0.210484\n",
       "f1                  0.085219             0.400703        0.295517"
      ]
     },
     "execution_count": 105,
     "metadata": {},
     "output_type": "execute_result"
    }
   ],
   "source": [
    "# calculate Linear regression, logistic regression, random forest results again using all features\n",
    "linRegDF = cross_val_LinReg_DF(X,y)\n",
    "logRegDF = cross_val_LogReg_DF(X,y)\n",
    "RandomForestDF = cross_val_RandomForest_DF(X,y)\n",
    "# merge all 3 models into dataframe\n",
    "ResultsDF_allFeatures = pd.concat([linRegDF, logRegDF, RandomForestDF], axis=1)\n",
    "ResultsDF_allFeatures"
   ]
  },
  {
   "cell_type": "markdown",
   "id": "logical-carnival",
   "metadata": {},
   "source": [
    "#### As we can see, an improvement again, but the original dataset with the logistic regression model is what performed best as seen in section 3.4.2"
   ]
  },
  {
   "cell_type": "markdown",
   "id": "affected-frequency",
   "metadata": {},
   "source": [
    "### 5.3 Take your best model trained and selected based on past data (ie your cleaned Homework1 dataset), and evaluate it on the new test dataset provided with this homework (in file '24032021-covid19-cdc-deathyn-recent-10k.csv')."
   ]
  },
  {
   "cell_type": "markdown",
   "id": "fuzzy-vehicle",
   "metadata": {},
   "source": [
    "### 5.3.1 Prepare the new test data set for evaluation on the model"
   ]
  },
  {
   "cell_type": "markdown",
   "id": "packed-evans",
   "metadata": {},
   "source": [
    "- Using the code from the previous homework I have cleaned the supplied csv for testing with the best model.\n",
    "    - I have included a copy of the notebook (slightly modified, so as not to save any cleaned csvs apart from the final one, or any plots as png files) from the previous exercise in this directory.\n",
    "    - The notebook is called HW1_copy.ipynb\n",
    "- From the resulting dataframe from above, I dropped the same features that I dropped in the data preparation for this exercise, which is shown below."
   ]
  },
  {
   "cell_type": "code",
   "execution_count": 106,
   "id": "concerned-bruce",
   "metadata": {},
   "outputs": [],
   "source": [
    "test_df = pd.read_csv('24032021-covid19-cdc-deathyn-recent-10k_cleaned.csv', index_col=0)"
   ]
  },
  {
   "cell_type": "code",
   "execution_count": 107,
   "id": "capital-eleven",
   "metadata": {},
   "outputs": [],
   "source": [
    "# convert \"death\" to 0,1\n",
    "test_df['death'] = test_df['death'].map({'Yes': 1, \"No\": 0})\n",
    "\n",
    "# convert \"death\" to type int\n",
    "test_df['death'] = test_df['death'].astype('int64')\n"
   ]
  },
  {
   "cell_type": "markdown",
   "id": "bright-major",
   "metadata": {},
   "source": [
    "#### drop unused columns"
   ]
  },
  {
   "cell_type": "code",
   "execution_count": 108,
   "id": "crazy-aspect",
   "metadata": {},
   "outputs": [
    {
     "name": "stdout",
     "output_type": "stream",
     "text": [
      "\n",
      "Remaining columns: Index(['age_group', 'hosp', 'death', 'quarter'], dtype='object')\n",
      "\n",
      "New shape: (9563, 4)\n"
     ]
    }
   ],
   "source": [
    "continuous_drop = list(test_df[['report_date', 'time_dif', 'earliest_date']].columns)\n",
    "categorical_drop = list(test_df[['status', 'sex', 'race_ethnicity', 'elderly']].columns)\n",
    "\n",
    "dropped = list(set(continuous_drop + categorical_drop))\n",
    "\n",
    "# make copy of dataframe\n",
    "test_df_rev1 = test_df.copy()\n",
    "\n",
    "test_df_rev1.drop(dropped, 1, inplace=True)\n",
    "\n",
    "print('\\nRemaining columns:', test_df_rev1.columns)\n",
    "print('\\nNew shape:', test_df_rev1.shape)"
   ]
  },
  {
   "cell_type": "markdown",
   "id": "retained-prevention",
   "metadata": {},
   "source": [
    "#### set up dummies features"
   ]
  },
  {
   "cell_type": "code",
   "execution_count": 109,
   "id": "common-receptor",
   "metadata": {},
   "outputs": [
    {
     "data": {
      "text/plain": [
       "death                      int64\n",
       "age_group_0 - 9 Years      uint8\n",
       "age_group_10 - 19 Years    uint8\n",
       "age_group_20 - 29 Years    uint8\n",
       "age_group_30 - 39 Years    uint8\n",
       "age_group_40 - 49 Years    uint8\n",
       "age_group_50 - 59 Years    uint8\n",
       "age_group_60 - 69 Years    uint8\n",
       "age_group_70 - 79 Years    uint8\n",
       "age_group_80+ Years        uint8\n",
       "hosp_Missing               uint8\n",
       "hosp_No                    uint8\n",
       "hosp_Unknown               uint8\n",
       "hosp_Yes                   uint8\n",
       "quarter_first              uint8\n",
       "quarter_fourth             uint8\n",
       "quarter_third              uint8\n",
       "dtype: object"
      ]
     },
     "execution_count": 109,
     "metadata": {},
     "output_type": "execute_result"
    }
   ],
   "source": [
    "test_df_rev1 = pd.get_dummies(test_df_rev1)\n",
    "test_df_rev1.dtypes"
   ]
  },
  {
   "cell_type": "markdown",
   "id": "capital-patient",
   "metadata": {},
   "source": [
    "#### drop redundant columns"
   ]
  },
  {
   "cell_type": "code",
   "execution_count": 110,
   "id": "political-premium",
   "metadata": {},
   "outputs": [],
   "source": [
    "test_df_rev1 = test_df_rev1.drop(['age_group_0 - 9 Years','hosp_Missing'],1)"
   ]
  },
  {
   "cell_type": "code",
   "execution_count": 111,
   "id": "favorite-knife",
   "metadata": {},
   "outputs": [
    {
     "data": {
      "text/html": [
       "<div>\n",
       "<style scoped>\n",
       "    .dataframe tbody tr th:only-of-type {\n",
       "        vertical-align: middle;\n",
       "    }\n",
       "\n",
       "    .dataframe tbody tr th {\n",
       "        vertical-align: top;\n",
       "    }\n",
       "\n",
       "    .dataframe thead th {\n",
       "        text-align: right;\n",
       "    }\n",
       "</style>\n",
       "<table border=\"1\" class=\"dataframe\">\n",
       "  <thead>\n",
       "    <tr style=\"text-align: right;\">\n",
       "      <th></th>\n",
       "      <th>death</th>\n",
       "      <th>age_group_10 - 19 Years</th>\n",
       "      <th>age_group_20 - 29 Years</th>\n",
       "      <th>age_group_30 - 39 Years</th>\n",
       "      <th>age_group_40 - 49 Years</th>\n",
       "      <th>age_group_50 - 59 Years</th>\n",
       "      <th>age_group_60 - 69 Years</th>\n",
       "      <th>age_group_70 - 79 Years</th>\n",
       "      <th>age_group_80+ Years</th>\n",
       "      <th>hosp_No</th>\n",
       "      <th>hosp_Unknown</th>\n",
       "      <th>hosp_Yes</th>\n",
       "      <th>quarter_first</th>\n",
       "      <th>quarter_fourth</th>\n",
       "      <th>quarter_third</th>\n",
       "    </tr>\n",
       "  </thead>\n",
       "  <tbody>\n",
       "    <tr>\n",
       "      <th>0</th>\n",
       "      <td>0</td>\n",
       "      <td>0</td>\n",
       "      <td>0</td>\n",
       "      <td>0</td>\n",
       "      <td>0</td>\n",
       "      <td>0</td>\n",
       "      <td>0</td>\n",
       "      <td>0</td>\n",
       "      <td>0</td>\n",
       "      <td>1</td>\n",
       "      <td>0</td>\n",
       "      <td>0</td>\n",
       "      <td>0</td>\n",
       "      <td>1</td>\n",
       "      <td>0</td>\n",
       "    </tr>\n",
       "    <tr>\n",
       "      <th>1</th>\n",
       "      <td>0</td>\n",
       "      <td>0</td>\n",
       "      <td>0</td>\n",
       "      <td>1</td>\n",
       "      <td>0</td>\n",
       "      <td>0</td>\n",
       "      <td>0</td>\n",
       "      <td>0</td>\n",
       "      <td>0</td>\n",
       "      <td>0</td>\n",
       "      <td>1</td>\n",
       "      <td>0</td>\n",
       "      <td>0</td>\n",
       "      <td>1</td>\n",
       "      <td>0</td>\n",
       "    </tr>\n",
       "    <tr>\n",
       "      <th>2</th>\n",
       "      <td>0</td>\n",
       "      <td>0</td>\n",
       "      <td>0</td>\n",
       "      <td>0</td>\n",
       "      <td>1</td>\n",
       "      <td>0</td>\n",
       "      <td>0</td>\n",
       "      <td>0</td>\n",
       "      <td>0</td>\n",
       "      <td>0</td>\n",
       "      <td>0</td>\n",
       "      <td>0</td>\n",
       "      <td>0</td>\n",
       "      <td>1</td>\n",
       "      <td>0</td>\n",
       "    </tr>\n",
       "    <tr>\n",
       "      <th>3</th>\n",
       "      <td>0</td>\n",
       "      <td>0</td>\n",
       "      <td>0</td>\n",
       "      <td>0</td>\n",
       "      <td>1</td>\n",
       "      <td>0</td>\n",
       "      <td>0</td>\n",
       "      <td>0</td>\n",
       "      <td>0</td>\n",
       "      <td>1</td>\n",
       "      <td>0</td>\n",
       "      <td>0</td>\n",
       "      <td>0</td>\n",
       "      <td>1</td>\n",
       "      <td>0</td>\n",
       "    </tr>\n",
       "    <tr>\n",
       "      <th>4</th>\n",
       "      <td>0</td>\n",
       "      <td>0</td>\n",
       "      <td>0</td>\n",
       "      <td>0</td>\n",
       "      <td>1</td>\n",
       "      <td>0</td>\n",
       "      <td>0</td>\n",
       "      <td>0</td>\n",
       "      <td>0</td>\n",
       "      <td>1</td>\n",
       "      <td>0</td>\n",
       "      <td>0</td>\n",
       "      <td>0</td>\n",
       "      <td>1</td>\n",
       "      <td>0</td>\n",
       "    </tr>\n",
       "    <tr>\n",
       "      <th>...</th>\n",
       "      <td>...</td>\n",
       "      <td>...</td>\n",
       "      <td>...</td>\n",
       "      <td>...</td>\n",
       "      <td>...</td>\n",
       "      <td>...</td>\n",
       "      <td>...</td>\n",
       "      <td>...</td>\n",
       "      <td>...</td>\n",
       "      <td>...</td>\n",
       "      <td>...</td>\n",
       "      <td>...</td>\n",
       "      <td>...</td>\n",
       "      <td>...</td>\n",
       "      <td>...</td>\n",
       "    </tr>\n",
       "    <tr>\n",
       "      <th>9558</th>\n",
       "      <td>0</td>\n",
       "      <td>0</td>\n",
       "      <td>0</td>\n",
       "      <td>1</td>\n",
       "      <td>0</td>\n",
       "      <td>0</td>\n",
       "      <td>0</td>\n",
       "      <td>0</td>\n",
       "      <td>0</td>\n",
       "      <td>0</td>\n",
       "      <td>0</td>\n",
       "      <td>0</td>\n",
       "      <td>0</td>\n",
       "      <td>1</td>\n",
       "      <td>0</td>\n",
       "    </tr>\n",
       "    <tr>\n",
       "      <th>9559</th>\n",
       "      <td>0</td>\n",
       "      <td>0</td>\n",
       "      <td>0</td>\n",
       "      <td>0</td>\n",
       "      <td>0</td>\n",
       "      <td>1</td>\n",
       "      <td>0</td>\n",
       "      <td>0</td>\n",
       "      <td>0</td>\n",
       "      <td>1</td>\n",
       "      <td>0</td>\n",
       "      <td>0</td>\n",
       "      <td>0</td>\n",
       "      <td>1</td>\n",
       "      <td>0</td>\n",
       "    </tr>\n",
       "    <tr>\n",
       "      <th>9560</th>\n",
       "      <td>0</td>\n",
       "      <td>1</td>\n",
       "      <td>0</td>\n",
       "      <td>0</td>\n",
       "      <td>0</td>\n",
       "      <td>0</td>\n",
       "      <td>0</td>\n",
       "      <td>0</td>\n",
       "      <td>0</td>\n",
       "      <td>0</td>\n",
       "      <td>0</td>\n",
       "      <td>0</td>\n",
       "      <td>0</td>\n",
       "      <td>1</td>\n",
       "      <td>0</td>\n",
       "    </tr>\n",
       "    <tr>\n",
       "      <th>9561</th>\n",
       "      <td>0</td>\n",
       "      <td>0</td>\n",
       "      <td>1</td>\n",
       "      <td>0</td>\n",
       "      <td>0</td>\n",
       "      <td>0</td>\n",
       "      <td>0</td>\n",
       "      <td>0</td>\n",
       "      <td>0</td>\n",
       "      <td>0</td>\n",
       "      <td>0</td>\n",
       "      <td>0</td>\n",
       "      <td>0</td>\n",
       "      <td>1</td>\n",
       "      <td>0</td>\n",
       "    </tr>\n",
       "    <tr>\n",
       "      <th>9562</th>\n",
       "      <td>0</td>\n",
       "      <td>0</td>\n",
       "      <td>0</td>\n",
       "      <td>0</td>\n",
       "      <td>1</td>\n",
       "      <td>0</td>\n",
       "      <td>0</td>\n",
       "      <td>0</td>\n",
       "      <td>0</td>\n",
       "      <td>1</td>\n",
       "      <td>0</td>\n",
       "      <td>0</td>\n",
       "      <td>0</td>\n",
       "      <td>1</td>\n",
       "      <td>0</td>\n",
       "    </tr>\n",
       "  </tbody>\n",
       "</table>\n",
       "<p>9563 rows × 15 columns</p>\n",
       "</div>"
      ],
      "text/plain": [
       "      death  age_group_10 - 19 Years  age_group_20 - 29 Years  \\\n",
       "0         0                        0                        0   \n",
       "1         0                        0                        0   \n",
       "2         0                        0                        0   \n",
       "3         0                        0                        0   \n",
       "4         0                        0                        0   \n",
       "...     ...                      ...                      ...   \n",
       "9558      0                        0                        0   \n",
       "9559      0                        0                        0   \n",
       "9560      0                        1                        0   \n",
       "9561      0                        0                        1   \n",
       "9562      0                        0                        0   \n",
       "\n",
       "      age_group_30 - 39 Years  age_group_40 - 49 Years  \\\n",
       "0                           0                        0   \n",
       "1                           1                        0   \n",
       "2                           0                        1   \n",
       "3                           0                        1   \n",
       "4                           0                        1   \n",
       "...                       ...                      ...   \n",
       "9558                        1                        0   \n",
       "9559                        0                        0   \n",
       "9560                        0                        0   \n",
       "9561                        0                        0   \n",
       "9562                        0                        1   \n",
       "\n",
       "      age_group_50 - 59 Years  age_group_60 - 69 Years  \\\n",
       "0                           0                        0   \n",
       "1                           0                        0   \n",
       "2                           0                        0   \n",
       "3                           0                        0   \n",
       "4                           0                        0   \n",
       "...                       ...                      ...   \n",
       "9558                        0                        0   \n",
       "9559                        1                        0   \n",
       "9560                        0                        0   \n",
       "9561                        0                        0   \n",
       "9562                        0                        0   \n",
       "\n",
       "      age_group_70 - 79 Years  age_group_80+ Years  hosp_No  hosp_Unknown  \\\n",
       "0                           0                    0        1             0   \n",
       "1                           0                    0        0             1   \n",
       "2                           0                    0        0             0   \n",
       "3                           0                    0        1             0   \n",
       "4                           0                    0        1             0   \n",
       "...                       ...                  ...      ...           ...   \n",
       "9558                        0                    0        0             0   \n",
       "9559                        0                    0        1             0   \n",
       "9560                        0                    0        0             0   \n",
       "9561                        0                    0        0             0   \n",
       "9562                        0                    0        1             0   \n",
       "\n",
       "      hosp_Yes  quarter_first  quarter_fourth  quarter_third  \n",
       "0            0              0               1              0  \n",
       "1            0              0               1              0  \n",
       "2            0              0               1              0  \n",
       "3            0              0               1              0  \n",
       "4            0              0               1              0  \n",
       "...        ...            ...             ...            ...  \n",
       "9558         0              0               1              0  \n",
       "9559         0              0               1              0  \n",
       "9560         0              0               1              0  \n",
       "9561         0              0               1              0  \n",
       "9562         0              0               1              0  \n",
       "\n",
       "[9563 rows x 15 columns]"
      ]
     },
     "execution_count": 111,
     "metadata": {},
     "output_type": "execute_result"
    }
   ],
   "source": [
    "test_df_rev1"
   ]
  },
  {
   "cell_type": "code",
   "execution_count": 112,
   "id": "catholic-helmet",
   "metadata": {},
   "outputs": [],
   "source": [
    "# set X,y\n",
    "y = test_df_rev1[\"death\"]\n",
    "X = test_df_rev1.drop([\"death\"],1)"
   ]
  },
  {
   "cell_type": "markdown",
   "id": "incorporated-majority",
   "metadata": {},
   "source": [
    "### 5.3.2 Evaluate the model on the new cleaned test dataset"
   ]
  },
  {
   "cell_type": "markdown",
   "id": "planned-peter",
   "metadata": {},
   "source": [
    "Printing Actual RiskPerformance vs predicted based on test data"
   ]
  },
  {
   "cell_type": "code",
   "execution_count": 113,
   "id": "younger-arkansas",
   "metadata": {},
   "outputs": [
    {
     "data": {
      "text/plain": [
       "Index(['age_group_10 - 19 Years', 'age_group_20 - 29 Years',\n",
       "       'age_group_30 - 39 Years', 'age_group_40 - 49 Years',\n",
       "       'age_group_50 - 59 Years', 'age_group_60 - 69 Years',\n",
       "       'age_group_70 - 79 Years', 'age_group_80+ Years', 'hosp_No',\n",
       "       'hosp_Unknown', 'hosp_Yes', 'quarter_first', 'quarter_fourth',\n",
       "       'quarter_third'],\n",
       "      dtype='object')"
      ]
     },
     "execution_count": 113,
     "metadata": {},
     "output_type": "execute_result"
    }
   ],
   "source": [
    "X.columns"
   ]
  },
  {
   "cell_type": "code",
   "execution_count": 114,
   "id": "labeled-victim",
   "metadata": {},
   "outputs": [
    {
     "name": "stdout",
     "output_type": "stream",
     "text": [
      "\n",
      "Predictions with multiple linear regression: \n",
      "\n",
      "    death  Predicted\n",
      "0       0          0\n",
      "1       0          0\n",
      "2       0          0\n",
      "3       0          0\n",
      "4       0          0\n",
      "5       0          0\n",
      "6       0          0\n",
      "7       0          0\n",
      "8       0          0\n",
      "9       0          0\n",
      "10      0          0\n",
      "11      0          0\n",
      "12      0          0\n",
      "13      0          0\n",
      "14      0          0\n",
      "15      0          0\n",
      "16      0          0\n",
      "17      0          0\n",
      "18      0          0\n",
      "19      0          0\n"
     ]
    }
   ],
   "source": [
    "# calculate the prediction and threshold the value. If >= 0.5 its true\n",
    "multiple_logisticreg_predictions_test = multiple_logisticreg.predict(X)\n",
    "\n",
    "print(\"\\nPredictions with multiple linear regression: \\n\")\n",
    "actual_vs_predicted_multiplelogisticreg = pd.concat([y, pd.DataFrame(multiple_logisticreg_predictions_test, columns=['Predicted'])], axis=1)\n",
    "print(actual_vs_predicted_multiplelogisticreg.head(20))"
   ]
  },
  {
   "cell_type": "code",
   "execution_count": 115,
   "id": "amateur-record",
   "metadata": {},
   "outputs": [
    {
     "name": "stdout",
     "output_type": "stream",
     "text": [
      "==================== Test Data =======================\n",
      "Accuracy:  0.9801317578165848\n",
      "Confusion matrix: \n",
      " [[9331  113]\n",
      " [  77   42]]\n",
      "Classification report:\n",
      "                precision    recall  f1-score   support\n",
      "\n",
      "           0       0.99      0.99      0.99      9444\n",
      "           1       0.27      0.35      0.31       119\n",
      "\n",
      "    accuracy                           0.98      9563\n",
      "   macro avg       0.63      0.67      0.65      9563\n",
      "weighted avg       0.98      0.98      0.98      9563\n",
      "\n"
     ]
    }
   ],
   "source": [
    "# Some more evaluation metrics.\n",
    "print(\"==================== Test Data =======================\")\n",
    "print(\"Accuracy: \", metrics.accuracy_score(y, multiple_logisticreg_predictions_test))\n",
    "print(\"Confusion matrix: \\n\", metrics.confusion_matrix(y, multiple_logisticreg_predictions_test))\n",
    "print(\"Classification report:\\n \", metrics.classification_report(y, multiple_logisticreg_predictions_test))"
   ]
  },
  {
   "cell_type": "markdown",
   "id": "miniature-dryer",
   "metadata": {},
   "source": [
    "#### Interpretation of test results and comparison with training results \n",
    "- Accuracy\n",
    "    - The accuracy of the test data is slightly higher at 98% than the training data. \n",
    "- Precision\n",
    "    - The precision score for predicting the positive case has decreased from 57% to 27%.\n",
    "- Recall\n",
    "    - The recall score for predicting the positive case has increased from 32% to 35%.\n",
    "- F1\n",
    "    - The f1 score for predicting the positive case has decreased from ~41% to 31%.\n",
    "\n",
    "Summary\n",
    "- These values seem reasonable\n",
    "- The overall accuracy level has remained the same.\n",
    "- The precision has decreased the mpst significantly – by 30%\n",
    "- However the recall and f1 values have decreased by less: 3% and 10% respectively."
   ]
  },
  {
   "cell_type": "markdown",
   "id": "employed-collective",
   "metadata": {},
   "source": [
    "### 5.3.4 Final Summary:\n",
    "- 3 models have been evaluated: linear regression, logistic regression, and random forests\n",
    "- A number of attempts were made to improve the models through changing the features used in prediction\n",
    "- While logistic regression may have performed the best, I think the dataset had a lot to do with this\n",
    "- I think that large amounts of missing data made accurate prediction difficult\n",
    "- In combination with the above point, I think that the vast number of non-deaths compared with deaths made predicting a death difficult\n",
    "- As a result of these points, each of the models tested was very accurate overall, but not as accurate in predicting the target feature.\n"
   ]
  },
  {
   "cell_type": "code",
   "execution_count": null,
   "id": "conventional-effectiveness",
   "metadata": {},
   "outputs": [],
   "source": []
  }
 ],
 "metadata": {
  "kernelspec": {
   "display_name": "Python 3",
   "language": "python",
   "name": "python3"
  },
  "language_info": {
   "codemirror_mode": {
    "name": "ipython",
    "version": 3
   },
   "file_extension": ".py",
   "mimetype": "text/x-python",
   "name": "python",
   "nbconvert_exporter": "python",
   "pygments_lexer": "ipython3",
   "version": "3.8.5"
  }
 },
 "nbformat": 4,
 "nbformat_minor": 5
}
